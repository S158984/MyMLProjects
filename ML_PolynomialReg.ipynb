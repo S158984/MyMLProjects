{
 "cells": [
  {
   "cell_type": "code",
   "execution_count": 3,
   "id": "0604cc17-22cc-4d6a-95cf-204a7c9de633",
   "metadata": {},
   "outputs": [],
   "source": [
    "import pandas as pd\n",
    "import numpy as np\n",
    "import os \n",
    "import matplotlib.pyplot as plt\n",
    "from  sklearn.metrics import r2_score"
   ]
  },
  {
   "cell_type": "code",
   "execution_count": 2,
   "id": "15c634ae-f146-4524-b045-c8afd55b5920",
   "metadata": {},
   "outputs": [
    {
     "data": {
      "text/plain": [
       "'F:\\\\TopMentor_DataScience\\\\Batch 103 Day 33'"
      ]
     },
     "execution_count": 2,
     "metadata": {},
     "output_type": "execute_result"
    }
   ],
   "source": [
    "os.chdir('F:\\TopMentor_DataScience\\Batch 103 Day 33')\n",
    "os.getcwd()"
   ]
  },
  {
   "cell_type": "code",
   "execution_count": 4,
   "id": "e3f3a2c4-592f-4e10-8e34-acb073e462ce",
   "metadata": {},
   "outputs": [
    {
     "data": {
      "text/html": [
       "<div>\n",
       "<style scoped>\n",
       "    .dataframe tbody tr th:only-of-type {\n",
       "        vertical-align: middle;\n",
       "    }\n",
       "\n",
       "    .dataframe tbody tr th {\n",
       "        vertical-align: top;\n",
       "    }\n",
       "\n",
       "    .dataframe thead th {\n",
       "        text-align: right;\n",
       "    }\n",
       "</style>\n",
       "<table border=\"1\" class=\"dataframe\">\n",
       "  <thead>\n",
       "    <tr style=\"text-align: right;\">\n",
       "      <th></th>\n",
       "      <th>Age</th>\n",
       "      <th>Height</th>\n",
       "    </tr>\n",
       "  </thead>\n",
       "  <tbody>\n",
       "    <tr>\n",
       "      <th>0</th>\n",
       "      <td>10</td>\n",
       "      <td>138</td>\n",
       "    </tr>\n",
       "    <tr>\n",
       "      <th>1</th>\n",
       "      <td>11</td>\n",
       "      <td>138</td>\n",
       "    </tr>\n",
       "    <tr>\n",
       "      <th>2</th>\n",
       "      <td>12</td>\n",
       "      <td>138</td>\n",
       "    </tr>\n",
       "    <tr>\n",
       "      <th>3</th>\n",
       "      <td>13</td>\n",
       "      <td>139</td>\n",
       "    </tr>\n",
       "    <tr>\n",
       "      <th>4</th>\n",
       "      <td>14</td>\n",
       "      <td>139</td>\n",
       "    </tr>\n",
       "    <tr>\n",
       "      <th>...</th>\n",
       "      <td>...</td>\n",
       "      <td>...</td>\n",
       "    </tr>\n",
       "    <tr>\n",
       "      <th>66</th>\n",
       "      <td>76</td>\n",
       "      <td>179</td>\n",
       "    </tr>\n",
       "    <tr>\n",
       "      <th>67</th>\n",
       "      <td>77</td>\n",
       "      <td>182</td>\n",
       "    </tr>\n",
       "    <tr>\n",
       "      <th>68</th>\n",
       "      <td>78</td>\n",
       "      <td>186</td>\n",
       "    </tr>\n",
       "    <tr>\n",
       "      <th>69</th>\n",
       "      <td>79</td>\n",
       "      <td>178</td>\n",
       "    </tr>\n",
       "    <tr>\n",
       "      <th>70</th>\n",
       "      <td>80</td>\n",
       "      <td>175</td>\n",
       "    </tr>\n",
       "  </tbody>\n",
       "</table>\n",
       "<p>71 rows × 2 columns</p>\n",
       "</div>"
      ],
      "text/plain": [
       "    Age  Height\n",
       "0    10     138\n",
       "1    11     138\n",
       "2    12     138\n",
       "3    13     139\n",
       "4    14     139\n",
       "..  ...     ...\n",
       "66   76     179\n",
       "67   77     182\n",
       "68   78     186\n",
       "69   79     178\n",
       "70   80     175\n",
       "\n",
       "[71 rows x 2 columns]"
      ]
     },
     "metadata": {},
     "output_type": "display_data"
    }
   ],
   "source": [
    "data = pd.read_csv('Height_Weight_Dataset.csv') \n",
    "display (data)\n"
   ]
  },
  {
   "cell_type": "code",
   "execution_count": 5,
   "id": "b56ca6af-8395-4ea8-b960-bfc9c7d5a1b7",
   "metadata": {},
   "outputs": [
    {
     "name": "stdout",
     "output_type": "stream",
     "text": [
      "(71, 1)\n",
      "[[10]\n",
      " [11]\n",
      " [12]\n",
      " [13]\n",
      " [14]\n",
      " [15]\n",
      " [16]\n",
      " [17]\n",
      " [18]\n",
      " [19]\n",
      " [20]\n",
      " [21]\n",
      " [22]\n",
      " [23]\n",
      " [24]\n",
      " [25]\n",
      " [26]\n",
      " [27]\n",
      " [28]\n",
      " [29]\n",
      " [30]\n",
      " [31]\n",
      " [32]\n",
      " [33]\n",
      " [34]\n",
      " [35]\n",
      " [36]\n",
      " [37]\n",
      " [38]\n",
      " [39]\n",
      " [40]\n",
      " [41]\n",
      " [42]\n",
      " [43]\n",
      " [44]\n",
      " [45]\n",
      " [46]\n",
      " [47]\n",
      " [48]\n",
      " [49]\n",
      " [50]\n",
      " [51]\n",
      " [52]\n",
      " [53]\n",
      " [54]\n",
      " [55]\n",
      " [56]\n",
      " [57]\n",
      " [58]\n",
      " [59]\n",
      " [60]\n",
      " [61]\n",
      " [62]\n",
      " [63]\n",
      " [64]\n",
      " [65]\n",
      " [66]\n",
      " [67]\n",
      " [68]\n",
      " [69]\n",
      " [70]\n",
      " [71]\n",
      " [72]\n",
      " [73]\n",
      " [74]\n",
      " [75]\n",
      " [76]\n",
      " [77]\n",
      " [78]\n",
      " [79]\n",
      " [80]]\n"
     ]
    }
   ],
   "source": [
    "x = data.iloc[:, 0:1].values \n",
    "print (x.shape)\n",
    "print (x)\n"
   ]
  },
  {
   "cell_type": "code",
   "execution_count": 6,
   "id": "5e0cf7e8-294e-4947-a055-583db2b69d0e",
   "metadata": {},
   "outputs": [
    {
     "name": "stdout",
     "output_type": "stream",
     "text": [
      "(71, 1)\n",
      "[[138]\n",
      " [138]\n",
      " [138]\n",
      " [139]\n",
      " [139]\n",
      " [139]\n",
      " [140]\n",
      " [140]\n",
      " [140]\n",
      " [141]\n",
      " [141]\n",
      " [141]\n",
      " [142]\n",
      " [142]\n",
      " [142]\n",
      " [143]\n",
      " [143]\n",
      " [143]\n",
      " [144]\n",
      " [144]\n",
      " [145]\n",
      " [145]\n",
      " [146]\n",
      " [146]\n",
      " [147]\n",
      " [147]\n",
      " [148]\n",
      " [148]\n",
      " [149]\n",
      " [149]\n",
      " [150]\n",
      " [150]\n",
      " [151]\n",
      " [152]\n",
      " [153]\n",
      " [155]\n",
      " [156]\n",
      " [157]\n",
      " [158]\n",
      " [159]\n",
      " [160]\n",
      " [161]\n",
      " [162]\n",
      " [163]\n",
      " [164]\n",
      " [164]\n",
      " [165]\n",
      " [166]\n",
      " [167]\n",
      " [168]\n",
      " [169]\n",
      " [170]\n",
      " [171]\n",
      " [172]\n",
      " [173]\n",
      " [175]\n",
      " [178]\n",
      " [180]\n",
      " [183]\n",
      " [180]\n",
      " [188]\n",
      " [179]\n",
      " [182]\n",
      " [182]\n",
      " [180]\n",
      " [178]\n",
      " [179]\n",
      " [182]\n",
      " [186]\n",
      " [178]\n",
      " [175]]\n"
     ]
    }
   ],
   "source": [
    "y = data.iloc[:, 1:].values \n",
    "print (y.shape)\n",
    "print (y)\n"
   ]
  },
  {
   "cell_type": "code",
   "execution_count": 7,
   "id": "0aa958f2-f5cc-479e-be6c-1cb9230437dc",
   "metadata": {},
   "outputs": [
    {
     "data": {
      "image/png": "[encoded data removed]",
      "text/plain": [
       "<Figure size 640x480 with 1 Axes>"
      ]
     },
     "metadata": {},
     "output_type": "display_data"
    }
   ],
   "source": [
    "#plot graph\n",
    "plt.plot(x,y)\n",
    "plt.xlabel('Age')\n",
    "plt.ylabel('Height')\n",
    "plt.show()\n"
   ]
  },
  {
   "cell_type": "code",
   "execution_count": 9,
   "id": "4da05261-1ad6-4e7a-b377-b2b6811fa00c",
   "metadata": {},
   "outputs": [],
   "source": [
    "from sklearn.model_selection import train_test_split\n"
   ]
  },
  {
   "cell_type": "code",
   "execution_count": 22,
   "id": "d8010b1e-911b-407f-be57-5de0af40a2a7",
   "metadata": {},
   "outputs": [],
   "source": [
    "x_train, x_test, y_train, y_test=train_test_split(x,y,test_size=0.2,random_state=0)"
   ]
  },
  {
   "cell_type": "code",
   "execution_count": 18,
   "id": "40a83492-e2cd-447f-9e77-20caaa9a12a9",
   "metadata": {},
   "outputs": [],
   "source": [
    "#x_train"
   ]
  },
  {
   "cell_type": "code",
   "execution_count": 23,
   "id": "db4c3ca7-4126-4866-9ae4-7894ae11bc0c",
   "metadata": {},
   "outputs": [
    {
     "name": "stdout",
     "output_type": "stream",
     "text": [
      "LinearRegression()\n"
     ]
    }
   ],
   "source": [
    "from sklearn.linear_model import LinearRegression\n",
    "lr = LinearRegression()\n",
    "lr.fit(x_train, y_train)\n",
    "print (lr)\n"
   ]
  },
  {
   "cell_type": "code",
   "execution_count": 24,
   "id": "1f18caa2-f802-423c-8fdb-1297e6e9ef12",
   "metadata": {},
   "outputs": [
    {
     "name": "stdout",
     "output_type": "stream",
     "text": [
      "0.9480099245817689\n",
      "[[132.70523734]\n",
      " [133.4384527 ]\n",
      " [134.17166806]\n",
      " [134.90488342]\n",
      " [135.63809879]\n",
      " [136.37131415]\n",
      " [137.10452951]\n",
      " [137.83774487]\n",
      " [138.57096023]\n",
      " [139.30417559]\n",
      " [140.03739095]\n",
      " [140.77060631]\n",
      " [141.50382168]\n",
      " [142.23703704]\n",
      " [142.9702524 ]\n",
      " [143.70346776]\n",
      " [144.43668312]\n",
      " [145.16989848]\n",
      " [145.90311384]\n",
      " [146.6363292 ]\n",
      " [147.36954457]\n",
      " [148.10275993]\n",
      " [148.83597529]\n",
      " [149.56919065]\n",
      " [150.30240601]\n",
      " [151.03562137]\n",
      " [151.76883673]\n",
      " [152.50205209]\n",
      " [153.23526746]\n",
      " [153.96848282]\n",
      " [154.70169818]\n",
      " [155.43491354]\n",
      " [156.1681289 ]\n",
      " [156.90134426]\n",
      " [157.63455962]\n",
      " [158.36777498]\n",
      " [159.10099034]\n",
      " [159.83420571]\n",
      " [160.56742107]\n",
      " [161.30063643]\n",
      " [162.03385179]\n",
      " [162.76706715]\n",
      " [163.50028251]\n",
      " [164.23349787]\n",
      " [164.96671323]\n",
      " [165.6999286 ]\n",
      " [166.43314396]\n",
      " [167.16635932]\n",
      " [167.89957468]\n",
      " [168.63279004]\n",
      " [169.3660054 ]\n",
      " [170.09922076]\n",
      " [170.83243612]\n",
      " [171.56565149]\n",
      " [172.29886685]\n",
      " [173.03208221]\n",
      " [173.76529757]\n",
      " [174.49851293]\n",
      " [175.23172829]\n",
      " [175.96494365]\n",
      " [176.69815901]\n",
      " [177.43137438]\n",
      " [178.16458974]\n",
      " [178.8978051 ]\n",
      " [179.63102046]\n",
      " [180.36423582]\n",
      " [181.09745118]\n",
      " [181.83066654]\n",
      " [182.5638819 ]\n",
      " [183.29709726]\n",
      " [184.03031263]]\n"
     ]
    }
   ],
   "source": [
    "y_pred = lr.predict(x)\n",
    "accuracy = r2_score(y,y_pred)\n",
    "print (accuracy)\n",
    "print (y_pred)\n"
   ]
  },
  {
   "cell_type": "code",
   "execution_count": 25,
   "id": "4e4be0bb-9be3-4b2b-851b-cb612066fa20",
   "metadata": {},
   "outputs": [
    {
     "name": "stdout",
     "output_type": "stream",
     "text": [
      "    Age  Height  Prediction  Difference\n",
      "0    10     138  132.705237    5.294763\n",
      "1    11     138  133.438453    4.561547\n",
      "2    12     138  134.171668    3.828332\n",
      "3    13     139  134.904883    4.095117\n",
      "4    14     139  135.638099    3.361901\n",
      "..  ...     ...         ...         ...\n",
      "66   76     179  181.097451   -2.097451\n",
      "67   77     182  181.830667    0.169333\n",
      "68   78     186  182.563882    3.436118\n",
      "69   79     178  183.297097   -5.297097\n",
      "70   80     175  184.030313   -9.030313\n",
      "\n",
      "[71 rows x 4 columns]\n"
     ]
    }
   ],
   "source": [
    "result = pd.concat ([data,pd.DataFrame(y_pred, columns = ['Prediction'])],axis =1)\n",
    "result ['Difference'] = result['Height'] - result['Prediction']\n",
    "print (result)\n",
    "\n"
   ]
  },
  {
   "cell_type": "code",
   "execution_count": 26,
   "id": "04ca06ca-7d57-4b0b-a093-e0aa19e6f127",
   "metadata": {},
   "outputs": [
    {
     "data": {
      "image/png": "[encoded data removed]",
      "text/plain": [
       "<Figure size 640x480 with 1 Axes>"
      ]
     },
     "metadata": {},
     "output_type": "display_data"
    }
   ],
   "source": [
    "plt.scatter(x,y, color = 'green') \n",
    "plt.plot(x, y_pred, color = 'blue') \n",
    "plt.title('Linear Regression') \n",
    "plt.xlabel('Age') \n",
    "plt.ylabel('Height')   \n",
    "plt.show()\n"
   ]
  },
  {
   "cell_type": "code",
   "execution_count": 27,
   "id": "71c74948-b5f9-48d6-8dca-04f0465801cc",
   "metadata": {},
   "outputs": [
    {
     "name": "stdout",
     "output_type": "stream",
     "text": [
      "[146.8 147.4 166.4 146.  149.8 169.4 139.6 184.4 154.4 179.6 178.  147.4\n",
      " 151.4 160.8 152.8]\n"
     ]
    },
    {
     "name": "stderr",
     "output_type": "stream",
     "text": [
      "C:\\Users\\SUDHARSHAN\\AppData\\Local\\Temp\\ipykernel_16140\\1835621373.py:3: DataConversionWarning: A column-vector y was passed when a 1d array was expected. Please change the shape of y to (n_samples,), for example using ravel().\n",
      "  rf.fit(x_train,y_train)\n"
     ]
    }
   ],
   "source": [
    "from sklearn.ensemble import RandomForestRegressor\n",
    "rf= RandomForestRegressor (n_estimators =5)\n",
    "rf.fit(x_train,y_train)\n",
    "y_pred=rf.predict(x_test)\n",
    "print(y_pred)\n"
   ]
  },
  {
   "cell_type": "code",
   "execution_count": 30,
   "id": "4e3e85f3-b4d1-4608-9478-7b9f1cd225a9",
   "metadata": {},
   "outputs": [
    {
     "name": "stdout",
     "output_type": "stream",
     "text": [
      "0.97797369316249\n"
     ]
    }
   ],
   "source": [
    "accuracy = r2_score(y_test,y_pred)\n",
    "print (accuracy)\n"
   ]
  },
  {
   "cell_type": "code",
   "execution_count": 43,
   "id": "08275932-473f-4f44-af65-aced543e7ee0",
   "metadata": {},
   "outputs": [
    {
     "name": "stdout",
     "output_type": "stream",
     "text": [
      "      0     1       2\n",
      "0   1.0  10.0   100.0\n",
      "1   1.0  11.0   121.0\n",
      "2   1.0  12.0   144.0\n",
      "3   1.0  13.0   169.0\n",
      "4   1.0  14.0   196.0\n",
      "5   1.0  15.0   225.0\n",
      "6   1.0  16.0   256.0\n",
      "7   1.0  17.0   289.0\n",
      "8   1.0  18.0   324.0\n",
      "9   1.0  19.0   361.0\n",
      "10  1.0  20.0   400.0\n",
      "11  1.0  21.0   441.0\n",
      "12  1.0  22.0   484.0\n",
      "13  1.0  23.0   529.0\n",
      "14  1.0  24.0   576.0\n",
      "15  1.0  25.0   625.0\n",
      "16  1.0  26.0   676.0\n",
      "17  1.0  27.0   729.0\n",
      "18  1.0  28.0   784.0\n",
      "19  1.0  29.0   841.0\n",
      "20  1.0  30.0   900.0\n",
      "21  1.0  31.0   961.0\n",
      "22  1.0  32.0  1024.0\n",
      "23  1.0  33.0  1089.0\n",
      "24  1.0  34.0  1156.0\n",
      "25  1.0  35.0  1225.0\n",
      "26  1.0  36.0  1296.0\n",
      "27  1.0  37.0  1369.0\n",
      "28  1.0  38.0  1444.0\n",
      "29  1.0  39.0  1521.0\n",
      "30  1.0  40.0  1600.0\n",
      "31  1.0  41.0  1681.0\n",
      "32  1.0  42.0  1764.0\n",
      "33  1.0  43.0  1849.0\n",
      "34  1.0  44.0  1936.0\n",
      "35  1.0  45.0  2025.0\n",
      "36  1.0  46.0  2116.0\n",
      "37  1.0  47.0  2209.0\n",
      "38  1.0  48.0  2304.0\n",
      "39  1.0  49.0  2401.0\n",
      "40  1.0  50.0  2500.0\n",
      "41  1.0  51.0  2601.0\n",
      "42  1.0  52.0  2704.0\n",
      "43  1.0  53.0  2809.0\n",
      "44  1.0  54.0  2916.0\n",
      "45  1.0  55.0  3025.0\n",
      "46  1.0  56.0  3136.0\n",
      "47  1.0  57.0  3249.0\n",
      "48  1.0  58.0  3364.0\n",
      "49  1.0  59.0  3481.0\n",
      "(71, 3)\n",
      "(71, 1)\n",
      "(49, 3)\n",
      "(22, 3)\n",
      "(49, 1)\n",
      "(22, 1)\n"
     ]
    }
   ],
   "source": [
    "from sklearn.preprocessing import PolynomialFeatures \n",
    "polynom2 = PolynomialFeatures(degree = 2) \n",
    "x_polynom = polynom2.fit_transform(x) \n",
    "print (pd.DataFrame(x_polynom).head(50))\n",
    "\n",
    "from sklearn.model_selection import train_test_split\n",
    "xpoly_train, xpoly_test, ypoly_train, ypoly_test = train_test_split(x_polynom, y, test_size=0.3, random_state=0)\n",
    "print (x_polynom.shape)\n",
    "print (y.shape)\n",
    "print (xpoly_train.shape)\n",
    "print (xpoly_test.shape)\n",
    "print (ypoly_train.shape)\n",
    "print (ypoly_test.shape)\n"
   ]
  },
  {
   "cell_type": "code",
   "execution_count": 42,
   "id": "d959e629-208a-4bbe-9cee-b7c36b627224",
   "metadata": {},
   "outputs": [
    {
     "name": "stdout",
     "output_type": "stream",
     "text": [
      "0.9604493359611312\n",
      "[[162.08784423]]\n"
     ]
    }
   ],
   "source": [
    "PolyReg2 = LinearRegression() \n",
    "PolyReg2.fit(xpoly_train, ypoly_train)\n",
    "ypoly_pred2 = PolyReg2.predict(x_polynom)\n",
    "accuracy2 = r2_score(ypoly_pred2,y)\n",
    "print (accuracy2)\n",
    "\n",
    "\n",
    "print (PolyReg2.predict(polynom2.fit_transform([[53]])))"
   ]
  },
  {
   "cell_type": "code",
   "execution_count": null,
   "id": "de5a8db1-4888-436d-8b84-2893be7ef648",
   "metadata": {},
   "outputs": [],
   "source": []
  },
  {
   "cell_type": "code",
   "execution_count": null,
   "id": "bcb3c772-26a6-4f23-927f-7b8eed9712e2",
   "metadata": {},
   "outputs": [],
   "source": []
  },
  {
   "cell_type": "code",
   "execution_count": null,
   "id": "47030108-f7e8-4bcb-b126-bf9d25d29d8e",
   "metadata": {},
   "outputs": [],
   "source": []
  },
  {
   "cell_type": "code",
   "execution_count": null,
   "id": "0576d0b5-cf1e-40a9-aba7-7e39ad936a8d",
   "metadata": {},
   "outputs": [],
   "source": []
  },
  {
   "cell_type": "code",
   "execution_count": null,
   "id": "0dd3dd34-1aa3-4be0-a43e-876877b337ba",
   "metadata": {},
   "outputs": [],
   "source": []
  },
  {
   "cell_type": "code",
   "execution_count": null,
   "id": "68ffbfbb-02f7-492b-ad84-cd76281fa139",
   "metadata": {},
   "outputs": [],
   "source": []
  },
  {
   "cell_type": "code",
   "execution_count": null,
   "id": "536e2356-51a1-4339-9d21-851c032b47e4",
   "metadata": {},
   "outputs": [],
   "source": []
  },
  {
   "cell_type": "code",
   "execution_count": null,
   "id": "8c65a040-1b06-49f5-b235-3ae76d4db65e",
   "metadata": {},
   "outputs": [],
   "source": []
  },
  {
   "cell_type": "code",
   "execution_count": null,
   "id": "467d9b6e-bd58-4f3e-aab2-5d9acfb34f63",
   "metadata": {},
   "outputs": [],
   "source": []
  },
  {
   "cell_type": "code",
   "execution_count": null,
   "id": "d3ef3960-f96b-45bf-bd44-f5dd0d902894",
   "metadata": {},
   "outputs": [],
   "source": []
  },
  {
   "cell_type": "code",
   "execution_count": null,
   "id": "a08153e1-f25d-4597-aa89-224f92837ef8",
   "metadata": {},
   "outputs": [],
   "source": []
  },
  {
   "cell_type": "code",
   "execution_count": null,
   "id": "32262ba1-f664-42c2-bb56-9c8b0acaf099",
   "metadata": {},
   "outputs": [],
   "source": []
  },
  {
   "cell_type": "code",
   "execution_count": null,
   "id": "aac0d396-959a-47b7-9339-058798c61d5c",
   "metadata": {},
   "outputs": [],
   "source": []
  },
  {
   "cell_type": "code",
   "execution_count": null,
   "id": "c9cfcc11-85a8-4683-be03-fa750bcd5597",
   "metadata": {},
   "outputs": [],
   "source": []
  },
  {
   "cell_type": "code",
   "execution_count": null,
   "id": "d94db268-fb50-4001-8f58-28cedb03051a",
   "metadata": {},
   "outputs": [],
   "source": []
  },
  {
   "cell_type": "code",
   "execution_count": null,
   "id": "71903bd7-250a-46e6-8224-0137fd7e95b5",
   "metadata": {},
   "outputs": [],
   "source": []
  },
  {
   "cell_type": "code",
   "execution_count": null,
   "id": "96a768d1-fa96-40b4-baf4-3cb1ebd757a2",
   "metadata": {},
   "outputs": [],
   "source": []
  },
  {
   "cell_type": "code",
   "execution_count": null,
   "id": "9401f009-bc5a-45b5-9596-475cae50152e",
   "metadata": {},
   "outputs": [],
   "source": []
  },
  {
   "cell_type": "code",
   "execution_count": null,
   "id": "41f99369-45bc-4863-8aaf-3eb0866d18b8",
   "metadata": {},
   "outputs": [],
   "source": []
  },
  {
   "cell_type": "code",
   "execution_count": null,
   "id": "8795bfae-20db-44ec-8608-18ce685d4aa6",
   "metadata": {},
   "outputs": [],
   "source": []
  },
  {
   "cell_type": "code",
   "execution_count": null,
   "id": "fe9d6937-45bc-4baa-86b9-c932abed2cfa",
   "metadata": {},
   "outputs": [],
   "source": []
  },
  {
   "cell_type": "code",
   "execution_count": null,
   "id": "ed209266-c4e6-4104-b841-6e661b132988",
   "metadata": {},
   "outputs": [],
   "source": []
  },
  {
   "cell_type": "code",
   "execution_count": null,
   "id": "4e8f8335-04c6-465f-8ce5-483496cf4059",
   "metadata": {},
   "outputs": [],
   "source": []
  },
  {
   "cell_type": "code",
   "execution_count": null,
   "id": "2e3ded7c-0fb8-44ed-9fd2-2f6ecc15377b",
   "metadata": {},
   "outputs": [],
   "source": []
  },
  {
   "cell_type": "code",
   "execution_count": null,
   "id": "6a2ca689-3696-43cc-948f-7513b8e85f2f",
   "metadata": {},
   "outputs": [],
   "source": []
  },
  {
   "cell_type": "code",
   "execution_count": null,
   "id": "dd0bf1fb-7b12-4747-b395-8b7fb4254a34",
   "metadata": {},
   "outputs": [],
   "source": []
  },
  {
   "cell_type": "code",
   "execution_count": null,
   "id": "76296462-b409-48af-a676-6f3341f0856d",
   "metadata": {},
   "outputs": [],
   "source": []
  },
  {
   "cell_type": "code",
   "execution_count": null,
   "id": "e7c1fe66-558b-49a8-9222-56a1231c09cc",
   "metadata": {},
   "outputs": [],
   "source": []
  },
  {
   "cell_type": "code",
   "execution_count": null,
   "id": "2d9a266b-eb64-4a1c-81a5-9533c6de11ee",
   "metadata": {},
   "outputs": [],
   "source": []
  },
  {
   "cell_type": "code",
   "execution_count": null,
   "id": "a4da804a-7347-42a0-bccb-bc560646ddea",
   "metadata": {},
   "outputs": [],
   "source": []
  },
  {
   "cell_type": "code",
   "execution_count": null,
   "id": "fd8c9fda-56f4-49d5-845e-7a6f06c1ccb3",
   "metadata": {},
   "outputs": [],
   "source": []
  },
  {
   "cell_type": "code",
   "execution_count": null,
   "id": "9e2620d1-ebca-42a2-a8c7-6e91aeed62ff",
   "metadata": {},
   "outputs": [],
   "source": []
  },
  {
   "cell_type": "code",
   "execution_count": null,
   "id": "dcd85f1b-1952-4b15-8058-3130b8d6bc18",
   "metadata": {},
   "outputs": [],
   "source": []
  },
  {
   "cell_type": "code",
   "execution_count": null,
   "id": "3b361b16-a595-4e8c-a4e7-4d654a3da556",
   "metadata": {},
   "outputs": [],
   "source": []
  },
  {
   "cell_type": "code",
   "execution_count": null,
   "id": "f9f048af-8796-4c4f-8566-50808f424203",
   "metadata": {},
   "outputs": [],
   "source": []
  },
  {
   "cell_type": "code",
   "execution_count": null,
   "id": "5fac3576-fada-4c5a-b167-1f1bd84b1353",
   "metadata": {},
   "outputs": [],
   "source": []
  },
  {
   "cell_type": "code",
   "execution_count": null,
   "id": "18b0f9bb-13a6-4d06-98e1-325b8b453616",
   "metadata": {},
   "outputs": [],
   "source": []
  },
  {
   "cell_type": "code",
   "execution_count": null,
   "id": "7246ff3f-1115-4bc1-a37a-2c09dca73c16",
   "metadata": {},
   "outputs": [],
   "source": []
  },
  {
   "cell_type": "code",
   "execution_count": null,
   "id": "83c341f5-cb0c-42cf-ac8d-783e8a02fb67",
   "metadata": {},
   "outputs": [],
   "source": []
  },
  {
   "cell_type": "code",
   "execution_count": null,
   "id": "bd472cdd-738f-44e7-be24-45507e3cdcf7",
   "metadata": {},
   "outputs": [],
   "source": []
  },
  {
   "cell_type": "code",
   "execution_count": null,
   "id": "0f525e68-e3a0-4455-be1c-59ec104f8b28",
   "metadata": {},
   "outputs": [],
   "source": []
  },
  {
   "cell_type": "code",
   "execution_count": null,
   "id": "29afac30-2d12-493b-894e-fbcb2f7c1760",
   "metadata": {},
   "outputs": [],
   "source": []
  },
  {
   "cell_type": "code",
   "execution_count": null,
   "id": "0cb751a2-7ada-4514-81bf-6e6ff9c84fe8",
   "metadata": {},
   "outputs": [],
   "source": []
  },
  {
   "cell_type": "code",
   "execution_count": null,
   "id": "df8cecfb-f796-42d4-b04d-86b885cdcb20",
   "metadata": {},
   "outputs": [],
   "source": []
  },
  {
   "cell_type": "code",
   "execution_count": null,
   "id": "622951dc-62f3-4734-b461-57cbe6b18617",
   "metadata": {},
   "outputs": [],
   "source": []
  },
  {
   "cell_type": "code",
   "execution_count": null,
   "id": "ab4fb6e8-cf6a-4194-93e9-ea377effa366",
   "metadata": {},
   "outputs": [],
   "source": []
  },
  {
   "cell_type": "code",
   "execution_count": null,
   "id": "d56c92b9-b8e1-45c4-8d64-43b86e23323c",
   "metadata": {},
   "outputs": [],
   "source": []
  },
  {
   "cell_type": "code",
   "execution_count": null,
   "id": "078584b6-524e-4f79-ae6b-1252a9c7dc13",
   "metadata": {},
   "outputs": [],
   "source": []
  },
  {
   "cell_type": "code",
   "execution_count": null,
   "id": "b2b48774-8c3c-4251-8f15-7aea1a8c9d8b",
   "metadata": {},
   "outputs": [],
   "source": []
  },
  {
   "cell_type": "code",
   "execution_count": null,
   "id": "718a0c98-0dc2-47a5-8c51-fe3d8f8ee6ba",
   "metadata": {},
   "outputs": [],
   "source": []
  },
  {
   "cell_type": "code",
   "execution_count": null,
   "id": "916ade0c-fd88-44a2-bb69-3f2ea10089b3",
   "metadata": {},
   "outputs": [],
   "source": []
  },
  {
   "cell_type": "code",
   "execution_count": null,
   "id": "83bbfe1e-5cb7-4ed7-abba-f3f17f722086",
   "metadata": {},
   "outputs": [],
   "source": []
  },
  {
   "cell_type": "code",
   "execution_count": null,
   "id": "0512f921-d2c4-4993-88a8-e4c0db5e6259",
   "metadata": {},
   "outputs": [],
   "source": []
  },
  {
   "cell_type": "code",
   "execution_count": null,
   "id": "72e7aea0-c6fb-44bc-8124-848fe392d632",
   "metadata": {},
   "outputs": [],
   "source": []
  },
  {
   "cell_type": "code",
   "execution_count": null,
   "id": "e69fba85-ccc2-4940-a8d1-2d7cce445d33",
   "metadata": {},
   "outputs": [],
   "source": []
  },
  {
   "cell_type": "code",
   "execution_count": null,
   "id": "d71557cc-9d31-4a8a-b4f5-0294186503df",
   "metadata": {},
   "outputs": [],
   "source": []
  },
  {
   "cell_type": "code",
   "execution_count": null,
   "id": "c00bf511-fb73-43b1-b483-e6fd8ae385ab",
   "metadata": {},
   "outputs": [],
   "source": []
  },
  {
   "cell_type": "code",
   "execution_count": null,
   "id": "44da342f-8ecd-425e-b3b2-cc327999983f",
   "metadata": {},
   "outputs": [],
   "source": []
  },
  {
   "cell_type": "code",
   "execution_count": null,
   "id": "bf7373b4-ed88-4c72-a30c-4bc5ce52d843",
   "metadata": {},
   "outputs": [],
   "source": []
  },
  {
   "cell_type": "code",
   "execution_count": null,
   "id": "c50c3f94-3ec1-4c2e-ac20-c47105d812ee",
   "metadata": {},
   "outputs": [],
   "source": []
  },
  {
   "cell_type": "code",
   "execution_count": null,
   "id": "1699739f-9827-4a03-aae2-4ed626adaf36",
   "metadata": {},
   "outputs": [],
   "source": []
  },
  {
   "cell_type": "code",
   "execution_count": null,
   "id": "faab797d-0b0e-40eb-86bb-334c28960139",
   "metadata": {},
   "outputs": [],
   "source": []
  },
  {
   "cell_type": "code",
   "execution_count": null,
   "id": "b5d913b6-ce79-4da5-bcc3-af90bd90897c",
   "metadata": {},
   "outputs": [],
   "source": []
  },
  {
   "cell_type": "code",
   "execution_count": null,
   "id": "7393a854-b93d-4ac2-a2f1-069b9a9d4f89",
   "metadata": {},
   "outputs": [],
   "source": []
  },
  {
   "cell_type": "code",
   "execution_count": null,
   "id": "26a3fd6e-d336-4d22-ba8f-d8f018d56cb1",
   "metadata": {},
   "outputs": [],
   "source": []
  },
  {
   "cell_type": "code",
   "execution_count": null,
   "id": "a9aa9078-6664-45e9-b80b-a07411b7e439",
   "metadata": {},
   "outputs": [],
   "source": []
  },
  {
   "cell_type": "code",
   "execution_count": null,
   "id": "d50a0275-0b49-4828-a124-0d7333085900",
   "metadata": {},
   "outputs": [],
   "source": []
  },
  {
   "cell_type": "code",
   "execution_count": null,
   "id": "2136cc80-9e31-46e4-8b7c-48196b33d327",
   "metadata": {},
   "outputs": [],
   "source": []
  },
  {
   "cell_type": "code",
   "execution_count": null,
   "id": "0e405141-d65b-459a-8e28-c3f7c256388d",
   "metadata": {},
   "outputs": [],
   "source": []
  },
  {
   "cell_type": "code",
   "execution_count": null,
   "id": "4c17ef07-1a94-4b51-a22b-a28c8ca3a62f",
   "metadata": {},
   "outputs": [],
   "source": []
  },
  {
   "cell_type": "code",
   "execution_count": null,
   "id": "a0ada825-8652-4263-9815-517ab10be25c",
   "metadata": {},
   "outputs": [],
   "source": []
  },
  {
   "cell_type": "code",
   "execution_count": null,
   "id": "176bae4f-66f5-4405-9ff5-194db1abfb62",
   "metadata": {},
   "outputs": [],
   "source": []
  }
 ],
 "metadata": {
  "kernelspec": {
   "display_name": "Python 3 (ipykernel)",
   "language": "python",
   "name": "python3"
  },
  "language_info": {
   "codemirror_mode": {
    "name": "ipython",
    "version": 3
   },
   "file_extension": ".py",
   "mimetype": "text/x-python",
   "name": "python",
   "nbconvert_exporter": "python",
   "pygments_lexer": "ipython3",
   "version": "3.11.7"
  }
 },
 "nbformat": 4,
 "nbformat_minor": 5
}
