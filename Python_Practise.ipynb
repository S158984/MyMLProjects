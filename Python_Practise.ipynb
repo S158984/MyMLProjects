{
 "cells": [
  {
   "cell_type": "code",
   "execution_count": 1,
   "id": "9ada0959-2a3d-4fbe-87fe-952565e9be52",
   "metadata": {},
   "outputs": [
    {
     "name": "stdout",
     "output_type": "stream",
     "text": [
      "30\n"
     ]
    }
   ],
   "source": [
    "a=10\n",
    "b=20\n",
    "print (a+b)"
   ]
  },
  {
   "cell_type": "code",
   "execution_count": null,
   "id": "4bb7f44d-cc49-47ba-a739-ae4ca560549a",
   "metadata": {},
   "outputs": [],
   "source": []
  },
  {
   "cell_type": "code",
   "execution_count": 9,
   "id": "e975b04e-c50f-4f53-ab2c-57d82849b903",
   "metadata": {},
   "outputs": [
    {
     "name": "stdout",
     "output_type": "stream",
     "text": [
      "10\n",
      "11\n",
      "12\n",
      "13\n",
      "14\n"
     ]
    }
   ],
   "source": [
    "for i in range (10,15):\n",
    "    print (i)"
   ]
  },
  {
   "cell_type": "code",
   "execution_count": 6,
   "id": "808de446-cd05-42f3-94d4-73a4474a3d33",
   "metadata": {},
   "outputs": [
    {
     "name": "stdout",
     "output_type": "stream",
     "text": [
      "10\n",
      "20\n",
      "30\n",
      "40\n",
      "50\n",
      "60\n"
     ]
    }
   ],
   "source": [
    "for i in  range(10,65,10):\n",
    "    print (i)"
   ]
  },
  {
   "cell_type": "code",
   "execution_count": 7,
   "id": "efab28d8-fb53-4ce3-b013-3943d185e000",
   "metadata": {},
   "outputs": [
    {
     "name": "stdout",
     "output_type": "stream",
     "text": [
      "<class 'int'>\n"
     ]
    }
   ],
   "source": [
    "print (type (a))"
   ]
  },
  {
   "cell_type": "code",
   "execution_count": 37,
   "id": "0e97902f-bd75-4613-905f-d99572c31f21",
   "metadata": {},
   "outputs": [
    {
     "name": "stdout",
     "output_type": "stream",
     "text": [
      "[1, 2, 30, 50, 40, 60, 50]\n",
      "[1, 2, 30, 50, 40, 60, 50, 100]\n",
      "<class 'list'>\n"
     ]
    }
   ],
   "source": [
    "li=[1,2,30,50,40,60,50]\n",
    "li.append (100)\n",
    "print (li [:-1])\n",
    "print (li)\n",
    "print (type(li))\n"
   ]
  },
  {
   "cell_type": "code",
   "execution_count": 51,
   "id": "a65bfbe9-b63e-405f-bca1-1eaf767d3033",
   "metadata": {},
   "outputs": [
    {
     "name": "stdout",
     "output_type": "stream",
     "text": [
      "<class 'set'>\n",
      "None\n",
      "{1, 50, 200, 201, 40, 60, 30}\n"
     ]
    }
   ],
   "source": [
    "se={1,200,30,50,40,60,50}\n",
    "print (type (se))\n",
    "print (se.add(201))\n",
    "print (se)"
   ]
  },
  {
   "cell_type": "code",
   "execution_count": null,
   "id": "45852c00-87de-45f3-942a-685a80ebd1ed",
   "metadata": {},
   "outputs": [],
   "source": []
  },
  {
   "cell_type": "code",
   "execution_count": null,
   "id": "c332d529-28e8-419d-901d-9ccb73b85d35",
   "metadata": {},
   "outputs": [],
   "source": []
  },
  {
   "cell_type": "code",
   "execution_count": 43,
   "id": "6cbf5a1d-f3f0-4f19-b402-a865a2c00b27",
   "metadata": {},
   "outputs": [
    {
     "name": "stdout",
     "output_type": "stream",
     "text": [
      "{1, 50, 150, 200, 40, 60, 30}\n"
     ]
    }
   ],
   "source": [
    "se.add(150)\n",
    "print (se)"
   ]
  },
  {
   "cell_type": "code",
   "execution_count": null,
   "id": "0c069cdc-6ebf-44f3-ae8f-a9323c5a7cbf",
   "metadata": {},
   "outputs": [],
   "source": []
  },
  {
   "cell_type": "code",
   "execution_count": null,
   "id": "829c945c-93b1-4bcc-833d-931e9543954f",
   "metadata": {},
   "outputs": [],
   "source": []
  },
  {
   "cell_type": "code",
   "execution_count": 53,
   "id": "3bee8302-ebb9-4ba3-b6c4-0dc4c94a8735",
   "metadata": {},
   "outputs": [
    {
     "name": "stdout",
     "output_type": "stream",
     "text": [
      "(1, 2, 30, 50, 40, 60, 50)\n"
     ]
    }
   ],
   "source": [
    "tu= (1,2,30,50,40,60,50)\n",
    "#tu.add(150)\n",
    "print (tu)"
   ]
  },
  {
   "cell_type": "code",
   "execution_count": 76,
   "id": "c4bff4c3-82c3-45dc-86e9-8b23b944b84d",
   "metadata": {},
   "outputs": [
    {
     "name": "stdout",
     "output_type": "stream",
     "text": [
      "grade is D\n",
      "this is test\n"
     ]
    }
   ],
   "source": [
    "marks=40\n",
    "\n",
    "if marks>90:\n",
    "   print ('grade is A+')\n",
    "elif marks>80:\n",
    "    print ('grade is B')\n",
    "elif marks >50:\n",
    "    print ('grade is C')\n",
    "elif marks >35:\n",
    "    print ('grade is D')\n",
    "print ('this is test')"
   ]
  },
  {
   "cell_type": "code",
   "execution_count": 77,
   "id": "14f8f56d-fc58-484c-a1be-70aa32f69f99",
   "metadata": {},
   "outputs": [
    {
     "name": "stdout",
     "output_type": "stream",
     "text": [
      "<class 'str'>\n"
     ]
    }
   ],
   "source": [
    "a='abc'\n",
    "print (type(a))"
   ]
  },
  {
   "cell_type": "code",
   "execution_count": 83,
   "id": "af42dcc2-4051-463b-9db2-ee6059e3f53a",
   "metadata": {},
   "outputs": [],
   "source": [
    "if type(a)=='str':\n",
    "    print ('a is string')"
   ]
  },
  {
   "cell_type": "code",
   "execution_count": 84,
   "id": "268dc4e9-9161-4717-897b-f4c067b21066",
   "metadata": {},
   "outputs": [
    {
     "name": "stdin",
     "output_type": "stream",
     "text": [
      "enter mame sun\n"
     ]
    },
    {
     "name": "stdout",
     "output_type": "stream",
     "text": [
      "['sun']\n"
     ]
    },
    {
     "name": "stdin",
     "output_type": "stream",
     "text": [
      "enter mame mon\n"
     ]
    },
    {
     "name": "stdout",
     "output_type": "stream",
     "text": [
      "['sun', 'mon']\n"
     ]
    },
    {
     "name": "stdin",
     "output_type": "stream",
     "text": [
      "enter mame tues\n"
     ]
    },
    {
     "name": "stdout",
     "output_type": "stream",
     "text": [
      "['sun', 'mon', 'tues']\n"
     ]
    }
   ],
   "source": [
    "t=[]\n",
    "for i in range(3):\n",
    "    name=input (\"enter mame\")\n",
    "    t.append(name)\n",
    "    print(t)"
   ]
  },
  {
   "cell_type": "code",
   "execution_count": 86,
   "id": "a27760bf-1f3c-4c95-80d0-0ca337ba7727",
   "metadata": {},
   "outputs": [
    {
     "name": "stdin",
     "output_type": "stream",
     "text": [
      "enter value  10\n"
     ]
    },
    {
     "name": "stdout",
     "output_type": "stream",
     "text": [
      "10\n"
     ]
    },
    {
     "name": "stdin",
     "output_type": "stream",
     "text": [
      "enter value  500\n"
     ]
    },
    {
     "name": "stdout",
     "output_type": "stream",
     "text": [
      "510\n"
     ]
    },
    {
     "name": "stdin",
     "output_type": "stream",
     "text": [
      "enter value  300\n"
     ]
    },
    {
     "name": "stdout",
     "output_type": "stream",
     "text": [
      "810\n"
     ]
    },
    {
     "name": "stdin",
     "output_type": "stream",
     "text": [
      "enter value  11\n"
     ]
    },
    {
     "name": "stdout",
     "output_type": "stream",
     "text": [
      "821\n"
     ]
    },
    {
     "name": "stdin",
     "output_type": "stream",
     "text": [
      "enter value  5555\n"
     ]
    },
    {
     "name": "stdout",
     "output_type": "stream",
     "text": [
      "6376\n"
     ]
    }
   ],
   "source": [
    "total=0\n",
    "for i in range (5):\n",
    "    num=int(input (\"enter value \"))\n",
    "    total=total+num\n",
    "    print(total)"
   ]
  },
  {
   "cell_type": "code",
   "execution_count": null,
   "id": "70314b5d-b42a-4fe7-9c83-089eea6c9425",
   "metadata": {},
   "outputs": [],
   "source": []
  },
  {
   "cell_type": "code",
   "execution_count": null,
   "id": "dfb4f195-d15f-42cf-9a8b-ec530c09da31",
   "metadata": {},
   "outputs": [],
   "source": []
  },
  {
   "cell_type": "code",
   "execution_count": null,
   "id": "1e82b17e-4874-484e-aede-2629f62980d3",
   "metadata": {},
   "outputs": [],
   "source": []
  },
  {
   "cell_type": "code",
   "execution_count": null,
   "id": "bbedc5fd-4b6b-417e-870b-4d7b22d0e9e5",
   "metadata": {},
   "outputs": [],
   "source": []
  },
  {
   "cell_type": "code",
   "execution_count": null,
   "id": "b7a316d6-272a-4a4a-b58c-f441c3c9b99c",
   "metadata": {},
   "outputs": [],
   "source": []
  },
  {
   "cell_type": "code",
   "execution_count": null,
   "id": "d82f1e45-6bfd-41dc-872e-706663c01412",
   "metadata": {},
   "outputs": [],
   "source": []
  },
  {
   "cell_type": "code",
   "execution_count": null,
   "id": "05f91e83-2a86-4586-a8df-9ad9a8e21d15",
   "metadata": {},
   "outputs": [],
   "source": []
  },
  {
   "cell_type": "code",
   "execution_count": null,
   "id": "00ab67ce-fefc-4183-946f-6f853ba768a4",
   "metadata": {},
   "outputs": [],
   "source": []
  },
  {
   "cell_type": "code",
   "execution_count": null,
   "id": "80ca465f-bbf6-4e94-9a87-a3b1fddc317b",
   "metadata": {},
   "outputs": [],
   "source": []
  },
  {
   "cell_type": "code",
   "execution_count": null,
   "id": "5b2a5461-c96e-46c3-a9b0-d27fc25e333d",
   "metadata": {},
   "outputs": [],
   "source": []
  },
  {
   "cell_type": "code",
   "execution_count": null,
   "id": "e0c91d28-336b-4761-aa2f-2a6c050c1771",
   "metadata": {},
   "outputs": [],
   "source": []
  },
  {
   "cell_type": "code",
   "execution_count": null,
   "id": "2b91c21e-33a1-48ae-9699-b4cc7a5a100e",
   "metadata": {},
   "outputs": [],
   "source": []
  },
  {
   "cell_type": "code",
   "execution_count": null,
   "id": "59fe11dc-5d24-4da3-9f95-11718267f0a8",
   "metadata": {},
   "outputs": [],
   "source": []
  },
  {
   "cell_type": "code",
   "execution_count": null,
   "id": "44d29916-7b64-4023-8e1f-e3bfff4acab9",
   "metadata": {},
   "outputs": [],
   "source": []
  },
  {
   "cell_type": "code",
   "execution_count": null,
   "id": "61445ec1-fe50-4bf6-b7ef-64c65cad727a",
   "metadata": {},
   "outputs": [],
   "source": []
  },
  {
   "cell_type": "code",
   "execution_count": null,
   "id": "d9e7c6a7-d7a6-4009-96a6-18e613463554",
   "metadata": {},
   "outputs": [],
   "source": []
  },
  {
   "cell_type": "code",
   "execution_count": null,
   "id": "5981d74b-2d04-4525-89b1-0eedb5e8d3e7",
   "metadata": {},
   "outputs": [],
   "source": []
  },
  {
   "cell_type": "code",
   "execution_count": null,
   "id": "aeca017e-9475-451c-a856-78af94365dd6",
   "metadata": {},
   "outputs": [],
   "source": []
  },
  {
   "cell_type": "code",
   "execution_count": null,
   "id": "8c1e7fa4-a951-41f3-8fd4-9fbe392f4a5c",
   "metadata": {},
   "outputs": [],
   "source": []
  },
  {
   "cell_type": "code",
   "execution_count": null,
   "id": "c6e54ac9-9ba3-406f-9949-368ac6dd323d",
   "metadata": {},
   "outputs": [],
   "source": []
  },
  {
   "cell_type": "code",
   "execution_count": null,
   "id": "7cb16a00-9a8e-4c1e-882d-2c79ca709ee7",
   "metadata": {},
   "outputs": [],
   "source": []
  },
  {
   "cell_type": "code",
   "execution_count": null,
   "id": "7c2bef3f-a6db-4035-b82a-8a840000c04b",
   "metadata": {},
   "outputs": [],
   "source": []
  },
  {
   "cell_type": "code",
   "execution_count": null,
   "id": "e4fc84eb-1323-464c-9280-c8bdde77d045",
   "metadata": {},
   "outputs": [],
   "source": []
  },
  {
   "cell_type": "code",
   "execution_count": null,
   "id": "9c5c2f67-1dbb-4701-a988-5bb1f2c32af4",
   "metadata": {},
   "outputs": [],
   "source": []
  },
  {
   "cell_type": "code",
   "execution_count": null,
   "id": "7d9db9ac-6f7e-4dbd-881f-1d0234f54c7b",
   "metadata": {},
   "outputs": [],
   "source": []
  },
  {
   "cell_type": "code",
   "execution_count": null,
   "id": "b1fa2587-9e11-438e-b6fd-a48c3a2b9245",
   "metadata": {},
   "outputs": [],
   "source": []
  },
  {
   "cell_type": "code",
   "execution_count": null,
   "id": "ab25294f-6ac0-49c7-a2bc-f9f2dec9907d",
   "metadata": {},
   "outputs": [],
   "source": []
  },
  {
   "cell_type": "code",
   "execution_count": null,
   "id": "b50ddade-9609-4faa-9a77-f433abad07ba",
   "metadata": {},
   "outputs": [],
   "source": []
  },
  {
   "cell_type": "code",
   "execution_count": null,
   "id": "4878b08b-2a78-43af-bd5c-b6e843f57203",
   "metadata": {},
   "outputs": [],
   "source": []
  },
  {
   "cell_type": "code",
   "execution_count": 48,
   "id": "656006d1-05d9-4ea2-934a-09070bb16c10",
   "metadata": {},
   "outputs": [
    {
     "name": "stdout",
     "output_type": "stream",
     "text": [
      "0\n",
      "1\n",
      "2\n",
      "3\n",
      "4\n",
      "5\n",
      "6\n",
      "7\n",
      "8\n",
      "9\n"
     ]
    }
   ],
   "source": [
    "for i in range (10):\n",
    "    print (i)"
   ]
  },
  {
   "cell_type": "code",
   "execution_count": 49,
   "id": "0b73ffcd-85f9-4d8a-a13f-c0383f8d09a2",
   "metadata": {},
   "outputs": [
    {
     "name": "stdout",
     "output_type": "stream",
     "text": [
      "-10\n",
      "-9\n",
      "-8\n",
      "-7\n",
      "-6\n",
      "-5\n",
      "-4\n",
      "-3\n",
      "-2\n",
      "-1\n",
      "0\n",
      "1\n",
      "2\n",
      "3\n",
      "4\n",
      "5\n",
      "6\n",
      "7\n",
      "8\n",
      "9\n"
     ]
    }
   ],
   "source": [
    "for j in range(-10,10):\n",
    "    print (j)"
   ]
  },
  {
   "cell_type": "code",
   "execution_count": null,
   "id": "507f6eb4-1b6c-4f2d-93a3-735c36f75c98",
   "metadata": {},
   "outputs": [],
   "source": []
  },
  {
   "cell_type": "code",
   "execution_count": null,
   "id": "3ce83c42-0633-44da-b03e-8d7484628c7b",
   "metadata": {},
   "outputs": [],
   "source": []
  },
  {
   "cell_type": "code",
   "execution_count": null,
   "id": "7065f90f-9b9a-4e51-9ae9-9459dc8cf0ef",
   "metadata": {},
   "outputs": [],
   "source": []
  },
  {
   "cell_type": "code",
   "execution_count": null,
   "id": "37c448fd-830f-4e7d-8d4b-b228bb459863",
   "metadata": {},
   "outputs": [],
   "source": []
  },
  {
   "cell_type": "code",
   "execution_count": null,
   "id": "30c27956-ba0f-4bc9-8241-d9cc26ea432a",
   "metadata": {},
   "outputs": [],
   "source": []
  },
  {
   "cell_type": "code",
   "execution_count": 28,
   "id": "c7e52a9c-0710-4c80-a715-6d037cceb39a",
   "metadata": {},
   "outputs": [
    {
     "data": {
      "text/plain": [
       "'C:\\\\Users\\\\SUDHARSHAN'"
      ]
     },
     "execution_count": 28,
     "metadata": {},
     "output_type": "execute_result"
    }
   ],
   "source": [
    "pwd"
   ]
  },
  {
   "cell_type": "code",
   "execution_count": 29,
   "id": "1e1a5282-96c4-418d-a960-c3602ca24715",
   "metadata": {},
   "outputs": [
    {
     "data": {
      "text/plain": [
       "'C:\\\\Users\\\\SUDHARSHAN'"
      ]
     },
     "execution_count": 29,
     "metadata": {},
     "output_type": "execute_result"
    }
   ],
   "source": [
    "pwd"
   ]
  },
  {
   "cell_type": "code",
   "execution_count": null,
   "id": "ce98a70f-498f-47ff-8ad0-345317fae0eb",
   "metadata": {},
   "outputs": [],
   "source": []
  },
  {
   "cell_type": "code",
   "execution_count": null,
   "id": "7015f9fb-b1dd-4827-8b22-77bd9ed7e328",
   "metadata": {},
   "outputs": [],
   "source": []
  },
  {
   "cell_type": "code",
   "execution_count": null,
   "id": "166f9289-291f-4515-b9b8-763400360a9d",
   "metadata": {},
   "outputs": [],
   "source": []
  },
  {
   "cell_type": "code",
   "execution_count": 14,
   "id": "af9afaf5-dd6a-411c-ae84-4a9c3774e2f4",
   "metadata": {},
   "outputs": [
    {
     "name": "stdout",
     "output_type": "stream",
     "text": [
      "<class 'bool'>\n"
     ]
    }
   ],
   "source": [
    "B=True\n",
    "print (type(B))"
   ]
  },
  {
   "cell_type": "code",
   "execution_count": null,
   "id": "f118ed8e-7489-414a-a570-f95681ee7570",
   "metadata": {},
   "outputs": [],
   "source": []
  },
  {
   "cell_type": "code",
   "execution_count": null,
   "id": "a0df13f4-4958-4eef-85e7-79839b1e43ff",
   "metadata": {},
   "outputs": [],
   "source": []
  },
  {
   "cell_type": "code",
   "execution_count": null,
   "id": "bbb59bc7-12b5-47e7-a2d4-c9c87c08e0d3",
   "metadata": {},
   "outputs": [],
   "source": []
  },
  {
   "cell_type": "code",
   "execution_count": null,
   "id": "17829144-9f7b-4f45-b595-a9727c794b24",
   "metadata": {},
   "outputs": [],
   "source": []
  },
  {
   "cell_type": "code",
   "execution_count": null,
   "id": "c6e1eef3-4cae-4ea6-b0c0-42d95a224254",
   "metadata": {},
   "outputs": [],
   "source": []
  },
  {
   "cell_type": "code",
   "execution_count": null,
   "id": "7fb7cbc6-6947-4f6e-9f33-6abccb109f39",
   "metadata": {},
   "outputs": [],
   "source": []
  },
  {
   "cell_type": "code",
   "execution_count": null,
   "id": "8f019220-0a30-4ec4-8483-6548a69213d5",
   "metadata": {},
   "outputs": [],
   "source": []
  }
 ],
 "metadata": {
  "kernelspec": {
   "display_name": "Python 3 (ipykernel)",
   "language": "python",
   "name": "python3"
  },
  "language_info": {
   "codemirror_mode": {
    "name": "ipython",
    "version": 3
   },
   "file_extension": ".py",
   "mimetype": "text/x-python",
   "name": "python",
   "nbconvert_exporter": "python",
   "pygments_lexer": "ipython3",
   "version": "3.11.7"
  }
 },
 "nbformat": 4,
 "nbformat_minor": 5
}
