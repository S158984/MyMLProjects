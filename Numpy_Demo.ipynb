{
 "cells": [
  {
   "cell_type": "code",
   "execution_count": 1,
   "id": "849702d2-52df-48d3-a47e-5363657c889e",
   "metadata": {},
   "outputs": [],
   "source": [
    "import numpy as np\n",
    "import pandas as pd\n"
   ]
  },
  {
   "cell_type": "code",
   "execution_count": 44,
   "id": "5c05ecb5-2824-4866-b4b7-3a685e9ecdf8",
   "metadata": {},
   "outputs": [
    {
     "name": "stdout",
     "output_type": "stream",
     "text": [
      "[ 1  2  3  4  5  6  7  8  9 10] <class 'numpy.ndarray'>\n"
     ]
    }
   ],
   "source": [
    "a1=np.arange(1,11)\n",
    "print(a1, type(a1))"
   ]
  },
  {
   "cell_type": "code",
   "execution_count": 45,
   "id": "df1d09f8-16cb-43c1-ae2f-f57585b428a0",
   "metadata": {},
   "outputs": [
    {
     "name": "stdout",
     "output_type": "stream",
     "text": [
      "[[ 1  2  3  4  5]\n",
      " [ 6  7  8  9 10]]\n",
      "4\n"
     ]
    }
   ],
   "source": [
    "d1=a1.reshape(2,5)\n",
    "print(d1)\n",
    "print (d1.itemsize)"
   ]
  },
  {
   "cell_type": "code",
   "execution_count": 46,
   "id": "16d09ed0-3a8e-4377-85a6-3f2b7f4923be",
   "metadata": {},
   "outputs": [
    {
     "name": "stdout",
     "output_type": "stream",
     "text": [
      "1\n",
      "a1 is  10\n",
      "2\n",
      "d1 is  10\n",
      "d1 is  4\n"
     ]
    }
   ],
   "source": [
    "print(a1.ndim)\n",
    "print(\"a1 is \" , a1.size)\n",
    "print(d1.ndim)\n",
    "print(\"d1 is \" , d1.size)\n",
    "print(\"d1 is \" , d1.itemsize)"
   ]
  },
  {
   "cell_type": "code",
   "execution_count": 26,
   "id": "01ee3239-0640-40c6-88de-6b59a9f84d0d",
   "metadata": {},
   "outputs": [
    {
     "data": {
      "text/plain": [
       "10"
      ]
     },
     "execution_count": 26,
     "metadata": {},
     "output_type": "execute_result"
    }
   ],
   "source": [
    "d1.size"
   ]
  },
  {
   "cell_type": "code",
   "execution_count": 61,
   "id": "12dcffb1-c884-4d76-b4ff-54f1e4ebca72",
   "metadata": {},
   "outputs": [
    {
     "name": "stdout",
     "output_type": "stream",
     "text": [
      "[[1 2 3]\n",
      " [4 5 6]]\n"
     ]
    }
   ],
   "source": [
    "a2=np.array(([1,2,3],[4,5,6]))\n",
    "print(a2)"
   ]
  },
  {
   "cell_type": "code",
   "execution_count": 62,
   "id": "af6fff94-2cd2-4072-aa90-973061ee7fb2",
   "metadata": {},
   "outputs": [
    {
     "name": "stdout",
     "output_type": "stream",
     "text": [
      "[   0    1    2 ... 9997 9998 9999]\n"
     ]
    }
   ],
   "source": [
    "print(np.arange(10000))"
   ]
  },
  {
   "cell_type": "code",
   "execution_count": 59,
   "id": "9ab76907-a735-43d7-851b-0db5c0d3468b",
   "metadata": {},
   "outputs": [
    {
     "name": "stdout",
     "output_type": "stream",
     "text": [
      "[   0    1    2 ... 9997 9998 9999]\n"
     ]
    }
   ],
   "source": []
  },
  {
   "cell_type": "code",
   "execution_count": 67,
   "id": "8bb770dc-dbdc-4958-8e9b-ba83879b5fa2",
   "metadata": {},
   "outputs": [
    {
     "ename": "ValueError",
     "evalue": "operands could not be broadcast together with shapes (2,5) (2,3) ",
     "output_type": "error",
     "traceback": [
      "\u001b[1;31m---------------------------------------------------------------------------\u001b[0m",
      "\u001b[1;31mValueError\u001b[0m                                Traceback (most recent call last)",
      "Cell \u001b[1;32mIn[67], line 1\u001b[0m\n\u001b[1;32m----> 1\u001b[0m d1\u001b[38;5;241m+\u001b[39ma2\n",
      "\u001b[1;31mValueError\u001b[0m: operands could not be broadcast together with shapes (2,5) (2,3) "
     ]
    }
   ],
   "source": [
    "d1+a2"
   ]
  },
  {
   "cell_type": "code",
   "execution_count": 68,
   "id": "077da0a0-55fb-4c5d-8068-50d8a0bf6c7b",
   "metadata": {},
   "outputs": [
    {
     "data": {
      "text/plain": [
       "array([ 1,  2,  3,  4,  5,  6,  7,  8,  9, 10])"
      ]
     },
     "execution_count": 68,
     "metadata": {},
     "output_type": "execute_result"
    }
   ],
   "source": [
    "a1"
   ]
  },
  {
   "cell_type": "code",
   "execution_count": 95,
   "id": "3b4884f5-105e-436c-91dd-43d16f2e1f5e",
   "metadata": {},
   "outputs": [
    {
     "name": "stdout",
     "output_type": "stream",
     "text": [
      "[ 3  4  5  6  7  8  9 10]\n"
     ]
    }
   ],
   "source": [
    "print (a1[2:])"
   ]
  },
  {
   "cell_type": "code",
   "execution_count": 96,
   "id": "a350cf36-cb05-4d09-863d-f5106799c828",
   "metadata": {},
   "outputs": [],
   "source": [
    "b=slice(10,20,2)"
   ]
  },
  {
   "cell_type": "code",
   "execution_count": 79,
   "id": "2538d8e8-6923-415d-90ef-052a9182015d",
   "metadata": {},
   "outputs": [
    {
     "data": {
      "text/plain": [
       "slice(10, 20, 2)"
      ]
     },
     "execution_count": 79,
     "metadata": {},
     "output_type": "execute_result"
    }
   ],
   "source": [
    "b"
   ]
  },
  {
   "cell_type": "code",
   "execution_count": 86,
   "id": "5fdb8bb2-461d-429d-8b2c-882108f5be04",
   "metadata": {},
   "outputs": [
    {
     "name": "stdout",
     "output_type": "stream",
     "text": [
      "[3]\n"
     ]
    }
   ],
   "source": [
    "c=[3]\n",
    "print (c)"
   ]
  },
  {
   "cell_type": "code",
   "execution_count": 93,
   "id": "108ab0ed-6c85-47b6-9048-68bc41522818",
   "metadata": {},
   "outputs": [
    {
     "name": "stdout",
     "output_type": "stream",
     "text": [
      "[4]\n"
     ]
    }
   ],
   "source": [
    "test=a1[c]\n",
    "print (test)"
   ]
  },
  {
   "cell_type": "code",
   "execution_count": 102,
   "id": "bc8831c9-f16f-4519-a111-4f8d5eb9a7c2",
   "metadata": {},
   "outputs": [],
   "source": [
    "s=np.delete (d1,1,1)"
   ]
  },
  {
   "cell_type": "code",
   "execution_count": 103,
   "id": "88e28074-f87e-4603-8025-9431851a57f2",
   "metadata": {},
   "outputs": [
    {
     "name": "stdout",
     "output_type": "stream",
     "text": [
      "[[ 1  2  3  4  5]\n",
      " [ 6  7  8  9 10]]\n",
      "[[ 1  3  4  5]\n",
      " [ 6  8  9 10]]\n"
     ]
    }
   ],
   "source": [
    "print (d1)\n",
    "print(s)\n"
   ]
  },
  {
   "cell_type": "code",
   "execution_count": 106,
   "id": "59c412ae-5b61-4973-8fa2-2e8109b44495",
   "metadata": {},
   "outputs": [
    {
     "data": {
      "text/plain": [
       "array([ 1,  3,  4,  5,  6,  8,  9, 10])"
      ]
     },
     "execution_count": 106,
     "metadata": {},
     "output_type": "execute_result"
    }
   ],
   "source": [
    "np.hstack(s)"
   ]
  },
  {
   "cell_type": "code",
   "execution_count": 111,
   "id": "9e58e25b-af26-46b9-8f33-c149128c150d",
   "metadata": {},
   "outputs": [
    {
     "data": {
      "text/plain": [
       "10"
      ]
     },
     "execution_count": 111,
     "metadata": {},
     "output_type": "execute_result"
    }
   ],
   "source": [
    "d1[1][4]"
   ]
  },
  {
   "cell_type": "code",
   "execution_count": 114,
   "id": "b2ee9061-6a82-49d5-bfe4-3806c36f7f27",
   "metadata": {},
   "outputs": [],
   "source": [
    "mat1 = np.arange (0,30)\n",
    "mat2 =np.reshape (mat1,(6,5),'C')\n"
   ]
  },
  {
   "cell_type": "code",
   "execution_count": 115,
   "id": "fe1b9435-9983-44c6-bdb3-58342845b88e",
   "metadata": {},
   "outputs": [
    {
     "data": {
      "text/plain": [
       "array([[ 0,  1,  2,  3,  4],\n",
       "       [ 5,  6,  7,  8,  9],\n",
       "       [10, 11, 12, 13, 14],\n",
       "       [15, 16, 17, 18, 19],\n",
       "       [20, 21, 22, 23, 24],\n",
       "       [25, 26, 27, 28, 29]])"
      ]
     },
     "execution_count": 115,
     "metadata": {},
     "output_type": "execute_result"
    }
   ],
   "source": [
    "mat2"
   ]
  },
  {
   "cell_type": "code",
   "execution_count": 116,
   "id": "d6ad4636-96e0-4a31-bf60-1e63989000d9",
   "metadata": {},
   "outputs": [],
   "source": [
    "l1=[1,2,3]\n",
    "l2=[11,22,33]\n",
    "l3=[21,22,23]"
   ]
  },
  {
   "cell_type": "code",
   "execution_count": 120,
   "id": "339df503-8c90-4160-a197-02da3f14dcbe",
   "metadata": {},
   "outputs": [],
   "source": [
    "l=np.array([l1,l2,l3])"
   ]
  },
  {
   "cell_type": "code",
   "execution_count": 121,
   "id": "90d2a8ad-fc39-44a6-9457-4ab23be5b3d7",
   "metadata": {},
   "outputs": [
    {
     "data": {
      "text/plain": [
       "array([[ 1,  2,  3],\n",
       "       [11, 22, 33],\n",
       "       [21, 22, 23]])"
      ]
     },
     "execution_count": 121,
     "metadata": {},
     "output_type": "execute_result"
    }
   ],
   "source": [
    "l"
   ]
  },
  {
   "cell_type": "code",
   "execution_count": 123,
   "id": "f0527b60-f856-48e8-816b-52e2bf640447",
   "metadata": {},
   "outputs": [],
   "source": [
    "b=l.transpose()"
   ]
  },
  {
   "cell_type": "code",
   "execution_count": 127,
   "id": "60749fe7-0316-42ab-b2f0-a41db441a48d",
   "metadata": {},
   "outputs": [
    {
     "data": {
      "text/plain": [
       "array([[  14,  154,  134],\n",
       "       [ 154, 1694, 1474],\n",
       "       [ 134, 1474, 1454]])"
      ]
     },
     "execution_count": 127,
     "metadata": {},
     "output_type": "execute_result"
    }
   ],
   "source": [
    "l@b"
   ]
  },
  {
   "cell_type": "code",
   "execution_count": 129,
   "id": "b738b9bb-888a-4c6d-8eea-7e83fa0e907a",
   "metadata": {},
   "outputs": [
    {
     "data": {
      "text/plain": [
       "array([[    1,     8,    27],\n",
       "       [ 1331, 10648, 35937],\n",
       "       [ 9261, 10648, 12167]], dtype=int32)"
      ]
     },
     "execution_count": 129,
     "metadata": {},
     "output_type": "execute_result"
    }
   ],
   "source": [
    "l**3"
   ]
  },
  {
   "cell_type": "code",
   "execution_count": 132,
   "id": "2093356a-a5f2-484c-93d7-acdc60885d90",
   "metadata": {},
   "outputs": [
    {
     "name": "stdout",
     "output_type": "stream",
     "text": [
      "1\n",
      "2\n",
      "3\n",
      "11\n",
      "22\n",
      "33\n",
      "21\n",
      "22\n",
      "23\n"
     ]
    }
   ],
   "source": [
    "for i in l.flat:\n",
    "    print (i)"
   ]
  },
  {
   "cell_type": "code",
   "execution_count": 133,
   "id": "812e2aa4-7883-4c5b-b0b4-e50941b2b902",
   "metadata": {},
   "outputs": [
    {
     "data": {
      "text/plain": [
       "array([ 1,  2,  3, 11, 22, 33, 21, 22, 23])"
      ]
     },
     "execution_count": 133,
     "metadata": {},
     "output_type": "execute_result"
    }
   ],
   "source": [
    "l.ravel()"
   ]
  },
  {
   "cell_type": "code",
   "execution_count": null,
   "id": "af499c27-7f77-4b93-a7fd-c4b64cf7ae3a",
   "metadata": {},
   "outputs": [],
   "source": []
  }
 ],
 "metadata": {
  "kernelspec": {
   "display_name": "Python 3 (ipykernel)",
   "language": "python",
   "name": "python3"
  },
  "language_info": {
   "codemirror_mode": {
    "name": "ipython",
    "version": 3
   },
   "file_extension": ".py",
   "mimetype": "text/x-python",
   "name": "python",
   "nbconvert_exporter": "python",
   "pygments_lexer": "ipython3",
   "version": "3.11.7"
  }
 },
 "nbformat": 4,
 "nbformat_minor": 5
}
