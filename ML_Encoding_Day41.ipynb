{
 "cells": [
  {
   "cell_type": "code",
   "execution_count": 1,
   "id": "728f6b75-8fc7-4038-985d-4ac6eafa0116",
   "metadata": {},
   "outputs": [],
   "source": [
    "%matplotlib inline\n",
    "import pandas as pd\n",
    "import numpy as np\n",
    "import os\n"
   ]
  },
  {
   "cell_type": "code",
   "execution_count": 2,
   "id": "00888558-4d29-4aaa-9769-574c09834de9",
   "metadata": {},
   "outputs": [
    {
     "data": {
      "text/html": [
       "<div>\n",
       "<style scoped>\n",
       "    .dataframe tbody tr th:only-of-type {\n",
       "        vertical-align: middle;\n",
       "    }\n",
       "\n",
       "    .dataframe tbody tr th {\n",
       "        vertical-align: top;\n",
       "    }\n",
       "\n",
       "    .dataframe thead th {\n",
       "        text-align: right;\n",
       "    }\n",
       "</style>\n",
       "<table border=\"1\" class=\"dataframe\">\n",
       "  <thead>\n",
       "    <tr style=\"text-align: right;\">\n",
       "      <th></th>\n",
       "      <th>CASE_STATE</th>\n",
       "      <th>AGE</th>\n",
       "      <th>SEX</th>\n",
       "      <th>PERSON_TYPE</th>\n",
       "      <th>SEATING_POSITION</th>\n",
       "      <th>RESTRAINT_SYSTEM-USE</th>\n",
       "      <th>AIR_BAG_AVAILABILITY/DEPLOYMENT</th>\n",
       "      <th>EJECTION</th>\n",
       "      <th>EJECTION_PATH</th>\n",
       "      <th>EXTRICATION</th>\n",
       "      <th>...</th>\n",
       "      <th>DRUG_TEST_RESULTS_(2_of_3)</th>\n",
       "      <th>DRUG_TEST_TYPE_(3_of_3)</th>\n",
       "      <th>DRUG_TEST_RESULTS_(3_of_3)</th>\n",
       "      <th>HISPANIC_ORIGIN</th>\n",
       "      <th>TAKEN_TO_HOSPITAL</th>\n",
       "      <th>RELATED_FACTOR_(1)-PERSON_LEVEL</th>\n",
       "      <th>RELATED_FACTOR_(2)-PERSON_LEVEL</th>\n",
       "      <th>RELATED_FACTOR_(3)-PERSON_LEVEL</th>\n",
       "      <th>RACE</th>\n",
       "      <th>INJURY_SEVERITY</th>\n",
       "    </tr>\n",
       "  </thead>\n",
       "  <tbody>\n",
       "    <tr>\n",
       "      <th>0</th>\n",
       "      <td>Illinois</td>\n",
       "      <td>30</td>\n",
       "      <td>Male</td>\n",
       "      <td>Driver</td>\n",
       "      <td>Front_Seat_-_Left_Side_(Drivers_Side)</td>\n",
       "      <td>None_Used/Not_Applicable</td>\n",
       "      <td>Air_Bag_Not_Available_for_this_Seat</td>\n",
       "      <td>Not_Ejected</td>\n",
       "      <td>Not_Ejected/Not_Applicable</td>\n",
       "      <td>Not_Extricated</td>\n",
       "      <td>...</td>\n",
       "      <td>606</td>\n",
       "      <td>Not_Tested_for_Drugs</td>\n",
       "      <td>0</td>\n",
       "      <td>Non-Hispanic</td>\n",
       "      <td>No</td>\n",
       "      <td>Not_Applicable_-_Driver/None_-_All_Other_Persons</td>\n",
       "      <td>Not_Applicable_-_Driver/None_-_All_Other_Persons</td>\n",
       "      <td>Not_Applicable_-_Driver/None_-_All_Other_Persons</td>\n",
       "      <td>Black</td>\n",
       "      <td>Fatal_Injury</td>\n",
       "    </tr>\n",
       "    <tr>\n",
       "      <th>1</th>\n",
       "      <td>Illinois</td>\n",
       "      <td>19</td>\n",
       "      <td>Female</td>\n",
       "      <td>Driver</td>\n",
       "      <td>Front_Seat_-_Left_Side_(Drivers_Side)</td>\n",
       "      <td>Restraint_Used_-_Type_Unknown</td>\n",
       "      <td>Air_Bag_Not_Available_for_this_Seat</td>\n",
       "      <td>Not_Ejected</td>\n",
       "      <td>Not_Ejected/Not_Applicable</td>\n",
       "      <td>Not_Extricated</td>\n",
       "      <td>...</td>\n",
       "      <td>0</td>\n",
       "      <td>Not_Tested_for_Drugs</td>\n",
       "      <td>0</td>\n",
       "      <td>Not_a_Fatality_(Not_Applicable)</td>\n",
       "      <td>Yes</td>\n",
       "      <td>Not_Applicable_-_Driver/None_-_All_Other_Persons</td>\n",
       "      <td>Not_Applicable_-_Driver/None_-_All_Other_Persons</td>\n",
       "      <td>Not_Applicable_-_Driver/None_-_All_Other_Persons</td>\n",
       "      <td>Not_a_Fatality_(Not_Applicable)</td>\n",
       "      <td>Possible_Injury</td>\n",
       "    </tr>\n",
       "    <tr>\n",
       "      <th>2</th>\n",
       "      <td>Illinois</td>\n",
       "      <td>22</td>\n",
       "      <td>Male</td>\n",
       "      <td>Passenger_of_a_Motor_Vehicle_in_Transport</td>\n",
       "      <td>Second_Seat_-_Left_Side</td>\n",
       "      <td>Restraint_Used_-_Type_Unknown</td>\n",
       "      <td>Air_Bag_Not_Available_for_this_Seat</td>\n",
       "      <td>Not_Ejected</td>\n",
       "      <td>Not_Ejected/Not_Applicable</td>\n",
       "      <td>Not_Extricated</td>\n",
       "      <td>...</td>\n",
       "      <td>0</td>\n",
       "      <td>Not_Tested_for_Drugs</td>\n",
       "      <td>0</td>\n",
       "      <td>Not_a_Fatality_(Not_Applicable)</td>\n",
       "      <td>No</td>\n",
       "      <td>Not_Applicable_-_Driver/None_-_All_Other_Persons</td>\n",
       "      <td>Not_Applicable_-_Driver/None_-_All_Other_Persons</td>\n",
       "      <td>Not_Applicable_-_Driver/None_-_All_Other_Persons</td>\n",
       "      <td>Not_a_Fatality_(Not_Applicable)</td>\n",
       "      <td>No_Injury</td>\n",
       "    </tr>\n",
       "    <tr>\n",
       "      <th>3</th>\n",
       "      <td>Illinois</td>\n",
       "      <td>17</td>\n",
       "      <td>Female</td>\n",
       "      <td>Passenger_of_a_Motor_Vehicle_in_Transport</td>\n",
       "      <td>Front_Seat_-_Right_Side</td>\n",
       "      <td>Restraint_Used_-_Type_Unknown</td>\n",
       "      <td>Air_Bag_Not_Available_for_this_Seat</td>\n",
       "      <td>Not_Ejected</td>\n",
       "      <td>Not_Ejected/Not_Applicable</td>\n",
       "      <td>Not_Extricated</td>\n",
       "      <td>...</td>\n",
       "      <td>0</td>\n",
       "      <td>Not_Tested_for_Drugs</td>\n",
       "      <td>0</td>\n",
       "      <td>Not_a_Fatality_(Not_Applicable)</td>\n",
       "      <td>No</td>\n",
       "      <td>Not_Applicable_-_Driver/None_-_All_Other_Persons</td>\n",
       "      <td>Not_Applicable_-_Driver/None_-_All_Other_Persons</td>\n",
       "      <td>Not_Applicable_-_Driver/None_-_All_Other_Persons</td>\n",
       "      <td>Not_a_Fatality_(Not_Applicable)</td>\n",
       "      <td>No_Injury</td>\n",
       "    </tr>\n",
       "    <tr>\n",
       "      <th>4</th>\n",
       "      <td>Illinois</td>\n",
       "      <td>17</td>\n",
       "      <td>Female</td>\n",
       "      <td>Passenger_of_a_Motor_Vehicle_in_Transport</td>\n",
       "      <td>Second_Seat_-_Right_Side</td>\n",
       "      <td>Restraint_Used_-_Type_Unknown</td>\n",
       "      <td>Air_Bag_Not_Available_for_this_Seat</td>\n",
       "      <td>Not_Ejected</td>\n",
       "      <td>Not_Ejected/Not_Applicable</td>\n",
       "      <td>Not_Extricated</td>\n",
       "      <td>...</td>\n",
       "      <td>0</td>\n",
       "      <td>Not_Tested_for_Drugs</td>\n",
       "      <td>0</td>\n",
       "      <td>Not_a_Fatality_(Not_Applicable)</td>\n",
       "      <td>No</td>\n",
       "      <td>Not_Applicable_-_Driver/None_-_All_Other_Persons</td>\n",
       "      <td>Not_Applicable_-_Driver/None_-_All_Other_Persons</td>\n",
       "      <td>Not_Applicable_-_Driver/None_-_All_Other_Persons</td>\n",
       "      <td>Not_a_Fatality_(Not_Applicable)</td>\n",
       "      <td>No_Injury</td>\n",
       "    </tr>\n",
       "  </tbody>\n",
       "</table>\n",
       "<p>5 rows × 30 columns</p>\n",
       "</div>"
      ],
      "text/plain": [
       "  CASE_STATE  AGE     SEX                                PERSON_TYPE  \\\n",
       "0   Illinois   30    Male                                     Driver   \n",
       "1   Illinois   19  Female                                     Driver   \n",
       "2   Illinois   22    Male  Passenger_of_a_Motor_Vehicle_in_Transport   \n",
       "3   Illinois   17  Female  Passenger_of_a_Motor_Vehicle_in_Transport   \n",
       "4   Illinois   17  Female  Passenger_of_a_Motor_Vehicle_in_Transport   \n",
       "\n",
       "                        SEATING_POSITION           RESTRAINT_SYSTEM-USE  \\\n",
       "0  Front_Seat_-_Left_Side_(Drivers_Side)       None_Used/Not_Applicable   \n",
       "1  Front_Seat_-_Left_Side_(Drivers_Side)  Restraint_Used_-_Type_Unknown   \n",
       "2                Second_Seat_-_Left_Side  Restraint_Used_-_Type_Unknown   \n",
       "3                Front_Seat_-_Right_Side  Restraint_Used_-_Type_Unknown   \n",
       "4               Second_Seat_-_Right_Side  Restraint_Used_-_Type_Unknown   \n",
       "\n",
       "       AIR_BAG_AVAILABILITY/DEPLOYMENT     EJECTION  \\\n",
       "0  Air_Bag_Not_Available_for_this_Seat  Not_Ejected   \n",
       "1  Air_Bag_Not_Available_for_this_Seat  Not_Ejected   \n",
       "2  Air_Bag_Not_Available_for_this_Seat  Not_Ejected   \n",
       "3  Air_Bag_Not_Available_for_this_Seat  Not_Ejected   \n",
       "4  Air_Bag_Not_Available_for_this_Seat  Not_Ejected   \n",
       "\n",
       "                EJECTION_PATH     EXTRICATION  ... DRUG_TEST_RESULTS_(2_of_3)  \\\n",
       "0  Not_Ejected/Not_Applicable  Not_Extricated  ...                        606   \n",
       "1  Not_Ejected/Not_Applicable  Not_Extricated  ...                          0   \n",
       "2  Not_Ejected/Not_Applicable  Not_Extricated  ...                          0   \n",
       "3  Not_Ejected/Not_Applicable  Not_Extricated  ...                          0   \n",
       "4  Not_Ejected/Not_Applicable  Not_Extricated  ...                          0   \n",
       "\n",
       "  DRUG_TEST_TYPE_(3_of_3) DRUG_TEST_RESULTS_(3_of_3)  \\\n",
       "0    Not_Tested_for_Drugs                          0   \n",
       "1    Not_Tested_for_Drugs                          0   \n",
       "2    Not_Tested_for_Drugs                          0   \n",
       "3    Not_Tested_for_Drugs                          0   \n",
       "4    Not_Tested_for_Drugs                          0   \n",
       "\n",
       "                   HISPANIC_ORIGIN  TAKEN_TO_HOSPITAL  \\\n",
       "0                     Non-Hispanic                 No   \n",
       "1  Not_a_Fatality_(Not_Applicable)                Yes   \n",
       "2  Not_a_Fatality_(Not_Applicable)                 No   \n",
       "3  Not_a_Fatality_(Not_Applicable)                 No   \n",
       "4  Not_a_Fatality_(Not_Applicable)                 No   \n",
       "\n",
       "                    RELATED_FACTOR_(1)-PERSON_LEVEL  \\\n",
       "0  Not_Applicable_-_Driver/None_-_All_Other_Persons   \n",
       "1  Not_Applicable_-_Driver/None_-_All_Other_Persons   \n",
       "2  Not_Applicable_-_Driver/None_-_All_Other_Persons   \n",
       "3  Not_Applicable_-_Driver/None_-_All_Other_Persons   \n",
       "4  Not_Applicable_-_Driver/None_-_All_Other_Persons   \n",
       "\n",
       "                    RELATED_FACTOR_(2)-PERSON_LEVEL  \\\n",
       "0  Not_Applicable_-_Driver/None_-_All_Other_Persons   \n",
       "1  Not_Applicable_-_Driver/None_-_All_Other_Persons   \n",
       "2  Not_Applicable_-_Driver/None_-_All_Other_Persons   \n",
       "3  Not_Applicable_-_Driver/None_-_All_Other_Persons   \n",
       "4  Not_Applicable_-_Driver/None_-_All_Other_Persons   \n",
       "\n",
       "                    RELATED_FACTOR_(3)-PERSON_LEVEL  \\\n",
       "0  Not_Applicable_-_Driver/None_-_All_Other_Persons   \n",
       "1  Not_Applicable_-_Driver/None_-_All_Other_Persons   \n",
       "2  Not_Applicable_-_Driver/None_-_All_Other_Persons   \n",
       "3  Not_Applicable_-_Driver/None_-_All_Other_Persons   \n",
       "4  Not_Applicable_-_Driver/None_-_All_Other_Persons   \n",
       "\n",
       "                              RACE  INJURY_SEVERITY  \n",
       "0                            Black     Fatal_Injury  \n",
       "1  Not_a_Fatality_(Not_Applicable)  Possible_Injury  \n",
       "2  Not_a_Fatality_(Not_Applicable)        No_Injury  \n",
       "3  Not_a_Fatality_(Not_Applicable)        No_Injury  \n",
       "4  Not_a_Fatality_(Not_Applicable)        No_Injury  \n",
       "\n",
       "[5 rows x 30 columns]"
      ]
     },
     "execution_count": 2,
     "metadata": {},
     "output_type": "execute_result"
    }
   ],
   "source": [
    "os.chdir('F:\\TopMentor_DataScience\\Batch 103 Day 41 ')\n",
    "df = pd.read_csv(\"FARS_onehot.csv\")\n",
    "df.head()\n"
   ]
  },
  {
   "cell_type": "code",
   "execution_count": 3,
   "id": "10dd521b-4e9c-46b3-a05e-3fcc667a454f",
   "metadata": {},
   "outputs": [
    {
     "data": {
      "text/plain": [
       "Index(['CASE_STATE', 'AGE', 'SEX', 'PERSON_TYPE', 'SEATING_POSITION',\n",
       "       'RESTRAINT_SYSTEM-USE', 'AIR_BAG_AVAILABILITY/DEPLOYMENT', 'EJECTION',\n",
       "       'EJECTION_PATH', 'EXTRICATION', 'NON_MOTORIST_LOCATION',\n",
       "       'POLICE_REPORTED_ALCOHOL_INVOLVEMENT', 'METHOD_ALCOHOL_DETERMINATION',\n",
       "       'ALCOHOL_TEST_TYPE', 'ALCOHOL_TEST_RESULT',\n",
       "       'POLICE-REPORTED_DRUG_INVOLVEMENT', 'METHOD_OF_DRUG_DETERMINATION',\n",
       "       'DRUG_TEST_TYPE', 'DRUG_TEST_RESULTS_(1_of_3)',\n",
       "       'DRUG_TEST_TYPE_(2_of_3)', 'DRUG_TEST_RESULTS_(2_of_3)',\n",
       "       'DRUG_TEST_TYPE_(3_of_3)', 'DRUG_TEST_RESULTS_(3_of_3)',\n",
       "       'HISPANIC_ORIGIN', 'TAKEN_TO_HOSPITAL',\n",
       "       'RELATED_FACTOR_(1)-PERSON_LEVEL', 'RELATED_FACTOR_(2)-PERSON_LEVEL',\n",
       "       'RELATED_FACTOR_(3)-PERSON_LEVEL', 'RACE', 'INJURY_SEVERITY'],\n",
       "      dtype='object')"
      ]
     },
     "execution_count": 3,
     "metadata": {},
     "output_type": "execute_result"
    }
   ],
   "source": [
    "df.dtypes\n",
    "df.columns"
   ]
  },
  {
   "cell_type": "code",
   "execution_count": 4,
   "id": "41d39479-5f6c-4e36-bfda-8f4fdca363df",
   "metadata": {},
   "outputs": [
    {
     "data": {
      "text/plain": [
       "Index(['CASE_STATE', 'SEX', 'PERSON_TYPE', 'SEATING_POSITION',\n",
       "       'RESTRAINT_SYSTEM-USE', 'AIR_BAG_AVAILABILITY/DEPLOYMENT', 'EJECTION',\n",
       "       'EJECTION_PATH', 'EXTRICATION', 'NON_MOTORIST_LOCATION',\n",
       "       'POLICE_REPORTED_ALCOHOL_INVOLVEMENT', 'METHOD_ALCOHOL_DETERMINATION',\n",
       "       'ALCOHOL_TEST_TYPE', 'POLICE-REPORTED_DRUG_INVOLVEMENT',\n",
       "       'METHOD_OF_DRUG_DETERMINATION', 'DRUG_TEST_TYPE',\n",
       "       'DRUG_TEST_TYPE_(2_of_3)', 'DRUG_TEST_TYPE_(3_of_3)', 'HISPANIC_ORIGIN',\n",
       "       'TAKEN_TO_HOSPITAL', 'RELATED_FACTOR_(1)-PERSON_LEVEL',\n",
       "       'RELATED_FACTOR_(2)-PERSON_LEVEL', 'RELATED_FACTOR_(3)-PERSON_LEVEL',\n",
       "       'RACE', 'INJURY_SEVERITY'],\n",
       "      dtype='object')"
      ]
     },
     "execution_count": 4,
     "metadata": {},
     "output_type": "execute_result"
    }
   ],
   "source": [
    "cl=(df.select_dtypes(include=['object'])).columns\n",
    "cl"
   ]
  },
  {
   "cell_type": "code",
   "execution_count": 5,
   "id": "553e6fbb-3b32-4f53-80e3-2be2954f4107",
   "metadata": {},
   "outputs": [
    {
     "name": "stdout",
     "output_type": "stream",
     "text": [
      "columns is ---> CASE_STATE \n",
      "----->    and values are----> ['Illinois' 'Indiana' 'Iowa' 'Kansas' 'Kentucky' 'Louisiana' 'Maine'\n",
      " 'Maryland' 'Massachusetts' 'Michigan' 'Minnesota' 'Mississippi'\n",
      " 'Missouri' 'Montana' 'Nebraska' 'Nevada' 'New_Hampshire' 'New_Jersey'\n",
      " 'New_Mexico' 'New_York' 'North_Carolina' 'North_Dakota' 'Ohio' 'Oklahoma'\n",
      " 'Oregon' 'Pennsylvania' 'Rhode_Island' 'South_Carolina' 'South_Dakota'\n",
      " 'Tennessee' 'Texas' 'Utah' 'Vermont' 'Virginia' 'Washington'\n",
      " 'West_Virginia' 'Wisconsin' 'Wyoming']\n",
      "columns is ---> SEX \n",
      "----->    and values are----> ['Male' 'Female' 'Unknown']\n",
      "columns is ---> PERSON_TYPE \n",
      "----->    and values are----> ['Driver' 'Passenger_of_a_Motor_Vehicle_in_Transport' 'Bicyclist'\n",
      " 'Occupant_of_a_Motor_Vehicle_Not_in_Transport' 'Pedestrian'\n",
      " 'Occupant_of_a_Non-Motor_Vehicle_Transport_Device' 'Other_Pedestrian'\n",
      " 'Unknown_Occupant_Type_in_a_Motor_Vehicle_in_Transport' 'Other_Cyclist'\n",
      " 'Unknown_Type_of_Non-Motorist']\n",
      "columns is ---> SEATING_POSITION \n",
      "----->    and values are----> ['Front_Seat_-_Left_Side_(Drivers_Side)' 'Second_Seat_-_Left_Side'\n",
      " 'Front_Seat_-_Right_Side' 'Second_Seat_-_Right_Side' 'Non-Motorist'\n",
      " 'Second_Seat_-_Middle' 'Front_Seat_-_Middle'\n",
      " 'Sleeper_Section_of_Cab_(Truck)' 'Unknown' 'Riding_on_Vehicle_Exterior'\n",
      " 'Second_Seat_-_Other' 'Third_Seat_-_Left_Side_(Drivers_Side)'\n",
      " 'Third_Seat_-_Other'\n",
      " 'Other_Passenger_in_unenclosed_passenger_or_cargo_area'\n",
      " 'Second_Seat_-_Unknown'\n",
      " 'Other_Passenger_in_enclosed_passenger_or_cargo_area'\n",
      " 'Third_Seat_-_Unknown' 'Front_Seat_-_Unknown' 'Third_Seat_-_Middle'\n",
      " 'Third_Seat_-_Right_Side' 'Trailing_Unit'\n",
      " 'Other_Passenger_in_passenger_or_cargo_area_(unknown_whether_or_not_enclosed)'\n",
      " 'Front_Seat_-_Other' 'Fourth_Seat_-_Left_Side' 'Fourth_Seat_-_Middle'\n",
      " 'Fourth_Seat_-_Right_Side']\n",
      "columns is ---> RESTRAINT_SYSTEM-USE \n",
      "----->    and values are----> ['None_Used/Not_Applicable' 'Restraint_Used_-_Type_Unknown' 'Unknown'\n",
      " 'Child_Safety_Seat' 'Motorcycle_Helmet' 'Lap_and_Shoulder_Belt'\n",
      " 'Child_Safety_Seat_Used_Improperly' 'Lap_Belt'\n",
      " 'Safety_Belt_Used_Improperly' 'Bicycle_Helmet' 'Shoulder_Belt'\n",
      " 'Helmets_Used_Improperly']\n",
      "columns is ---> AIR_BAG_AVAILABILITY/DEPLOYMENT \n",
      "----->    and values are----> ['Air_Bag_Not_Available_for_this_Seat'\n",
      " 'Air_Bad_Available-Deployment_Not_Known_for_this_Seat'\n",
      " 'Deployed_Air_Bag_from_Front' 'Non-Motorist'\n",
      " 'Air_Bag_Available_but_Not_Deployed_for_this_Seat'\n",
      " 'Unknown_(If_Airbag_Available)' 'Deployed_Air_Bag_Direction_Unknown'\n",
      " 'Deployed_Air_Bag_from_Side' 'Air_Bag_Available_and_Switched_Off'\n",
      " 'Deployed_Air_Bag_Multiple_Directions' 'Air_Bag_Disabled_or_Removed'\n",
      " 'Air_Bag_Previously_Deployed_and_not_Replaced'\n",
      " 'Deployed_Air_Bag_Other_Direction']\n",
      "columns is ---> EJECTION \n",
      "----->    and values are----> ['Not_Ejected' 'Totally_Ejected' 'Partially_Ejected' 'Unknown']\n",
      "columns is ---> EJECTION_PATH \n",
      "----->    and values are----> ['Not_Ejected/Not_Applicable' 'Unknown' 'Through_Side_Window'\n",
      " 'Through_Windshield' 'Through_Roof_Opening' 'Through_Back_Door/Tailgate'\n",
      " 'Other_Path_(e.g._back_of_pickup)' 'Through_Side_Door_Opening'\n",
      " 'Through_Back_Window' 'Through_Roof_(convertible_top_up)']\n",
      "columns is ---> EXTRICATION \n",
      "----->    and values are----> ['Not_Extricated' 'Extricated' 'Unknown']\n",
      "columns is ---> NON_MOTORIST_LOCATION \n",
      "----->    and values are----> ['Not_Applicable_-_Vehicle_Occupant'\n",
      " 'Non-Intersection_-_On_Roadway_Crosswalk_not_Available'\n",
      " 'Non-Intersection_-_In_Parking_Lane'\n",
      " 'Non-Intersection_-_On_Road_Shoulder' 'Intersection_-_In_Crosswalk'\n",
      " 'Non-Intersection_-_Outside_Trafficway'\n",
      " 'Intersection_-_On_Roadway_Crosswalk_Availability_Unknown'\n",
      " 'Intersection_-_On_Roadway_Crosswalk_not_Available'\n",
      " 'Non-Intersection_-_Unknown' 'Intersection_-_On_Roadway_Not_in_Crosswalk'\n",
      " 'Non-Intersection_-_Other_Not_a_Roadway' 'Intersection_-_Unknown'\n",
      " 'Non-Intersection_-_In_Crosswalk'\n",
      " 'Non-Intersection_-_On_Roadway_Not_in_Crosswalk'\n",
      " 'Intersection_-_Not_on_Roadway'\n",
      " 'Non-Intersection_-_On_Roadway_Crosswalk_Availability_Unknown' 'Unknown'\n",
      " 'Non-Intersection_-_Bike_Path']\n",
      "columns is ---> POLICE_REPORTED_ALCOHOL_INVOLVEMENT \n",
      "----->    and values are----> ['No_(Alcohol_Not_Involved)' 'Not_reported' 'Unknown_(Police_Reported)'\n",
      " 'Yes_(Alcohol_Involved)']\n",
      "columns is ---> METHOD_ALCOHOL_DETERMINATION \n",
      "----->    and values are----> ['Not_Reported' 'Observed' 'Evidential_Test_(Breath_Blood_Urine)'\n",
      " 'Preliminary_Breath_Test_(PBT)' 'Other_(e.g._Saliva_test)'\n",
      " 'Passive_Alcohol_Sensor_(PAS)' 'Behavioral']\n",
      "columns is ---> ALCOHOL_TEST_TYPE \n",
      "----->    and values are----> ['Whole_Blood' 'Not_Tested_for_Alcohol' 'Vitreous' 'Breath_BAC' 'Urine'\n",
      " 'Unknown(Not_Reported_Since_2001)' 'Other_Test_Type' 'Blood_Plasma/Serum'\n",
      " 'Liver' 'Blood_Clot']\n",
      "columns is ---> POLICE-REPORTED_DRUG_INVOLVEMENT \n",
      "----->    and values are----> ['Drugs_Involved' 'Not_Reported' 'No_Drugs' 'Reported_Unknown']\n",
      "columns is ---> METHOD_OF_DRUG_DETERMINATION \n",
      "----->    and values are----> ['Not_Reported' 'Evidential_Test_(Blood_Urine)' 'Other' 'Behavioral'\n",
      " 'Drug_Recognition_Technician_(DRT)']\n",
      "columns is ---> DRUG_TEST_TYPE \n",
      "----->    and values are----> ['Blood_Test' 'Not_Tested_for_Drugs' 'Urine_Test'\n",
      " 'Both:_Blood_and_Urine_(Since_1993)' 'Other_Type_Test'\n",
      " 'Unknown_if_Tested_for_Drugs' 'Unknown_Test_Type']\n",
      "columns is ---> DRUG_TEST_TYPE_(2_of_3) \n",
      "----->    and values are----> ['Blood_Test' 'Not_Tested_for_Drugs' 'Urine_Test'\n",
      " 'Both:_Blood_and_Urine_(Since_1993)' 'Unknown_if_Tested_for_Drugs'\n",
      " 'Other_Type_Test' 'Unknown_Test_Type']\n",
      "columns is ---> DRUG_TEST_TYPE_(3_of_3) \n",
      "----->    and values are----> ['Not_Tested_for_Drugs' 'Urine_Test' 'Both:_Blood_and_Urine_(Since_1993)'\n",
      " 'Blood_Test' 'Unknown_if_Tested_for_Drugs' 'Other_Type_Test'\n",
      " 'Unknown_Test_Type']\n",
      "columns is ---> HISPANIC_ORIGIN \n",
      "----->    and values are----> ['Non-Hispanic' 'Not_a_Fatality_(Not_Applicable)'\n",
      " 'Central_or_South_American' 'Mexican' 'Unknown' 'Puerto_Rican'\n",
      " 'European_Spanish' 'Hispanic_-_Origin_Not_Specified_or_Other_Origin'\n",
      " 'Cuban']\n",
      "columns is ---> TAKEN_TO_HOSPITAL \n",
      "----->    and values are----> ['No' 'Yes' 'Unknown']\n",
      "columns is ---> RELATED_FACTOR_(1)-PERSON_LEVEL \n",
      "----->    and values are----> ['Not_Applicable_-_Driver/None_-_All_Other_Persons' 'Not_Visible'\n",
      " 'Walking/Riding_with_or_Against_Traffic_Playing_Working_Sitting_Lying_Standing_etc._in_Roadway'\n",
      " 'Getting_Off/Out_of_or_On/In_to_Moving_Transport_Vehicle'\n",
      " 'Darting_Stumbling_or_Running_into_Road'\n",
      " 'Failure_to_Obey_Traffic_Signs_Traffic_Control_Devices_or_Traffic_Officers_Failure_to_Observe_Safety_Zone_Traffic_Laws'\n",
      " 'Improper_Crossing_or_Roadway_or_Intersection' 'Unknown'\n",
      " 'Interfering_with_Driver' 'Emotional_(e.g._Depression_Angry_Disputed)'\n",
      " 'Construction/Maintenance/Utility_Worker' 'Failure_to_Yield_Right_of_Way'\n",
      " 'Opening_Vehicle_Closure_into_Moving_Traffic_or_While_Vehicle_is_in_Motion'\n",
      " 'Restricted_to_Wheelchair' 'Walking_With_Cane_or_Crutches'\n",
      " 'Motorized_Wheelchair_Rider'\n",
      " 'Getting_Off/Out_of_or_On/In_to_Non-Moving_Transport_Vehicle'\n",
      " 'Passed_OutBlackout'\n",
      " 'Illegal_Driving_on_Road_Shoulder_in_Ditch_on_Sidewalk_on_Median'\n",
      " 'Mother_of_Dead_Fetus' 'Mentally_Challenged'\n",
      " 'Pedestrian_NON-MOTOR_VEHICLE_OPERATOR_RELATED_FACTORS:'\n",
      " 'Inattentive_(talking_Eating_etc)' 'Failure_to_Keep_in_Proper_Lane'\n",
      " 'Failing_to_Dim_Lights_or_Have_Lights_on_When_Required'\n",
      " 'Other_Physical_Impairment' 'Making_Improper_Turn'\n",
      " 'Non-Motorist_Pushing_a_Vehicle' 'Operating_without_Required_Equipment'\n",
      " 'Impaired_Due_to_Previous_Injury' 'Driving_on_Wrong_Side_of_Road'\n",
      " 'Vision_obscured_by_overcorrecting' 'Operator_Inexperience'\n",
      " 'Making_Improper_Entry_to_or_Exit_from_Trafficway'\n",
      " 'Motor_Vehicle_(including_load)' 'Following_Improperly'\n",
      " 'Passing_on_Wrong_Side'\n",
      " 'Operating_the_Vehicle_in_Other_Erratic_Reckless_Careless_or_Negligent_Manner_[or_Operating_at_Erratic_or_Suddenly_Changing_Speeds'\n",
      " 'Head_Restraints_AVOIDING_SWERVING_OR_SLIDING_DUE_TO'\n",
      " 'Slippery_or_Loose_Surface']\n",
      "columns is ---> RELATED_FACTOR_(2)-PERSON_LEVEL \n",
      "----->    and values are----> ['Not_Applicable_-_Driver/None_-_All_Other_Persons'\n",
      " 'Darting_Stumbling_or_Running_into_Road'\n",
      " 'Walking/Riding_with_or_Against_Traffic_Playing_Working_Sitting_Lying_Standing_etc._in_Roadway'\n",
      " 'Rain_Snow_Fog_Smoke_Sand_Dust'\n",
      " 'Improper_Crossing_or_Roadway_or_Intersection' 'Not_Visible' 'Unknown'\n",
      " 'Failure_to_Obey_Traffic_Signs_Traffic_Control_Devices_or_Traffic_Officers_Failure_to_Observe_Safety_Zone_Traffic_Laws'\n",
      " 'Failure_to_Yield_Right_of_Way' 'Inattentive_(talking_Eating_etc)'\n",
      " 'Mentally_Challenged' 'Motor_Vehicle_(including_load)'\n",
      " 'Passed_OutBlackout' 'Other_Physical_Impairment'\n",
      " 'Walking_With_Cane_or_Crutches'\n",
      " 'Curve_Hill_Or_Other_Design_Features_(including_Traffic_signs_Embankment)'\n",
      " 'Operating_without_Required_Equipment' 'Motorized_Wheelchair_Rider'\n",
      " 'Making_Improper_Entry_to_or_Exit_from_Trafficway'\n",
      " 'Opening_Vehicle_Closure_into_Moving_Traffic_or_While_Vehicle_is_in_Motion'\n",
      " 'Getting_Off/Out_of_or_On/In_to_Moving_Transport_Vehicle'\n",
      " 'Improper_or_Erratic_Lane_Changing' 'Non-Motorist_Pushing_a_Vehicle'\n",
      " 'Driving_on_Wrong_Side_of_Road' 'Impaired_Due_to_Previous_Injury'\n",
      " 'Emotional_(e.g._Depression_Angry_Disputed)'\n",
      " 'Head_Restraints_AVOIDING_SWERVING_OR_SLIDING_DUE_TO'\n",
      " 'Following_Improperly'\n",
      " 'Failing_to_Dim_Lights_or_Have_Lights_on_When_Required'\n",
      " 'Interfering_with_Driver' 'Construction/Maintenance/Utility_Worker'\n",
      " 'Making_Improper_Turn'\n",
      " 'Operating_the_Vehicle_in_Other_Erratic_Reckless_Careless_or_Negligent_Manner_[or_Operating_at_Erratic_or_Suddenly_Changing_Speeds'\n",
      " 'Pedestrian_NON-MOTOR_VEHICLE_OPERATOR_RELATED_FACTORS:' 'Parked_Vehicle'\n",
      " 'Restricted_to_Wheelchair'\n",
      " 'Failure_to_Observe_Warnings_or_Instructions_on_Vehicles_Displaying_Them'\n",
      " 'Driving_too_Fast_for_Conditions_or_in_Excess_of_Posted_Speed_Limit'\n",
      " 'Blind' 'Animals_in_Road' 'Ruts_Holes_Bumps_in_Road']\n",
      "columns is ---> RELATED_FACTOR_(3)-PERSON_LEVEL \n",
      "----->    and values are----> ['Not_Applicable_-_Driver/None_-_All_Other_Persons'\n",
      " 'Improper_Crossing_or_Roadway_or_Intersection'\n",
      " 'Failure_to_Yield_Right_of_Way' 'Unknown'\n",
      " 'Walking/Riding_with_or_Against_Traffic_Playing_Working_Sitting_Lying_Standing_etc._in_Roadway'\n",
      " 'Parked_Vehicle'\n",
      " 'Failure_to_Obey_Traffic_Signs_Traffic_Control_Devices_or_Traffic_Officers_Failure_to_Observe_Safety_Zone_Traffic_Laws'\n",
      " 'Other_Physical_Impairment' 'Inattentive_(talking_Eating_etc)' 'Blind'\n",
      " 'Rain_Snow_Fog_Smoke_Sand_Dust' 'Not_Visible' 'Passed_OutBlackout'\n",
      " 'Getting_Off/Out_of_or_On/In_to_Moving_Transport_Vehicle'\n",
      " 'Emotional_(e.g._Depression_Angry_Disputed)'\n",
      " 'Non-Motorist_Pushing_a_Vehicle' 'Motor_Vehicle_(including_load)'\n",
      " 'Building_Billboard_or_Other_Structures'\n",
      " 'Reflected_Glare_Bright_Sunlight_Headlights'\n",
      " 'Traveling_on_Prohibited_Trafficway' 'Restricted_to_Wheelchair'\n",
      " 'Making_Improper_Turn']\n",
      "columns is ---> RACE \n",
      "----->    and values are----> ['Black' 'Not_a_Fatality_(Not_Applicable)' 'White' 'Unknown' 'Chinese'\n",
      " 'Filipino' 'Asian_or_Pacific_Islander_No_Specific_(Individual)_Race'\n",
      " 'All_Other_Races' 'Other_Asian_or_Pacific_Islander' 'Asian_Indian'\n",
      " 'Vietnamese' 'Japanese' 'American_Indian_(_Includes_Aleuts_and_Eskimos)'\n",
      " 'Korean' 'Other_Indian_(Includes_South_and_Central_America)'\n",
      " 'Hawaiian_(Includes_part-Hawaiian)'\n",
      " 'Multiple_Races_(Individual_races_not_specified;_ex._mixed)' 'Samoan']\n",
      "columns is ---> INJURY_SEVERITY \n",
      "----->    and values are----> ['Fatal_Injury' 'Possible_Injury' 'No_Injury' 'Incapaciting_Injury'\n",
      " 'Nonincapaciting_Evident_Injury' 'Unknown' 'Injured_Severity_Unknown'\n",
      " 'Died_Prior_to_Accident']\n"
     ]
    }
   ],
   "source": [
    "for i in cl:\n",
    "    print('columns is --->',i,'\\n----->','   and values are---->', df[i].unique())"
   ]
  },
  {
   "cell_type": "code",
   "execution_count": null,
   "id": "fef5e6f3-8929-43d8-86ee-db2aee0b6954",
   "metadata": {},
   "outputs": [],
   "source": []
  },
  {
   "cell_type": "code",
   "execution_count": 6,
   "id": "5ea013e2-49b0-432b-b295-2150f3ae1c81",
   "metadata": {},
   "outputs": [
    {
     "data": {
      "text/plain": [
       "INJURY_SEVERITY\n",
       "Fatal_Injury                      28741\n",
       "No_Injury                         12561\n",
       "Incapaciting_Injury               10083\n",
       "Nonincapaciting_Evident_Injury     9285\n",
       "Possible_Injury                    5845\n",
       "Unknown                             560\n",
       "Injured_Severity_Unknown            231\n",
       "Died_Prior_to_Accident                6\n",
       "Name: count, dtype: int64"
      ]
     },
     "execution_count": 6,
     "metadata": {},
     "output_type": "execute_result"
    }
   ],
   "source": [
    "df['INJURY_SEVERITY'].value_counts()"
   ]
  },
  {
   "cell_type": "code",
   "execution_count": 7,
   "id": "c6dcf147-61a6-48ed-88da-68154d5e6167",
   "metadata": {},
   "outputs": [
    {
     "data": {
      "text/plain": [
       "Index([24709, 25954, 30475, 41353, 65769, 66068], dtype='int64')"
      ]
     },
     "execution_count": 7,
     "metadata": {},
     "output_type": "execute_result"
    }
   ],
   "source": [
    "#df.drop(df[df['INJURY_SEVERITY']=='Died_Prior_to_Accident'])\n",
    "df[df['INJURY_SEVERITY']=='Died_Prior_to_Accident'].index"
   ]
  },
  {
   "cell_type": "code",
   "execution_count": 8,
   "id": "0e14ee7a-8d6a-4764-8c1a-5628db4e422b",
   "metadata": {},
   "outputs": [],
   "source": [
    "df=df[df['INJURY_SEVERITY']!='Died_Prior_to_Accident']"
   ]
  },
  {
   "cell_type": "code",
   "execution_count": 9,
   "id": "37f1569a-4274-48f0-8670-db09d6b9dd8d",
   "metadata": {},
   "outputs": [
    {
     "data": {
      "text/plain": [
       "INJURY_SEVERITY\n",
       "Fatal_Injury                      28741\n",
       "No_Injury                         12561\n",
       "Incapaciting_Injury               10083\n",
       "Nonincapaciting_Evident_Injury     9285\n",
       "Possible_Injury                    5845\n",
       "Unknown                             560\n",
       "Injured_Severity_Unknown            231\n",
       "Name: count, dtype: int64"
      ]
     },
     "execution_count": 9,
     "metadata": {},
     "output_type": "execute_result"
    }
   ],
   "source": [
    "df['INJURY_SEVERITY'].value_counts()"
   ]
  },
  {
   "cell_type": "code",
   "execution_count": 10,
   "id": "37128a5e-87df-4965-bb98-a34f689f46cc",
   "metadata": {},
   "outputs": [],
   "source": [
    "df['INJURY_SEVERITY'].replace(['Unknown','Injured_Severity_Unknown'],'Possible_Injury',inplace=True)"
   ]
  },
  {
   "cell_type": "code",
   "execution_count": 20,
   "id": "1c0084e1-14cb-41e3-a34c-18ead4b8b6ed",
   "metadata": {},
   "outputs": [],
   "source": [
    "df['INJURY_SEVERITY'].value_counts()\n",
    "df = df[df.INJURY_SEVERITY != 'Died_Prior_to_Accident'] "
   ]
  },
  {
   "cell_type": "code",
   "execution_count": 12,
   "id": "b07053de-5a56-44b7-88b8-e62fd79b8d0c",
   "metadata": {},
   "outputs": [
    {
     "data": {
      "text/plain": [
       "SEX\n",
       "Male       43767\n",
       "Female     22478\n",
       "Unknown     1061\n",
       "Name: count, dtype: int64"
      ]
     },
     "execution_count": 12,
     "metadata": {},
     "output_type": "execute_result"
    }
   ],
   "source": [
    "df['SEX'].value_counts()"
   ]
  },
  {
   "cell_type": "code",
   "execution_count": 13,
   "id": "bf700870-31ba-4fda-bf57-ef6409f6e738",
   "metadata": {},
   "outputs": [
    {
     "name": "stdout",
     "output_type": "stream",
     "text": [
      "for gender type  Unknown the count of injury types are \n",
      " INJURY_SEVERITY\n",
      "Possible_Injury                   515\n",
      "No_Injury                         460\n",
      "Fatal_Injury                       69\n",
      "Nonincapaciting_Evident_Injury     10\n",
      "Incapaciting_Injury                 7\n",
      "Name: count, dtype: int64\n"
     ]
    }
   ],
   "source": [
    "Gender='SEX'\n",
    "type='Unknown'\n",
    "gender_dt=df[df[Gender]==type]\n",
    "\n",
    "print ('for gender type ', type, 'the count of injury types are \\n', gender_dt['INJURY_SEVERITY'].value_counts() ) # injusry severity counts for Gener =unknown"
   ]
  },
  {
   "cell_type": "code",
   "execution_count": 14,
   "id": "4e8f30ce-bbf3-4e40-a6e6-fc18670c91a4",
   "metadata": {},
   "outputs": [
    {
     "data": {
      "text/plain": [
       "336.53000000000003"
      ]
     },
     "execution_count": 14,
     "metadata": {},
     "output_type": "execute_result"
    }
   ],
   "source": [
    "count=df.shape[0]\n",
    "threshold=count*0.005\n",
    "threshold"
   ]
  },
  {
   "cell_type": "code",
   "execution_count": 21,
   "id": "c1a11446-7130-42f0-8bed-e9b546c00e29",
   "metadata": {},
   "outputs": [
    {
     "data": {
      "text/plain": [
       "RELATED_FACTOR_(1)-PERSON_LEVEL\n",
       "Not_Applicable_-_Driver/None_-_All_Other_Persons                                                                                     64690\n",
       "Walking/Riding_with_or_Against_Traffic_Playing_Working_Sitting_Lying_Standing_etc._in_Roadway                                          736\n",
       "Improper_Crossing_or_Roadway_or_Intersection                                                                                           569\n",
       "Darting_Stumbling_or_Running_into_Road                                                                                                 348\n",
       "Not_Visible                                                                                                                            310\n",
       "Failure_to_Yield_Right_of_Way                                                                                                          210\n",
       "Unknown                                                                                                                                187\n",
       "Inattentive_(talking_Eating_etc)                                                                                                        38\n",
       "Interfering_with_Driver                                                                                                                 37\n",
       "Getting_Off/Out_of_or_On/In_to_Moving_Transport_Vehicle                                                                                 30\n",
       "Passed_OutBlackout                                                                                                                      20\n",
       "Construction/Maintenance/Utility_Worker                                                                                                 20\n",
       "Failure_to_Obey_Traffic_Signs_Traffic_Control_Devices_or_Traffic_Officers_Failure_to_Observe_Safety_Zone_Traffic_Laws                   17\n",
       "Non-Motorist_Pushing_a_Vehicle                                                                                                          12\n",
       "Emotional_(e.g._Depression_Angry_Disputed)                                                                                               8\n",
       "Restricted_to_Wheelchair                                                                                                                 8\n",
       "Mother_of_Dead_Fetus                                                                                                                     7\n",
       "Motorized_Wheelchair_Rider                                                                                                               6\n",
       "Opening_Vehicle_Closure_into_Moving_Traffic_or_While_Vehicle_is_in_Motion                                                                5\n",
       "Failing_to_Dim_Lights_or_Have_Lights_on_When_Required                                                                                    5\n",
       "Failure_to_Keep_in_Proper_Lane                                                                                                           5\n",
       "Mentally_Challenged                                                                                                                      4\n",
       "Pedestrian_NON-MOTOR_VEHICLE_OPERATOR_RELATED_FACTORS:                                                                                   4\n",
       "Walking_With_Cane_or_Crutches                                                                                                            4\n",
       "Other_Physical_Impairment                                                                                                                3\n",
       "Making_Improper_Turn                                                                                                                     3\n",
       "Getting_Off/Out_of_or_On/In_to_Non-Moving_Transport_Vehicle                                                                              2\n",
       "Operating_without_Required_Equipment                                                                                                     2\n",
       "Impaired_Due_to_Previous_Injury                                                                                                          2\n",
       "Driving_on_Wrong_Side_of_Road                                                                                                            2\n",
       "Making_Improper_Entry_to_or_Exit_from_Trafficway                                                                                         2\n",
       "Motor_Vehicle_(including_load)                                                                                                           2\n",
       "Passing_on_Wrong_Side                                                                                                                    1\n",
       "Head_Restraints_AVOIDING_SWERVING_OR_SLIDING_DUE_TO                                                                                      1\n",
       "Operating_the_Vehicle_in_Other_Erratic_Reckless_Careless_or_Negligent_Manner_[or_Operating_at_Erratic_or_Suddenly_Changing_Speeds        1\n",
       "Vision_obscured_by_overcorrecting                                                                                                        1\n",
       "Following_Improperly                                                                                                                     1\n",
       "Operator_Inexperience                                                                                                                    1\n",
       "Illegal_Driving_on_Road_Shoulder_in_Ditch_on_Sidewalk_on_Median                                                                          1\n",
       "Slippery_or_Loose_Surface                                                                                                                1\n",
       "Name: count, dtype: int64"
      ]
     },
     "execution_count": 21,
     "metadata": {},
     "output_type": "execute_result"
    }
   ],
   "source": [
    "df['RELATED_FACTOR_(1)-PERSON_LEVEL'].value_counts()"
   ]
  },
  {
   "cell_type": "code",
   "execution_count": null,
   "id": "63bf5436-f497-48a7-b5a1-9e63f6d143bc",
   "metadata": {},
   "outputs": [],
   "source": []
  },
  {
   "cell_type": "code",
   "execution_count": null,
   "id": "7b40370b-8705-42e2-9394-d1c1ed1b6a55",
   "metadata": {},
   "outputs": [],
   "source": []
  },
  {
   "cell_type": "code",
   "execution_count": null,
   "id": "dbc0f990-5804-40f7-9b88-d45088e74b04",
   "metadata": {},
   "outputs": [],
   "source": []
  },
  {
   "cell_type": "code",
   "execution_count": null,
   "id": "ac501543-f54f-4774-9536-465a7dead683",
   "metadata": {},
   "outputs": [],
   "source": []
  },
  {
   "cell_type": "code",
   "execution_count": 24,
   "id": "11661a37-1593-4f63-8928-e083962a2e2d",
   "metadata": {},
   "outputs": [
    {
     "data": {
      "text/plain": [
       "(67306, 30)"
      ]
     },
     "execution_count": 24,
     "metadata": {},
     "output_type": "execute_result"
    }
   ],
   "source": [
    "df.shape"
   ]
  },
  {
   "cell_type": "code",
   "execution_count": 27,
   "id": "35610a81-283e-49e3-8a1f-511424c34309",
   "metadata": {},
   "outputs": [
    {
     "data": {
      "text/plain": [
       "(67306, 30)"
      ]
     },
     "metadata": {},
     "output_type": "display_data"
    }
   ],
   "source": [
    "df10= df.copy() # Copy of the data frame df\n",
    "for col in cl:\n",
    "    df10[col].mask(df10[col].map(df10[col].value_counts())<threshold, 'RARE')   \n",
    "display (df10.shape)\n"
   ]
  },
  {
   "cell_type": "code",
   "execution_count": 15,
   "id": "b71428d3-210b-4f6a-816e-3cc52d493e72",
   "metadata": {},
   "outputs": [],
   "source": [
    "#for col in cl:\n",
    "#    df[col].mask(df[col].map(df[col].value_counts())<threshold, 'RARE')   \n"
   ]
  },
  {
   "cell_type": "code",
   "execution_count": 41,
   "id": "69f34fd6-12b6-4d42-9f5f-9257b0ff6a1e",
   "metadata": {},
   "outputs": [
    {
     "name": "stdout",
     "output_type": "stream",
     "text": [
      "Index(['AGE', 'ALCOHOL_TEST_RESULT', 'DRUG_TEST_RESULTS_(1_of_3)',\n",
      "       'DRUG_TEST_RESULTS_(2_of_3)', 'DRUG_TEST_RESULTS_(3_of_3)',\n",
      "       'CASE_STATE_Illinois', 'CASE_STATE_Indiana', 'CASE_STATE_Iowa',\n",
      "       'CASE_STATE_Kansas', 'CASE_STATE_Kentucky',\n",
      "       ...\n",
      "       'RACE_Other_Indian_(Includes_South_and_Central_America)', 'RACE_Samoan',\n",
      "       'RACE_Unknown', 'RACE_Vietnamese', 'RACE_White',\n",
      "       'INJURY_SEVERITY_Fatal_Injury', 'INJURY_SEVERITY_Incapaciting_Injury',\n",
      "       'INJURY_SEVERITY_No_Injury',\n",
      "       'INJURY_SEVERITY_Nonincapaciting_Evident_Injury',\n",
      "       'INJURY_SEVERITY_Possible_Injury'],\n",
      "      dtype='object', length=331)\n"
     ]
    }
   ],
   "source": [
    "df_encoded = pd.get_dummies(data=df, columns=cl, dtype =int)\n",
    "list_c=df_encoded.columns\n",
    "print(list_c)"
   ]
  },
  {
   "cell_type": "code",
   "execution_count": 42,
   "id": "29ecb310-d1d1-4ec4-b10f-f6206b1afd9b",
   "metadata": {},
   "outputs": [],
   "source": []
  },
  {
   "cell_type": "code",
   "execution_count": 48,
   "id": "81587eb5-7b27-46ae-a72f-f83b10db54ab",
   "metadata": {},
   "outputs": [
    {
     "ename": "KeyError",
     "evalue": "'RELATED_FACTOR_(1)-PERSON_LEVEL_Construction'",
     "output_type": "error",
     "traceback": [
      "\u001b[1;31m---------------------------------------------------------------------------\u001b[0m",
      "\u001b[1;31mKeyError\u001b[0m                                  Traceback (most recent call last)",
      "File \u001b[1;32m~\\anaconda3\\Lib\\site-packages\\pandas\\core\\indexes\\base.py:3791\u001b[0m, in \u001b[0;36mIndex.get_loc\u001b[1;34m(self, key)\u001b[0m\n\u001b[0;32m   3790\u001b[0m \u001b[38;5;28;01mtry\u001b[39;00m:\n\u001b[1;32m-> 3791\u001b[0m     \u001b[38;5;28;01mreturn\u001b[39;00m \u001b[38;5;28mself\u001b[39m\u001b[38;5;241m.\u001b[39m_engine\u001b[38;5;241m.\u001b[39mget_loc(casted_key)\n\u001b[0;32m   3792\u001b[0m \u001b[38;5;28;01mexcept\u001b[39;00m \u001b[38;5;167;01mKeyError\u001b[39;00m \u001b[38;5;28;01mas\u001b[39;00m err:\n",
      "File \u001b[1;32mindex.pyx:152\u001b[0m, in \u001b[0;36mpandas._libs.index.IndexEngine.get_loc\u001b[1;34m()\u001b[0m\n",
      "File \u001b[1;32mindex.pyx:181\u001b[0m, in \u001b[0;36mpandas._libs.index.IndexEngine.get_loc\u001b[1;34m()\u001b[0m\n",
      "File \u001b[1;32mpandas\\_libs\\hashtable_class_helper.pxi:7080\u001b[0m, in \u001b[0;36mpandas._libs.hashtable.PyObjectHashTable.get_item\u001b[1;34m()\u001b[0m\n",
      "File \u001b[1;32mpandas\\_libs\\hashtable_class_helper.pxi:7088\u001b[0m, in \u001b[0;36mpandas._libs.hashtable.PyObjectHashTable.get_item\u001b[1;34m()\u001b[0m\n",
      "\u001b[1;31mKeyError\u001b[0m: 'RELATED_FACTOR_(1)-PERSON_LEVEL_Construction'",
      "\nThe above exception was the direct cause of the following exception:\n",
      "\u001b[1;31mKeyError\u001b[0m                                  Traceback (most recent call last)",
      "Cell \u001b[1;32mIn[48], line 1\u001b[0m\n\u001b[1;32m----> 1\u001b[0m df_encoded[\u001b[38;5;124m'\u001b[39m\u001b[38;5;124mRELATED_FACTOR_(1)-PERSON_LEVEL_Construction\u001b[39m\u001b[38;5;124m'\u001b[39m]\n",
      "File \u001b[1;32m~\\anaconda3\\Lib\\site-packages\\pandas\\core\\frame.py:3893\u001b[0m, in \u001b[0;36mDataFrame.__getitem__\u001b[1;34m(self, key)\u001b[0m\n\u001b[0;32m   3891\u001b[0m \u001b[38;5;28;01mif\u001b[39;00m \u001b[38;5;28mself\u001b[39m\u001b[38;5;241m.\u001b[39mcolumns\u001b[38;5;241m.\u001b[39mnlevels \u001b[38;5;241m>\u001b[39m \u001b[38;5;241m1\u001b[39m:\n\u001b[0;32m   3892\u001b[0m     \u001b[38;5;28;01mreturn\u001b[39;00m \u001b[38;5;28mself\u001b[39m\u001b[38;5;241m.\u001b[39m_getitem_multilevel(key)\n\u001b[1;32m-> 3893\u001b[0m indexer \u001b[38;5;241m=\u001b[39m \u001b[38;5;28mself\u001b[39m\u001b[38;5;241m.\u001b[39mcolumns\u001b[38;5;241m.\u001b[39mget_loc(key)\n\u001b[0;32m   3894\u001b[0m \u001b[38;5;28;01mif\u001b[39;00m is_integer(indexer):\n\u001b[0;32m   3895\u001b[0m     indexer \u001b[38;5;241m=\u001b[39m [indexer]\n",
      "File \u001b[1;32m~\\anaconda3\\Lib\\site-packages\\pandas\\core\\indexes\\base.py:3798\u001b[0m, in \u001b[0;36mIndex.get_loc\u001b[1;34m(self, key)\u001b[0m\n\u001b[0;32m   3793\u001b[0m     \u001b[38;5;28;01mif\u001b[39;00m \u001b[38;5;28misinstance\u001b[39m(casted_key, \u001b[38;5;28mslice\u001b[39m) \u001b[38;5;129;01mor\u001b[39;00m (\n\u001b[0;32m   3794\u001b[0m         \u001b[38;5;28misinstance\u001b[39m(casted_key, abc\u001b[38;5;241m.\u001b[39mIterable)\n\u001b[0;32m   3795\u001b[0m         \u001b[38;5;129;01mand\u001b[39;00m \u001b[38;5;28many\u001b[39m(\u001b[38;5;28misinstance\u001b[39m(x, \u001b[38;5;28mslice\u001b[39m) \u001b[38;5;28;01mfor\u001b[39;00m x \u001b[38;5;129;01min\u001b[39;00m casted_key)\n\u001b[0;32m   3796\u001b[0m     ):\n\u001b[0;32m   3797\u001b[0m         \u001b[38;5;28;01mraise\u001b[39;00m InvalidIndexError(key)\n\u001b[1;32m-> 3798\u001b[0m     \u001b[38;5;28;01mraise\u001b[39;00m \u001b[38;5;167;01mKeyError\u001b[39;00m(key) \u001b[38;5;28;01mfrom\u001b[39;00m \u001b[38;5;21;01merr\u001b[39;00m\n\u001b[0;32m   3799\u001b[0m \u001b[38;5;28;01mexcept\u001b[39;00m \u001b[38;5;167;01mTypeError\u001b[39;00m:\n\u001b[0;32m   3800\u001b[0m     \u001b[38;5;66;03m# If we have a listlike key, _check_indexing_error will raise\u001b[39;00m\n\u001b[0;32m   3801\u001b[0m     \u001b[38;5;66;03m#  InvalidIndexError. Otherwise we fall through and re-raise\u001b[39;00m\n\u001b[0;32m   3802\u001b[0m     \u001b[38;5;66;03m#  the TypeError.\u001b[39;00m\n\u001b[0;32m   3803\u001b[0m     \u001b[38;5;28mself\u001b[39m\u001b[38;5;241m.\u001b[39m_check_indexing_error(key)\n",
      "\u001b[1;31mKeyError\u001b[0m: 'RELATED_FACTOR_(1)-PERSON_LEVEL_Construction'"
     ]
    }
   ],
   "source": [
    "#df_encoded['RELATED_FACTOR_(1)-PERSON_LEVEL_Construction']"
   ]
  },
  {
   "cell_type": "code",
   "execution_count": null,
   "id": "2ce8d7ad-c563-42b9-9ad1-df9bbf709988",
   "metadata": {},
   "outputs": [],
   "source": []
  },
  {
   "cell_type": "code",
   "execution_count": null,
   "id": "5ba55bef-8f9a-41b8-8740-d9e446dba2ed",
   "metadata": {},
   "outputs": [],
   "source": []
  },
  {
   "cell_type": "code",
   "execution_count": null,
   "id": "ae230796-1a5c-476a-a83e-8887b468540c",
   "metadata": {},
   "outputs": [],
   "source": []
  },
  {
   "cell_type": "code",
   "execution_count": null,
   "id": "d4ca012e-f29d-4fa2-9bb2-87855fcdd4b8",
   "metadata": {},
   "outputs": [],
   "source": []
  },
  {
   "cell_type": "code",
   "execution_count": null,
   "id": "37601632-7f66-4409-964c-08327f2a020e",
   "metadata": {},
   "outputs": [],
   "source": []
  },
  {
   "cell_type": "code",
   "execution_count": 16,
   "id": "004eabec-0637-47c8-8045-edf178270576",
   "metadata": {},
   "outputs": [
    {
     "data": {
      "text/plain": [
       "Index(['CASE_STATE', 'AGE', 'SEX', 'PERSON_TYPE', 'SEATING_POSITION',\n",
       "       'RESTRAINT_SYSTEM-USE', 'AIR_BAG_AVAILABILITY/DEPLOYMENT', 'EJECTION',\n",
       "       'EJECTION_PATH', 'EXTRICATION', 'NON_MOTORIST_LOCATION',\n",
       "       'POLICE_REPORTED_ALCOHOL_INVOLVEMENT', 'METHOD_ALCOHOL_DETERMINATION',\n",
       "       'ALCOHOL_TEST_TYPE', 'ALCOHOL_TEST_RESULT',\n",
       "       'POLICE-REPORTED_DRUG_INVOLVEMENT', 'METHOD_OF_DRUG_DETERMINATION',\n",
       "       'DRUG_TEST_TYPE', 'DRUG_TEST_RESULTS_(1_of_3)',\n",
       "       'DRUG_TEST_TYPE_(2_of_3)', 'DRUG_TEST_RESULTS_(2_of_3)',\n",
       "       'DRUG_TEST_TYPE_(3_of_3)', 'DRUG_TEST_RESULTS_(3_of_3)',\n",
       "       'HISPANIC_ORIGIN', 'TAKEN_TO_HOSPITAL',\n",
       "       'RELATED_FACTOR_(1)-PERSON_LEVEL', 'RELATED_FACTOR_(2)-PERSON_LEVEL',\n",
       "       'RELATED_FACTOR_(3)-PERSON_LEVEL', 'RACE', 'INJURY_SEVERITY'],\n",
       "      dtype='object')"
      ]
     },
     "execution_count": 16,
     "metadata": {},
     "output_type": "execute_result"
    }
   ],
   "source": [
    "df.columns"
   ]
  },
  {
   "cell_type": "code",
   "execution_count": 17,
   "id": "2eaad1f3-4c9e-4844-9db5-59160cf48d9c",
   "metadata": {},
   "outputs": [],
   "source": [
    "#df10[col].mask(df10[col].map(df10[col].value_counts())<threshold, 'RARE')   "
   ]
  },
  {
   "cell_type": "code",
   "execution_count": 33,
   "id": "6682fc0b-056b-4c1b-b774-28b294f81672",
   "metadata": {},
   "outputs": [
    {
     "data": {
      "text/html": [
       "<div>\n",
       "<style scoped>\n",
       "    .dataframe tbody tr th:only-of-type {\n",
       "        vertical-align: middle;\n",
       "    }\n",
       "\n",
       "    .dataframe tbody tr th {\n",
       "        vertical-align: top;\n",
       "    }\n",
       "\n",
       "    .dataframe thead th {\n",
       "        text-align: right;\n",
       "    }\n",
       "</style>\n",
       "<table border=\"1\" class=\"dataframe\">\n",
       "  <thead>\n",
       "    <tr style=\"text-align: right;\">\n",
       "      <th></th>\n",
       "      <th>AGE</th>\n",
       "      <th>ALCOHOL_TEST_RESULT</th>\n",
       "      <th>DRUG_TEST_RESULTS_(1_of_3)</th>\n",
       "      <th>DRUG_TEST_RESULTS_(2_of_3)</th>\n",
       "      <th>DRUG_TEST_RESULTS_(3_of_3)</th>\n",
       "      <th>CASE_STATE_Illinois</th>\n",
       "      <th>CASE_STATE_Indiana</th>\n",
       "      <th>CASE_STATE_Iowa</th>\n",
       "      <th>CASE_STATE_Kansas</th>\n",
       "      <th>CASE_STATE_Kentucky</th>\n",
       "      <th>...</th>\n",
       "      <th>RACE_Other_Indian_(Includes_South_and_Central_America)</th>\n",
       "      <th>RACE_Samoan</th>\n",
       "      <th>RACE_Unknown</th>\n",
       "      <th>RACE_Vietnamese</th>\n",
       "      <th>RACE_White</th>\n",
       "      <th>INJURY_SEVERITY_Fatal_Injury</th>\n",
       "      <th>INJURY_SEVERITY_Incapaciting_Injury</th>\n",
       "      <th>INJURY_SEVERITY_No_Injury</th>\n",
       "      <th>INJURY_SEVERITY_Nonincapaciting_Evident_Injury</th>\n",
       "      <th>INJURY_SEVERITY_Possible_Injury</th>\n",
       "    </tr>\n",
       "  </thead>\n",
       "  <tbody>\n",
       "    <tr>\n",
       "      <th>0</th>\n",
       "      <td>30</td>\n",
       "      <td>0</td>\n",
       "      <td>407</td>\n",
       "      <td>606</td>\n",
       "      <td>0</td>\n",
       "      <td>1</td>\n",
       "      <td>0</td>\n",
       "      <td>0</td>\n",
       "      <td>0</td>\n",
       "      <td>0</td>\n",
       "      <td>...</td>\n",
       "      <td>0</td>\n",
       "      <td>0</td>\n",
       "      <td>0</td>\n",
       "      <td>0</td>\n",
       "      <td>0</td>\n",
       "      <td>1</td>\n",
       "      <td>0</td>\n",
       "      <td>0</td>\n",
       "      <td>0</td>\n",
       "      <td>0</td>\n",
       "    </tr>\n",
       "    <tr>\n",
       "      <th>1</th>\n",
       "      <td>19</td>\n",
       "      <td>96</td>\n",
       "      <td>0</td>\n",
       "      <td>0</td>\n",
       "      <td>0</td>\n",
       "      <td>1</td>\n",
       "      <td>0</td>\n",
       "      <td>0</td>\n",
       "      <td>0</td>\n",
       "      <td>0</td>\n",
       "      <td>...</td>\n",
       "      <td>0</td>\n",
       "      <td>0</td>\n",
       "      <td>0</td>\n",
       "      <td>0</td>\n",
       "      <td>0</td>\n",
       "      <td>0</td>\n",
       "      <td>0</td>\n",
       "      <td>0</td>\n",
       "      <td>0</td>\n",
       "      <td>1</td>\n",
       "    </tr>\n",
       "    <tr>\n",
       "      <th>2</th>\n",
       "      <td>22</td>\n",
       "      <td>96</td>\n",
       "      <td>0</td>\n",
       "      <td>0</td>\n",
       "      <td>0</td>\n",
       "      <td>1</td>\n",
       "      <td>0</td>\n",
       "      <td>0</td>\n",
       "      <td>0</td>\n",
       "      <td>0</td>\n",
       "      <td>...</td>\n",
       "      <td>0</td>\n",
       "      <td>0</td>\n",
       "      <td>0</td>\n",
       "      <td>0</td>\n",
       "      <td>0</td>\n",
       "      <td>0</td>\n",
       "      <td>0</td>\n",
       "      <td>1</td>\n",
       "      <td>0</td>\n",
       "      <td>0</td>\n",
       "    </tr>\n",
       "    <tr>\n",
       "      <th>3</th>\n",
       "      <td>17</td>\n",
       "      <td>96</td>\n",
       "      <td>0</td>\n",
       "      <td>0</td>\n",
       "      <td>0</td>\n",
       "      <td>1</td>\n",
       "      <td>0</td>\n",
       "      <td>0</td>\n",
       "      <td>0</td>\n",
       "      <td>0</td>\n",
       "      <td>...</td>\n",
       "      <td>0</td>\n",
       "      <td>0</td>\n",
       "      <td>0</td>\n",
       "      <td>0</td>\n",
       "      <td>0</td>\n",
       "      <td>0</td>\n",
       "      <td>0</td>\n",
       "      <td>1</td>\n",
       "      <td>0</td>\n",
       "      <td>0</td>\n",
       "    </tr>\n",
       "    <tr>\n",
       "      <th>4</th>\n",
       "      <td>17</td>\n",
       "      <td>96</td>\n",
       "      <td>0</td>\n",
       "      <td>0</td>\n",
       "      <td>0</td>\n",
       "      <td>1</td>\n",
       "      <td>0</td>\n",
       "      <td>0</td>\n",
       "      <td>0</td>\n",
       "      <td>0</td>\n",
       "      <td>...</td>\n",
       "      <td>0</td>\n",
       "      <td>0</td>\n",
       "      <td>0</td>\n",
       "      <td>0</td>\n",
       "      <td>0</td>\n",
       "      <td>0</td>\n",
       "      <td>0</td>\n",
       "      <td>1</td>\n",
       "      <td>0</td>\n",
       "      <td>0</td>\n",
       "    </tr>\n",
       "  </tbody>\n",
       "</table>\n",
       "<p>5 rows × 331 columns</p>\n",
       "</div>"
      ],
      "text/plain": [
       "   AGE  ALCOHOL_TEST_RESULT  DRUG_TEST_RESULTS_(1_of_3)  \\\n",
       "0   30                    0                         407   \n",
       "1   19                   96                           0   \n",
       "2   22                   96                           0   \n",
       "3   17                   96                           0   \n",
       "4   17                   96                           0   \n",
       "\n",
       "   DRUG_TEST_RESULTS_(2_of_3)  DRUG_TEST_RESULTS_(3_of_3)  \\\n",
       "0                         606                           0   \n",
       "1                           0                           0   \n",
       "2                           0                           0   \n",
       "3                           0                           0   \n",
       "4                           0                           0   \n",
       "\n",
       "   CASE_STATE_Illinois  CASE_STATE_Indiana  CASE_STATE_Iowa  \\\n",
       "0                    1                   0                0   \n",
       "1                    1                   0                0   \n",
       "2                    1                   0                0   \n",
       "3                    1                   0                0   \n",
       "4                    1                   0                0   \n",
       "\n",
       "   CASE_STATE_Kansas  CASE_STATE_Kentucky  ...  \\\n",
       "0                  0                    0  ...   \n",
       "1                  0                    0  ...   \n",
       "2                  0                    0  ...   \n",
       "3                  0                    0  ...   \n",
       "4                  0                    0  ...   \n",
       "\n",
       "   RACE_Other_Indian_(Includes_South_and_Central_America)  RACE_Samoan  \\\n",
       "0                                                  0                 0   \n",
       "1                                                  0                 0   \n",
       "2                                                  0                 0   \n",
       "3                                                  0                 0   \n",
       "4                                                  0                 0   \n",
       "\n",
       "   RACE_Unknown  RACE_Vietnamese  RACE_White  INJURY_SEVERITY_Fatal_Injury  \\\n",
       "0             0                0           0                             1   \n",
       "1             0                0           0                             0   \n",
       "2             0                0           0                             0   \n",
       "3             0                0           0                             0   \n",
       "4             0                0           0                             0   \n",
       "\n",
       "   INJURY_SEVERITY_Incapaciting_Injury  INJURY_SEVERITY_No_Injury  \\\n",
       "0                                    0                          0   \n",
       "1                                    0                          0   \n",
       "2                                    0                          1   \n",
       "3                                    0                          1   \n",
       "4                                    0                          1   \n",
       "\n",
       "   INJURY_SEVERITY_Nonincapaciting_Evident_Injury  \\\n",
       "0                                               0   \n",
       "1                                               0   \n",
       "2                                               0   \n",
       "3                                               0   \n",
       "4                                               0   \n",
       "\n",
       "   INJURY_SEVERITY_Possible_Injury  \n",
       "0                                0  \n",
       "1                                1  \n",
       "2                                0  \n",
       "3                                0  \n",
       "4                                0  \n",
       "\n",
       "[5 rows x 331 columns]"
      ]
     },
     "execution_count": 33,
     "metadata": {},
     "output_type": "execute_result"
    }
   ],
   "source": [
    "df_encode=pd.get_dummies(df, columns=cl,dtype=int)\n",
    "list=df_encode.columns\n",
    "df_encode.head()"
   ]
  },
  {
   "cell_type": "code",
   "execution_count": 49,
   "id": "44ea043d-f047-4c58-aae3-36cb716bdb41",
   "metadata": {},
   "outputs": [
    {
     "data": {
      "text/plain": [
       "(67306, 331)"
      ]
     },
     "execution_count": 49,
     "metadata": {},
     "output_type": "execute_result"
    }
   ],
   "source": [
    "df_encode.shape"
   ]
  },
  {
   "cell_type": "code",
   "execution_count": 50,
   "id": "b24793b4-e9d0-4a35-aa3c-c0db1ffe43b1",
   "metadata": {},
   "outputs": [],
   "source": [
    "df_encoded['RELATED_FACTOR_Not_Applicable'] = df_encoded['RELATED_FACTOR_(1)-PERSON_LEVEL_Not_Applicable_-_Driver/None_-_All_Other_Persons'] + df_encoded['RELATED_FACTOR_(2)-PERSON_LEVEL_Not_Applicable_-_Driver/None_-_All_Other_Persons'] + df_encoded['RELATED_FACTOR_(3)-PERSON_LEVEL_Not_Applicable_-_Driver/None_-_All_Other_Persons']"
   ]
  },
  {
   "cell_type": "code",
   "execution_count": 51,
   "id": "3357c91a-ebff-4db3-90fb-220f241e7b45",
   "metadata": {},
   "outputs": [
    {
     "data": {
      "text/plain": [
       "(67306, 332)"
      ]
     },
     "execution_count": 51,
     "metadata": {},
     "output_type": "execute_result"
    }
   ],
   "source": [
    "df_encoded.shape"
   ]
  },
  {
   "cell_type": "code",
   "execution_count": 54,
   "id": "eae50a8c-d7e2-4bcc-b6f5-7806491051b5",
   "metadata": {},
   "outputs": [
    {
     "data": {
      "text/plain": [
       "RELATED_FACTOR_Not_Applicable\n",
       "3    64690\n",
       "2     1676\n",
       "1      650\n",
       "0      290\n",
       "Name: count, dtype: int64"
      ]
     },
     "execution_count": 54,
     "metadata": {},
     "output_type": "execute_result"
    }
   ],
   "source": [
    "df_encoded['RELATED_FACTOR_Not_Applicable'].value_counts()"
   ]
  },
  {
   "cell_type": "code",
   "execution_count": null,
   "id": "fd51ece8-45e8-46a3-81f9-03b204e6c77d",
   "metadata": {},
   "outputs": [],
   "source": []
  },
  {
   "cell_type": "code",
   "execution_count": null,
   "id": "af14909e-8fc0-4834-912f-5487967e891a",
   "metadata": {},
   "outputs": [],
   "source": []
  },
  {
   "cell_type": "code",
   "execution_count": null,
   "id": "383b4e0c-c954-4560-9442-53ee7f3c60c4",
   "metadata": {},
   "outputs": [],
   "source": []
  },
  {
   "cell_type": "code",
   "execution_count": null,
   "id": "3a4b4f59-cb37-4887-a576-24cd00c24a7a",
   "metadata": {},
   "outputs": [],
   "source": []
  },
  {
   "cell_type": "code",
   "execution_count": null,
   "id": "7170a0af-7aa2-42e6-a263-d5c17be16560",
   "metadata": {},
   "outputs": [],
   "source": []
  },
  {
   "cell_type": "code",
   "execution_count": null,
   "id": "e6afb492-867f-4f4c-b148-6f51ee581b2f",
   "metadata": {},
   "outputs": [],
   "source": []
  },
  {
   "cell_type": "code",
   "execution_count": null,
   "id": "8ec69de6-8b2b-4698-85c2-dc4317eb3b40",
   "metadata": {},
   "outputs": [],
   "source": []
  },
  {
   "cell_type": "code",
   "execution_count": null,
   "id": "8e025801-5ea2-494f-a2b7-21880ea8ad00",
   "metadata": {},
   "outputs": [],
   "source": []
  },
  {
   "cell_type": "code",
   "execution_count": null,
   "id": "35a00d04-fe9f-4b2a-a8b7-5614193e1dc1",
   "metadata": {},
   "outputs": [],
   "source": []
  },
  {
   "cell_type": "code",
   "execution_count": null,
   "id": "473d8d4c-c714-4547-98b2-8ae0eb9306d6",
   "metadata": {},
   "outputs": [],
   "source": []
  },
  {
   "cell_type": "code",
   "execution_count": null,
   "id": "93eb0dff-7460-4464-ae3e-e9c9a08855f8",
   "metadata": {},
   "outputs": [],
   "source": []
  },
  {
   "cell_type": "code",
   "execution_count": null,
   "id": "d7c9b08d-de49-4acf-b584-7e6914c316df",
   "metadata": {},
   "outputs": [],
   "source": []
  },
  {
   "cell_type": "code",
   "execution_count": null,
   "id": "89241fde-b805-4699-ade2-0f3be8a22ce1",
   "metadata": {},
   "outputs": [],
   "source": []
  },
  {
   "cell_type": "code",
   "execution_count": null,
   "id": "e4f20377-08f1-4197-8360-c4a092872d0e",
   "metadata": {},
   "outputs": [],
   "source": []
  },
  {
   "cell_type": "code",
   "execution_count": null,
   "id": "2d933c18-9f79-49e8-926a-416074df0ff4",
   "metadata": {},
   "outputs": [],
   "source": []
  },
  {
   "cell_type": "code",
   "execution_count": null,
   "id": "c40f23e6-32d6-401c-98e1-4534e962ce58",
   "metadata": {},
   "outputs": [],
   "source": []
  },
  {
   "cell_type": "code",
   "execution_count": null,
   "id": "80d51fa7-9cbc-49ef-b1d1-13ea53f62d54",
   "metadata": {},
   "outputs": [],
   "source": []
  },
  {
   "cell_type": "code",
   "execution_count": null,
   "id": "d7ae951a-9ff4-4a3d-b9c5-0c4015e41ee7",
   "metadata": {},
   "outputs": [],
   "source": []
  },
  {
   "cell_type": "code",
   "execution_count": null,
   "id": "f23d7035-4c3f-4841-883a-a79ffea21a77",
   "metadata": {},
   "outputs": [],
   "source": []
  },
  {
   "cell_type": "code",
   "execution_count": null,
   "id": "6bac8443-a897-4f4e-a7e4-0ff1a46753a4",
   "metadata": {},
   "outputs": [],
   "source": []
  },
  {
   "cell_type": "code",
   "execution_count": null,
   "id": "127827cd-242c-46b7-b73c-6d2a07bea7a5",
   "metadata": {},
   "outputs": [],
   "source": []
  },
  {
   "cell_type": "code",
   "execution_count": null,
   "id": "dfd43a11-93c2-481f-9f55-1dc3581fcc78",
   "metadata": {},
   "outputs": [],
   "source": []
  }
 ],
 "metadata": {
  "kernelspec": {
   "display_name": "Python 3 (ipykernel)",
   "language": "python",
   "name": "python3"
  },
  "language_info": {
   "codemirror_mode": {
    "name": "ipython",
    "version": 3
   },
   "file_extension": ".py",
   "mimetype": "text/x-python",
   "name": "python",
   "nbconvert_exporter": "python",
   "pygments_lexer": "ipython3",
   "version": "3.11.7"
  }
 },
 "nbformat": 4,
 "nbformat_minor": 5
}
