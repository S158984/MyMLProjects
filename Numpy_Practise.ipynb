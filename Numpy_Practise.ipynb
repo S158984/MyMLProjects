{
 "cells": [
  {
   "cell_type": "code",
   "execution_count": 5,
   "id": "61aaf65b-4204-44a5-8070-d38c02fd26a8",
   "metadata": {},
   "outputs": [],
   "source": [
    "import numpy as np\n",
    "import pandas as pd"
   ]
  },
  {
   "cell_type": "code",
   "execution_count": 6,
   "id": "28d4433f-8d2f-45c9-b3e2-9f78537dd5d6",
   "metadata": {},
   "outputs": [],
   "source": [
    "d1=np.arange(9)\n",
    "d2=np.arange(12)"
   ]
  },
  {
   "cell_type": "code",
   "execution_count": 6,
   "id": "7c6633ee-a3c4-411e-b795-144557d75588",
   "metadata": {
    "scrolled": true
   },
   "outputs": [
    {
     "name": "stdout",
     "output_type": "stream",
     "text": [
      "[0 1 2 3 4 5 6 7 8]\n",
      "\n",
      "[ 0  1  2  3  4  5  6  7  8  9 10 11]\n"
     ]
    }
   ],
   "source": [
    "print (d1)\n",
    "print()\n",
    "print(d2)"
   ]
  },
  {
   "cell_type": "code",
   "execution_count": 97,
   "id": "8841a3b7-541c-43fb-b55f-d4c78b1d80af",
   "metadata": {},
   "outputs": [],
   "source": [
    "ar1=d1.reshape(3,3)\n",
    "ar2=d2.reshape(2,2,3)"
   ]
  },
  {
   "cell_type": "code",
   "execution_count": 77,
   "id": "a611bb05-cf8e-42b4-af97-7e5af68e44e5",
   "metadata": {},
   "outputs": [
    {
     "name": "stdout",
     "output_type": "stream",
     "text": [
      "[[0 1 2]\n",
      " [3 4 5]\n",
      " [6 7 8]]\n",
      "[[[ 0  1  2]\n",
      "  [ 3  4  5]]\n",
      "\n",
      " [[ 6  7  8]\n",
      "  [ 9 10 11]]]\n"
     ]
    }
   ],
   "source": [
    "print (ar1)\n",
    "\n",
    "print(ar2)"
   ]
  },
  {
   "cell_type": "code",
   "execution_count": null,
   "id": "eb7c8e06-6043-4162-9096-ac5142094307",
   "metadata": {},
   "outputs": [],
   "source": []
  },
  {
   "cell_type": "code",
   "execution_count": 79,
   "id": "c37a3e0b-d53a-4cbd-a178-1f43236db841",
   "metadata": {},
   "outputs": [
    {
     "data": {
      "text/plain": [
       "3"
      ]
     },
     "execution_count": 79,
     "metadata": {},
     "output_type": "execute_result"
    }
   ],
   "source": [
    "ar2.ndim"
   ]
  },
  {
   "cell_type": "code",
   "execution_count": 17,
   "id": "88e3e8cf-64f8-4a9e-8e7c-d146abc338ae",
   "metadata": {},
   "outputs": [
    {
     "data": {
      "text/plain": [
       "9"
      ]
     },
     "execution_count": 17,
     "metadata": {},
     "output_type": "execute_result"
    }
   ],
   "source": [
    "ar1.size"
   ]
  },
  {
   "cell_type": "code",
   "execution_count": 18,
   "id": "5d3e79dd-663b-461c-a40c-10982633256e",
   "metadata": {},
   "outputs": [
    {
     "data": {
      "text/plain": [
       "dtype('int32')"
      ]
     },
     "execution_count": 18,
     "metadata": {},
     "output_type": "execute_result"
    }
   ],
   "source": [
    "ar2.dtype"
   ]
  },
  {
   "cell_type": "code",
   "execution_count": 20,
   "id": "46862d3a-1566-4880-b067-7ffb1f7f0bbf",
   "metadata": {},
   "outputs": [
    {
     "data": {
      "text/plain": [
       "array([[ 6,  7,  8],\n",
       "       [ 9, 10, 11]])"
      ]
     },
     "execution_count": 20,
     "metadata": {},
     "output_type": "execute_result"
    }
   ],
   "source": [
    "ar2[1]"
   ]
  },
  {
   "cell_type": "code",
   "execution_count": 25,
   "id": "fdf7465b-72f0-4013-a46e-5f77feca4119",
   "metadata": {},
   "outputs": [
    {
     "data": {
      "text/plain": [
       "array([ 9, 10, 11])"
      ]
     },
     "execution_count": 25,
     "metadata": {},
     "output_type": "execute_result"
    }
   ],
   "source": [
    "ar2[1][1]"
   ]
  },
  {
   "cell_type": "code",
   "execution_count": 27,
   "id": "72db6fdc-7395-4f38-99e3-39de8c7625b2",
   "metadata": {},
   "outputs": [
    {
     "data": {
      "text/plain": [
       "10"
      ]
     },
     "execution_count": 27,
     "metadata": {},
     "output_type": "execute_result"
    }
   ],
   "source": [
    "ar2[1][1][1]"
   ]
  },
  {
   "cell_type": "code",
   "execution_count": 28,
   "id": "45cc2131-39d5-49f3-8415-bb66b769e591",
   "metadata": {},
   "outputs": [
    {
     "data": {
      "text/plain": [
       "4"
      ]
     },
     "execution_count": 28,
     "metadata": {},
     "output_type": "execute_result"
    }
   ],
   "source": [
    "ar1.itemsize"
   ]
  },
  {
   "cell_type": "code",
   "execution_count": 29,
   "id": "43c9bbf7-c21d-47cc-83fb-59f0172c2022",
   "metadata": {},
   "outputs": [
    {
     "data": {
      "text/plain": [
       "array([[0, 1, 2],\n",
       "       [3, 4, 5],\n",
       "       [6, 7, 8]])"
      ]
     },
     "execution_count": 29,
     "metadata": {},
     "output_type": "execute_result"
    }
   ],
   "source": [
    "ar1"
   ]
  },
  {
   "cell_type": "code",
   "execution_count": 30,
   "id": "fd5636af-b802-463f-9e02-917d028d7ea8",
   "metadata": {},
   "outputs": [
    {
     "data": {
      "text/plain": [
       "numpy.ndarray"
      ]
     },
     "execution_count": 30,
     "metadata": {},
     "output_type": "execute_result"
    }
   ],
   "source": [
    "type(ar1)"
   ]
  },
  {
   "cell_type": "code",
   "execution_count": 42,
   "id": "5da38854-eca5-44a0-8cde-4eb466d812da",
   "metadata": {},
   "outputs": [
    {
     "name": "stdout",
     "output_type": "stream",
     "text": [
      "[[10 20 30]\n",
      " [12 20 12]]\n"
     ]
    }
   ],
   "source": [
    "ar3=np.array([(10,20,30),(12,20,12)])\n",
    "print(ar3)"
   ]
  },
  {
   "cell_type": "code",
   "execution_count": 43,
   "id": "b514ec46-2f83-417b-861a-2d2475ad97a0",
   "metadata": {},
   "outputs": [
    {
     "data": {
      "text/plain": [
       "dtype('int32')"
      ]
     },
     "execution_count": 43,
     "metadata": {},
     "output_type": "execute_result"
    }
   ],
   "source": [
    "ar3.dtype"
   ]
  },
  {
   "cell_type": "code",
   "execution_count": 44,
   "id": "6d1340fa-076e-4e1e-a699-33aa00f72005",
   "metadata": {},
   "outputs": [
    {
     "data": {
      "text/plain": [
       "6"
      ]
     },
     "execution_count": 44,
     "metadata": {},
     "output_type": "execute_result"
    }
   ],
   "source": [
    "ar3.size"
   ]
  },
  {
   "cell_type": "code",
   "execution_count": 45,
   "id": "a40108cd-4d16-40f3-81e9-b5a0fd894849",
   "metadata": {},
   "outputs": [
    {
     "data": {
      "text/plain": [
       "(2, 3)"
      ]
     },
     "execution_count": 45,
     "metadata": {},
     "output_type": "execute_result"
    }
   ],
   "source": [
    "ar3.shape"
   ]
  },
  {
   "cell_type": "code",
   "execution_count": 53,
   "id": "573a2884-7dc7-425f-9a32-3aecc5dbe921",
   "metadata": {},
   "outputs": [
    {
     "data": {
      "text/plain": [
       "dtype('float64')"
      ]
     },
     "execution_count": 53,
     "metadata": {},
     "output_type": "execute_result"
    }
   ],
   "source": [
    "np.array([(1.0,2), (3,4)]).dtype"
   ]
  },
  {
   "cell_type": "code",
   "execution_count": 81,
   "id": "47863754-1811-43b5-a8ec-c5d3f81d5ff2",
   "metadata": {},
   "outputs": [
    {
     "data": {
      "text/plain": [
       "(1, 3)"
      ]
     },
     "execution_count": 81,
     "metadata": {},
     "output_type": "execute_result"
    }
   ],
   "source": [
    "np.array([(1,0,2)]).shape"
   ]
  },
  {
   "cell_type": "code",
   "execution_count": 82,
   "id": "179f4d14-3427-4def-8c4b-4512d42f424b",
   "metadata": {},
   "outputs": [
    {
     "data": {
      "text/plain": [
       "(3,)"
      ]
     },
     "execution_count": 82,
     "metadata": {},
     "output_type": "execute_result"
    }
   ],
   "source": [
    "np.array([1,0,2]).shape"
   ]
  },
  {
   "cell_type": "code",
   "execution_count": 87,
   "id": "26a4bffa-15d9-4e5a-b2eb-0a6cd088754b",
   "metadata": {},
   "outputs": [
    {
     "name": "stdout",
     "output_type": "stream",
     "text": [
      "[ 1.     7.125 13.25  19.375 25.5   31.625 37.75  43.875 50.   ]\n"
     ]
    }
   ],
   "source": [
    "d4=np.linspace(1,50,9)\n",
    "d4.reshape(3,3)\n",
    "print (d4)\n"
   ]
  },
  {
   "cell_type": "code",
   "execution_count": 100,
   "id": "fc31a46d-c8ee-4565-8dbe-b4519fd11f5d",
   "metadata": {},
   "outputs": [
    {
     "data": {
      "text/plain": [
       "array([[0, 1, 2],\n",
       "       [3, 4, 5],\n",
       "       [6, 7, 8]])"
      ]
     },
     "execution_count": 100,
     "metadata": {},
     "output_type": "execute_result"
    }
   ],
   "source": [
    "ar1\n"
   ]
  },
  {
   "cell_type": "code",
   "execution_count": 102,
   "id": "a601120e-5945-419d-aad5-a590d338586b",
   "metadata": {},
   "outputs": [
    {
     "data": {
      "text/plain": [
       "array([0, 3, 6, 1, 4, 7, 2, 5, 8])"
      ]
     },
     "execution_count": 102,
     "metadata": {},
     "output_type": "execute_result"
    }
   ],
   "source": [
    "ar1.T.ravel()"
   ]
  },
  {
   "cell_type": "code",
   "execution_count": 103,
   "id": "0e97c627-01d7-4fc9-845a-db9538d6a078",
   "metadata": {},
   "outputs": [],
   "source": [
    "a = np.array([4., 2.])\n",
    "b = np.array([3., 8.])"
   ]
  },
  {
   "cell_type": "code",
   "execution_count": 106,
   "id": "a6bdf348-c37a-4886-a594-15e750641d50",
   "metadata": {},
   "outputs": [
    {
     "data": {
      "text/plain": [
       "array([[4., 3.],\n",
       "       [2., 8.]])"
      ]
     },
     "execution_count": 106,
     "metadata": {},
     "output_type": "execute_result"
    }
   ],
   "source": [
    "np.column_stack((a,b))"
   ]
  },
  {
   "cell_type": "raw",
   "id": "6d314db1-6756-4394-852d-0815a306881d",
   "metadata": {},
   "source": [
    "ar1"
   ]
  },
  {
   "cell_type": "code",
   "execution_count": 113,
   "id": "3b01641f-eac3-4f78-a2ed-56355ff8b85b",
   "metadata": {},
   "outputs": [
    {
     "data": {
      "text/plain": [
       "array([[0, 1, 2],\n",
       "       [3, 4, 5],\n",
       "       [6, 7, 8]])"
      ]
     },
     "execution_count": 113,
     "metadata": {},
     "output_type": "execute_result"
    }
   ],
   "source": [
    "ar1"
   ]
  },
  {
   "cell_type": "code",
   "execution_count": 115,
   "id": "7416b958-381d-4bf9-bd9c-7d23a8c8feab",
   "metadata": {},
   "outputs": [
    {
     "data": {
      "text/plain": [
       "array([[ 0,  1,  4],\n",
       "       [ 9, 16, 25],\n",
       "       [36, 49, 64]])"
      ]
     },
     "execution_count": 115,
     "metadata": {},
     "output_type": "execute_result"
    }
   ],
   "source": [
    "ar1*(ar1)"
   ]
  },
  {
   "cell_type": "code",
   "execution_count": 121,
   "id": "e2e660a4-cffb-4f59-936c-63af34707acc",
   "metadata": {},
   "outputs": [
    {
     "data": {
      "text/plain": [
       "66"
      ]
     },
     "execution_count": 121,
     "metadata": {},
     "output_type": "execute_result"
    }
   ],
   "source": [
    "ar2.sum()"
   ]
  },
  {
   "cell_type": "raw",
   "id": "e6785fe2-109e-4f3f-bd6a-dc4868227435",
   "metadata": {},
   "source": []
  },
  {
   "cell_type": "code",
   "execution_count": 124,
   "id": "d9fae74b-2763-43ba-8257-24a3c1dce5ac",
   "metadata": {},
   "outputs": [
    {
     "data": {
      "text/plain": [
       "3"
      ]
     },
     "execution_count": 124,
     "metadata": {},
     "output_type": "execute_result"
    }
   ],
   "source": [
    "ar2.ndim"
   ]
  },
  {
   "cell_type": "code",
   "execution_count": 13,
   "id": "4ee21a8a-00a8-4573-999b-deba270d8032",
   "metadata": {},
   "outputs": [],
   "source": [
    "data1=[1,2,3,4,5]"
   ]
  },
  {
   "cell_type": "code",
   "execution_count": 19,
   "id": "d71feb80-bb81-443c-9571-3b5ea21c74ba",
   "metadata": {},
   "outputs": [
    {
     "data": {
      "text/plain": [
       "1"
      ]
     },
     "execution_count": 19,
     "metadata": {},
     "output_type": "execute_result"
    }
   ],
   "source": [
    "#imoprt numpy as np\n",
    "arr1=np.array(data1)\n",
    "arr1.ndim"
   ]
  },
  {
   "cell_type": "code",
   "execution_count": 15,
   "id": "1e875837-19a8-482d-aca7-2e58a6409399",
   "metadata": {},
   "outputs": [
    {
     "data": {
      "text/plain": [
       "dtype('float64')"
      ]
     },
     "execution_count": 15,
     "metadata": {},
     "output_type": "execute_result"
    }
   ],
   "source": [
    "arr1.dtype"
   ]
  },
  {
   "cell_type": "code",
   "execution_count": 17,
   "id": "0eda65ed-6e09-49db-a815-c05cf1f80893",
   "metadata": {},
   "outputs": [
    {
     "data": {
      "text/plain": [
       "array([[ 1,  2,  3,  4,  5],\n",
       "       [10, 20, 30, 40, 50]])"
      ]
     },
     "execution_count": 17,
     "metadata": {},
     "output_type": "execute_result"
    }
   ],
   "source": [
    "data2=[[1,2,3,4,5],[10,20,30,40,50]]\n",
    "arr2=np.array(data2)\n",
    "arr2"
   ]
  },
  {
   "cell_type": "code",
   "execution_count": 21,
   "id": "d063485a-b069-40d7-84f1-284b4dc683cd",
   "metadata": {},
   "outputs": [
    {
     "name": "stdout",
     "output_type": "stream",
     "text": [
      "int32    2\n"
     ]
    }
   ],
   "source": [
    "print(arr2.dtype,\"  \",arr2.ndim)"
   ]
  },
  {
   "cell_type": "code",
   "execution_count": null,
   "id": "68b04709-302b-4734-b496-9245785004f8",
   "metadata": {},
   "outputs": [],
   "source": [
    "  #     [[ 1,  2,  3,  4,  5],\n",
    "       \n",
    " #       [10, 20, 30, 40, 50]]"
   ]
  },
  {
   "cell_type": "code",
   "execution_count": 25,
   "id": "94468391-63df-4527-9873-735c2364d168",
   "metadata": {},
   "outputs": [
    {
     "name": "stdout",
     "output_type": "stream",
     "text": [
      "arr1 shape is [1. 2. 3. 4. 5.] arr2 shape is  (5,)\n",
      "arr2 shape is [[ 1  2  3  4  5]\n",
      " [10 20 30 40 50]] arr2 shape is  (2, 5)\n"
     ]
    }
   ],
   "source": [
    "print('arr1 shape is',arr1 ,'arr2 shape is ',arr1.shape)\n",
    "print('arr2 shape is',arr2 ,'arr2 shape is ',arr2.shape)"
   ]
  },
  {
   "cell_type": "code",
   "execution_count": null,
   "id": "4c557445-550b-48d6-8d45-ddbe6baf4805",
   "metadata": {},
   "outputs": [],
   "source": []
  },
  {
   "cell_type": "code",
   "execution_count": null,
   "id": "1af5d0b0-05dc-4b30-9d26-6997b52e778a",
   "metadata": {},
   "outputs": [],
   "source": []
  },
  {
   "cell_type": "code",
   "execution_count": null,
   "id": "d9091302-46d1-4c20-815c-83065e99b4b3",
   "metadata": {},
   "outputs": [],
   "source": []
  },
  {
   "cell_type": "code",
   "execution_count": null,
   "id": "38bb15cd-30b3-4c49-994d-77e7acc9fdf2",
   "metadata": {},
   "outputs": [],
   "source": []
  },
  {
   "cell_type": "code",
   "execution_count": null,
   "id": "140125ab-10a3-4266-a834-73e7ed3aedfe",
   "metadata": {},
   "outputs": [],
   "source": []
  },
  {
   "cell_type": "code",
   "execution_count": null,
   "id": "76292286-fb90-4851-a0e2-9432d155bcb9",
   "metadata": {},
   "outputs": [],
   "source": []
  },
  {
   "cell_type": "code",
   "execution_count": null,
   "id": "18c4dfd1-2c71-4d8f-8290-4c44c523b969",
   "metadata": {},
   "outputs": [],
   "source": []
  },
  {
   "cell_type": "code",
   "execution_count": null,
   "id": "0d754cc0-c4be-4ade-93ac-33c459f20679",
   "metadata": {},
   "outputs": [],
   "source": []
  },
  {
   "cell_type": "code",
   "execution_count": null,
   "id": "9f8f1e9b-4a0f-4b1c-a2ee-b115b930d95d",
   "metadata": {},
   "outputs": [],
   "source": []
  },
  {
   "cell_type": "code",
   "execution_count": null,
   "id": "d0ac0fee-8a70-4650-9e35-fcd1a9f42396",
   "metadata": {},
   "outputs": [],
   "source": []
  },
  {
   "cell_type": "code",
   "execution_count": null,
   "id": "cb495897-c1ba-4f81-89b9-2f7c359c3c37",
   "metadata": {},
   "outputs": [],
   "source": []
  },
  {
   "cell_type": "code",
   "execution_count": null,
   "id": "be01bc56-be82-4ab6-9b71-1ed8eacffc51",
   "metadata": {},
   "outputs": [],
   "source": []
  },
  {
   "cell_type": "code",
   "execution_count": null,
   "id": "4e3f9c56-2526-4814-b58a-d83f68e6cebb",
   "metadata": {},
   "outputs": [],
   "source": []
  },
  {
   "cell_type": "code",
   "execution_count": null,
   "id": "4e01d761-bccb-4929-8962-c1a70334b42c",
   "metadata": {},
   "outputs": [],
   "source": []
  },
  {
   "cell_type": "code",
   "execution_count": null,
   "id": "f1e5c23f-423d-47b5-9785-3d406ed3d772",
   "metadata": {},
   "outputs": [],
   "source": []
  },
  {
   "cell_type": "code",
   "execution_count": null,
   "id": "1968cc2e-e413-4164-b597-90ce6ced923c",
   "metadata": {},
   "outputs": [],
   "source": []
  },
  {
   "cell_type": "code",
   "execution_count": null,
   "id": "f1c8b749-13a0-4df7-9b9b-8c9e8ff87d2e",
   "metadata": {},
   "outputs": [],
   "source": []
  },
  {
   "cell_type": "code",
   "execution_count": null,
   "id": "59c38958-2092-40c1-9696-b80ddc9844c8",
   "metadata": {},
   "outputs": [],
   "source": []
  },
  {
   "cell_type": "code",
   "execution_count": null,
   "id": "d2addd3c-ef5b-48c2-990a-bc39d3ec1eee",
   "metadata": {},
   "outputs": [],
   "source": []
  },
  {
   "cell_type": "code",
   "execution_count": null,
   "id": "bf97e54e-03fa-49e0-bd35-62e352128144",
   "metadata": {},
   "outputs": [],
   "source": []
  },
  {
   "cell_type": "code",
   "execution_count": null,
   "id": "b5f83a37-a734-4e6a-91d6-71b1250df1c8",
   "metadata": {},
   "outputs": [],
   "source": []
  },
  {
   "cell_type": "code",
   "execution_count": null,
   "id": "689964b8-4a70-425d-8905-9308416870d6",
   "metadata": {},
   "outputs": [],
   "source": []
  },
  {
   "cell_type": "code",
   "execution_count": null,
   "id": "41113f54-5618-4d60-8a45-2025d9651c1f",
   "metadata": {},
   "outputs": [],
   "source": []
  },
  {
   "cell_type": "code",
   "execution_count": null,
   "id": "6b3440e4-661d-477c-8ee5-db5b499ae1fa",
   "metadata": {},
   "outputs": [],
   "source": []
  },
  {
   "cell_type": "code",
   "execution_count": null,
   "id": "a2447ae4-c3e4-4a0f-aaeb-a81780116738",
   "metadata": {},
   "outputs": [],
   "source": []
  },
  {
   "cell_type": "code",
   "execution_count": null,
   "id": "ea86cbbf-e19c-4b1d-ad22-caf2fd0bfb26",
   "metadata": {},
   "outputs": [],
   "source": []
  },
  {
   "cell_type": "code",
   "execution_count": null,
   "id": "3d78d90f-fd81-4715-b879-d253592d5e22",
   "metadata": {},
   "outputs": [],
   "source": []
  },
  {
   "cell_type": "code",
   "execution_count": null,
   "id": "2f52567f-57dc-4fcd-9e16-4c0b632d3851",
   "metadata": {},
   "outputs": [],
   "source": []
  },
  {
   "cell_type": "code",
   "execution_count": null,
   "id": "cc1b321d-030a-45c5-9db3-effed622024e",
   "metadata": {},
   "outputs": [],
   "source": []
  },
  {
   "cell_type": "code",
   "execution_count": null,
   "id": "9a643eff-0bb8-4b43-ab3b-886aefd47b09",
   "metadata": {},
   "outputs": [],
   "source": []
  },
  {
   "cell_type": "code",
   "execution_count": null,
   "id": "73d9d33b-c767-4ce0-afbb-88538facf275",
   "metadata": {},
   "outputs": [],
   "source": []
  },
  {
   "cell_type": "code",
   "execution_count": null,
   "id": "3067ffdb-6f6e-4ae2-be6c-3a5219652c0e",
   "metadata": {},
   "outputs": [],
   "source": []
  },
  {
   "cell_type": "code",
   "execution_count": null,
   "id": "3dfbad96-a14f-49c6-b3af-0cf8fe4e16dd",
   "metadata": {},
   "outputs": [],
   "source": []
  },
  {
   "cell_type": "code",
   "execution_count": null,
   "id": "de0d54ae-ad95-45fd-8574-30688826da40",
   "metadata": {},
   "outputs": [],
   "source": []
  },
  {
   "cell_type": "code",
   "execution_count": null,
   "id": "22bfcad6-12a9-4131-ba45-c30a03c331be",
   "metadata": {},
   "outputs": [],
   "source": []
  },
  {
   "cell_type": "code",
   "execution_count": null,
   "id": "a4d96237-b2a9-4b4c-ae3a-8127e14c799a",
   "metadata": {},
   "outputs": [],
   "source": []
  },
  {
   "cell_type": "code",
   "execution_count": null,
   "id": "ba468ebb-70e1-42a2-ae4b-045befa2b2fc",
   "metadata": {},
   "outputs": [],
   "source": []
  },
  {
   "cell_type": "code",
   "execution_count": null,
   "id": "9e9729b2-7213-4b51-8874-b134abea2262",
   "metadata": {},
   "outputs": [],
   "source": []
  },
  {
   "cell_type": "code",
   "execution_count": null,
   "id": "37a083fc-b093-4350-9589-41b261eca22d",
   "metadata": {},
   "outputs": [],
   "source": []
  },
  {
   "cell_type": "code",
   "execution_count": null,
   "id": "967b3057-a962-4e2c-8b14-d3e6876fd500",
   "metadata": {},
   "outputs": [],
   "source": []
  },
  {
   "cell_type": "code",
   "execution_count": null,
   "id": "a5e2c574-07c4-4522-825a-70ba7bcc5079",
   "metadata": {},
   "outputs": [],
   "source": []
  },
  {
   "cell_type": "code",
   "execution_count": null,
   "id": "9f32d1cf-005d-4455-9f66-73b3b4baf7e5",
   "metadata": {},
   "outputs": [],
   "source": []
  },
  {
   "cell_type": "code",
   "execution_count": null,
   "id": "9ec1b19b-9248-4f88-a42b-83323fc1b7bc",
   "metadata": {},
   "outputs": [],
   "source": []
  },
  {
   "cell_type": "code",
   "execution_count": null,
   "id": "a386a9f3-9859-409d-8f96-6e4aba35fc03",
   "metadata": {},
   "outputs": [],
   "source": []
  },
  {
   "cell_type": "code",
   "execution_count": null,
   "id": "f8be8d86-24f7-4f77-83f2-3a2579da2a46",
   "metadata": {},
   "outputs": [],
   "source": []
  },
  {
   "cell_type": "code",
   "execution_count": null,
   "id": "8766dc84-f6bc-4740-add2-0d93898dce4e",
   "metadata": {},
   "outputs": [],
   "source": []
  },
  {
   "cell_type": "code",
   "execution_count": null,
   "id": "30c1041d-cea7-45ee-b9dd-fed250433d53",
   "metadata": {},
   "outputs": [],
   "source": []
  },
  {
   "cell_type": "code",
   "execution_count": null,
   "id": "1cdd7488-1ee3-48ac-be36-75e2af4b1eed",
   "metadata": {},
   "outputs": [],
   "source": []
  },
  {
   "cell_type": "code",
   "execution_count": null,
   "id": "728c26bb-2883-44ca-a2d9-ae2f10a6e97b",
   "metadata": {},
   "outputs": [],
   "source": []
  },
  {
   "cell_type": "code",
   "execution_count": null,
   "id": "efee3401-526e-432c-ab13-62b9fe71238c",
   "metadata": {},
   "outputs": [],
   "source": []
  },
  {
   "cell_type": "code",
   "execution_count": null,
   "id": "0bf3d318-f231-4277-a698-7c1671d4db44",
   "metadata": {},
   "outputs": [],
   "source": []
  },
  {
   "cell_type": "code",
   "execution_count": null,
   "id": "0ee6a7d1-3fab-470a-9727-f6b14f70f0fc",
   "metadata": {},
   "outputs": [],
   "source": []
  },
  {
   "cell_type": "code",
   "execution_count": null,
   "id": "847d78ee-56da-48d7-b7f3-c6f58f7e3970",
   "metadata": {},
   "outputs": [],
   "source": []
  },
  {
   "cell_type": "code",
   "execution_count": null,
   "id": "0d1b9bad-5311-47f0-939e-aac2d28542da",
   "metadata": {},
   "outputs": [],
   "source": []
  },
  {
   "cell_type": "code",
   "execution_count": null,
   "id": "c2870b67-cccd-4c4a-b6bb-9f3a49012bd4",
   "metadata": {},
   "outputs": [],
   "source": []
  },
  {
   "cell_type": "code",
   "execution_count": null,
   "id": "08172801-d8e4-4271-bfaa-456c25d3c764",
   "metadata": {},
   "outputs": [],
   "source": []
  },
  {
   "cell_type": "code",
   "execution_count": null,
   "id": "3c4bb6b6-0ad0-4448-a5d9-abf50624be05",
   "metadata": {},
   "outputs": [],
   "source": []
  },
  {
   "cell_type": "code",
   "execution_count": null,
   "id": "cdf5ade1-277f-4c5d-8ecb-8e1fa37ae5cb",
   "metadata": {},
   "outputs": [],
   "source": []
  },
  {
   "cell_type": "code",
   "execution_count": null,
   "id": "8c164889-00b1-42c0-ab6e-129f510f8327",
   "metadata": {},
   "outputs": [],
   "source": []
  },
  {
   "cell_type": "code",
   "execution_count": null,
   "id": "c9f2e9a0-b981-4f9b-aa5a-e052cf0d4019",
   "metadata": {},
   "outputs": [],
   "source": []
  },
  {
   "cell_type": "code",
   "execution_count": null,
   "id": "97fbf10e-d698-4d23-8c0e-daa4b9838197",
   "metadata": {},
   "outputs": [],
   "source": []
  },
  {
   "cell_type": "code",
   "execution_count": null,
   "id": "3e221d83-2a49-4ad0-8d1d-c6b3b2b14eae",
   "metadata": {},
   "outputs": [],
   "source": []
  },
  {
   "cell_type": "code",
   "execution_count": null,
   "id": "b08ed75a-7eaa-4d9e-846d-e2ddd79bea59",
   "metadata": {},
   "outputs": [],
   "source": []
  },
  {
   "cell_type": "code",
   "execution_count": null,
   "id": "22904cc3-4363-40ca-8602-cd37c63c6577",
   "metadata": {},
   "outputs": [],
   "source": []
  },
  {
   "cell_type": "code",
   "execution_count": null,
   "id": "5d49cdf9-0a3a-4711-adda-2ea0404470b8",
   "metadata": {},
   "outputs": [],
   "source": []
  },
  {
   "cell_type": "code",
   "execution_count": null,
   "id": "4743761d-6568-440a-85aa-f74845e5e739",
   "metadata": {},
   "outputs": [],
   "source": []
  },
  {
   "cell_type": "code",
   "execution_count": null,
   "id": "3e0e9baf-95d6-4475-bc91-e1ed661ee25d",
   "metadata": {},
   "outputs": [],
   "source": []
  },
  {
   "cell_type": "code",
   "execution_count": null,
   "id": "8f4f57fa-eae0-4e48-8bff-1f733aef5ce3",
   "metadata": {},
   "outputs": [],
   "source": []
  },
  {
   "cell_type": "code",
   "execution_count": null,
   "id": "c3206cf4-0897-41ba-880c-c5ce035d102d",
   "metadata": {},
   "outputs": [],
   "source": []
  },
  {
   "cell_type": "code",
   "execution_count": null,
   "id": "1e977a41-0a3f-4147-99a9-4214169ab5a8",
   "metadata": {},
   "outputs": [],
   "source": []
  },
  {
   "cell_type": "code",
   "execution_count": null,
   "id": "afe48671-b623-4058-a51e-1992c66cfe2b",
   "metadata": {},
   "outputs": [],
   "source": []
  },
  {
   "cell_type": "code",
   "execution_count": null,
   "id": "1758843b-8744-4479-aa4f-2d644e461437",
   "metadata": {},
   "outputs": [],
   "source": []
  },
  {
   "cell_type": "code",
   "execution_count": null,
   "id": "eca621df-e05f-4359-9a2e-3567cee9b0a5",
   "metadata": {},
   "outputs": [],
   "source": []
  },
  {
   "cell_type": "code",
   "execution_count": null,
   "id": "adba1f68-f2d0-4cce-a512-e1f4312da2c9",
   "metadata": {},
   "outputs": [],
   "source": []
  },
  {
   "cell_type": "code",
   "execution_count": null,
   "id": "aca7352e-ba9f-467e-9253-e6161e5f1053",
   "metadata": {},
   "outputs": [],
   "source": []
  },
  {
   "cell_type": "code",
   "execution_count": null,
   "id": "528a5ebd-bf26-4124-bc39-a6b26a073190",
   "metadata": {},
   "outputs": [],
   "source": []
  },
  {
   "cell_type": "code",
   "execution_count": null,
   "id": "1eb669c0-43c2-4cc9-981c-e9d9b50f5265",
   "metadata": {},
   "outputs": [],
   "source": []
  },
  {
   "cell_type": "code",
   "execution_count": null,
   "id": "2318c083-f4ec-4719-9870-e8011db6b6b7",
   "metadata": {},
   "outputs": [],
   "source": []
  },
  {
   "cell_type": "code",
   "execution_count": null,
   "id": "9f753cfb-7dad-4e56-a58f-68b4c572f304",
   "metadata": {},
   "outputs": [],
   "source": []
  },
  {
   "cell_type": "code",
   "execution_count": null,
   "id": "89828ceb-f2bd-4635-a0ed-e662f5d81bf7",
   "metadata": {},
   "outputs": [],
   "source": []
  },
  {
   "cell_type": "code",
   "execution_count": null,
   "id": "590ac978-b903-4b29-9309-8170fed84dc6",
   "metadata": {},
   "outputs": [],
   "source": []
  },
  {
   "cell_type": "code",
   "execution_count": null,
   "id": "e7ecd1f5-19b1-42e1-9f3b-221cb1a54839",
   "metadata": {},
   "outputs": [],
   "source": []
  },
  {
   "cell_type": "code",
   "execution_count": null,
   "id": "9afcefc3-c3b9-40eb-80c5-820e0b8ca104",
   "metadata": {},
   "outputs": [],
   "source": []
  },
  {
   "cell_type": "code",
   "execution_count": null,
   "id": "7dff72f0-eb69-4fc5-bf12-fb15f58ff1d5",
   "metadata": {},
   "outputs": [],
   "source": []
  },
  {
   "cell_type": "code",
   "execution_count": null,
   "id": "f4945ed5-1c2b-48d9-85cd-68d5430df63e",
   "metadata": {},
   "outputs": [],
   "source": []
  },
  {
   "cell_type": "code",
   "execution_count": null,
   "id": "cd92176b-5ba4-4019-9343-d4a1f607b430",
   "metadata": {},
   "outputs": [],
   "source": []
  },
  {
   "cell_type": "code",
   "execution_count": null,
   "id": "48168211-881a-43ee-8978-9722e0caf55b",
   "metadata": {},
   "outputs": [],
   "source": []
  },
  {
   "cell_type": "code",
   "execution_count": null,
   "id": "af474498-b0fb-44d1-ba60-5332456ef9cd",
   "metadata": {},
   "outputs": [],
   "source": []
  },
  {
   "cell_type": "code",
   "execution_count": null,
   "id": "39fe5d86-91a8-48c5-b693-af4fea822200",
   "metadata": {},
   "outputs": [],
   "source": []
  },
  {
   "cell_type": "code",
   "execution_count": null,
   "id": "680f07e4-22d8-4034-a706-5d9398f87168",
   "metadata": {},
   "outputs": [],
   "source": []
  },
  {
   "cell_type": "code",
   "execution_count": null,
   "id": "9e991034-a3da-4161-ba83-19652305abd4",
   "metadata": {},
   "outputs": [],
   "source": []
  },
  {
   "cell_type": "code",
   "execution_count": null,
   "id": "fc529b20-83aa-478b-a900-5a2491436d4a",
   "metadata": {},
   "outputs": [],
   "source": []
  },
  {
   "cell_type": "code",
   "execution_count": null,
   "id": "244b9ead-f9f1-4220-8234-2804027fbb4a",
   "metadata": {},
   "outputs": [],
   "source": []
  },
  {
   "cell_type": "code",
   "execution_count": null,
   "id": "d1c48249-3888-41b2-bf05-c18032bc00b6",
   "metadata": {},
   "outputs": [],
   "source": []
  }
 ],
 "metadata": {
  "kernelspec": {
   "display_name": "Python 3 (ipykernel)",
   "language": "python",
   "name": "python3"
  },
  "language_info": {
   "codemirror_mode": {
    "name": "ipython",
    "version": 3
   },
   "file_extension": ".py",
   "mimetype": "text/x-python",
   "name": "python",
   "nbconvert_exporter": "python",
   "pygments_lexer": "ipython3",
   "version": "3.11.7"
  }
 },
 "nbformat": 4,
 "nbformat_minor": 5
}
