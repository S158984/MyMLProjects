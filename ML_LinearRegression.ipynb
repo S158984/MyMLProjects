{
 "cells": [
  {
   "cell_type": "code",
   "execution_count": 3,
   "id": "129cd28c-5462-4ad5-9adc-4ee418a684cd",
   "metadata": {},
   "outputs": [],
   "source": [
    "import numpy as np\n",
    "import pandas as pd\n",
    "import os\n",
    "import matplotlib.pyplot as plt"
   ]
  },
  {
   "cell_type": "code",
   "execution_count": 2,
   "id": "b8925ce9-0c5e-44d5-a24e-537f41896a50",
   "metadata": {},
   "outputs": [
    {
     "name": "stdout",
     "output_type": "stream",
     "text": [
      "C:\\Users\\SUDHARSHAN\n"
     ]
    }
   ],
   "source": [
    "print (os.getcwd())"
   ]
  },
  {
   "cell_type": "code",
   "execution_count": 4,
   "id": "7f24ae94-c889-48e3-a4e5-428abcd5df25",
   "metadata": {},
   "outputs": [],
   "source": [
    "os.chdir(\"F:\\TopMentor_DataScience\\Batch 103 Day 32\")"
   ]
  },
  {
   "cell_type": "code",
   "execution_count": 5,
   "id": "9a6ed1b8-0cbd-4ca9-92df-d376083f6ea5",
   "metadata": {},
   "outputs": [
    {
     "name": "stdout",
     "output_type": "stream",
     "text": [
      "F:\\TopMentor_DataScience\\Batch 103 Day 32\n"
     ]
    }
   ],
   "source": [
    "print (os.getcwd())"
   ]
  },
  {
   "cell_type": "code",
   "execution_count": 6,
   "id": "cb0f1a76-e906-4156-aebc-fdb36b6c501a",
   "metadata": {},
   "outputs": [
    {
     "data": {
      "text/plain": [
       "(30, 2)"
      ]
     },
     "execution_count": 6,
     "metadata": {},
     "output_type": "execute_result"
    }
   ],
   "source": [
    "df1=pd.read_csv(\"Salary_Data.csv\")\n",
    "df1.shape"
   ]
  },
  {
   "cell_type": "code",
   "execution_count": 7,
   "id": "859fdb74-c26e-41ed-9dc9-28b9db5925ef",
   "metadata": {},
   "outputs": [
    {
     "data": {
      "text/plain": [
       "(30, 1)"
      ]
     },
     "execution_count": 7,
     "metadata": {},
     "output_type": "execute_result"
    }
   ],
   "source": [
    "x=df1.iloc[:,:-1].values\n",
    "x.shape"
   ]
  },
  {
   "cell_type": "code",
   "execution_count": 9,
   "id": "d019e6b3-10ae-4b71-ab4b-54190ec0f197",
   "metadata": {},
   "outputs": [
    {
     "data": {
      "text/plain": [
       "(30, 1)"
      ]
     },
     "execution_count": 9,
     "metadata": {},
     "output_type": "execute_result"
    }
   ],
   "source": [
    "y=df1.iloc[:,1:].values\n",
    "y.shape"
   ]
  },
  {
   "cell_type": "code",
   "execution_count": 10,
   "id": "de34e09a-a344-413e-89c9-6aa6095aa3ea",
   "metadata": {},
   "outputs": [
    {
     "data": {
      "image/png": "[encoded data removed]",
      "text/plain": [
       "<Figure size 640x480 with 1 Axes>"
      ]
     },
     "metadata": {},
     "output_type": "display_data"
    }
   ],
   "source": [
    "plt.plot(x,y,'r')\n",
    "plt.show()"
   ]
  },
  {
   "cell_type": "code",
   "execution_count": 11,
   "id": "9003d25b-e010-42a2-b4e5-0e5cf66d2558",
   "metadata": {},
   "outputs": [],
   "source": [
    "from sklearn.model_selection import train_test_split"
   ]
  },
  {
   "cell_type": "code",
   "execution_count": 12,
   "id": "9c5694f9-5e51-4cde-8125-6a20263d257b",
   "metadata": {},
   "outputs": [],
   "source": [
    "x_train, x_test, y_train, y_test=train_test_split(x,y,test_size=0.20)"
   ]
  },
  {
   "cell_type": "code",
   "execution_count": 13,
   "id": "7e8b043b-6364-4e2e-90b2-03be5b6ec6d9",
   "metadata": {},
   "outputs": [
    {
     "name": "stdout",
     "output_type": "stream",
     "text": [
      "X Shape- (30, 1)\n",
      "Y Shape- (30, 1)\n",
      "X_Train Shape- (24, 1)\n",
      "Y_Train Shape- (24, 1)\n",
      "X_Test Shape- (6, 1)\n",
      "Y_Test Shape- (6, 1)\n"
     ]
    }
   ],
   "source": [
    "print ('X Shape-',x.shape)\n",
    "print ('Y Shape-', y.shape)\n",
    "print ('X_Train Shape-',x_train.shape)\n",
    "print ('Y_Train Shape-',y_train.shape)\n",
    "print ('X_Test Shape-',x_test.shape)\n",
    "print ('Y_Test Shape-',y_test.shape)\n"
   ]
  },
  {
   "cell_type": "code",
   "execution_count": 14,
   "id": "afad7eee-66cd-4d80-b9c9-82f51a442af8",
   "metadata": {},
   "outputs": [],
   "source": [
    "    from sklearn.linear_model import LinearRegression"
   ]
  },
  {
   "cell_type": "code",
   "execution_count": 15,
   "id": "30ef7e08-e5fb-42da-a069-7422ca44bf11",
   "metadata": {},
   "outputs": [],
   "source": [
    "lr=LinearRegression()"
   ]
  },
  {
   "cell_type": "code",
   "execution_count": 17,
   "id": "01fc8c0c-b25e-4933-81b1-b85794b15144",
   "metadata": {},
   "outputs": [
    {
     "name": "stdout",
     "output_type": "stream",
     "text": [
      "LinearRegression()\n"
     ]
    }
   ],
   "source": [
    "lr.fit(x_train, y_train)\n",
    "print (lr)"
   ]
  },
  {
   "cell_type": "code",
   "execution_count": 40,
   "id": "6a6b9ec2-f420-4ca3-9e54-4e1ed60b47ae",
   "metadata": {},
   "outputs": [
    {
     "data": {
      "text/plain": [
       "array([[ 68921.51357625],\n",
       "       [126828.80388791],\n",
       "       [ 65061.02755547],\n",
       "       [118142.71034116],\n",
       "       [109456.61679441],\n",
       "       [ 36107.38239964]])"
      ]
     },
     "execution_count": 40,
     "metadata": {},
     "output_type": "execute_result"
    }
   ],
   "source": [
    "y_pred=lr.predict(x_test)\n",
    "y_pred"
   ]
  },
  {
   "cell_type": "code",
   "execution_count": 41,
   "id": "78312950-81e9-4257-a6c6-8d698f017a5b",
   "metadata": {},
   "outputs": [
    {
     "data": {
      "text/plain": [
       "array([[ 4.5],\n",
       "       [10.5],\n",
       "       [ 4.1],\n",
       "       [ 9.6],\n",
       "       [ 8.7],\n",
       "       [ 1.1]])"
      ]
     },
     "execution_count": 41,
     "metadata": {},
     "output_type": "execute_result"
    }
   ],
   "source": [
    "x_test"
   ]
  },
  {
   "cell_type": "code",
   "execution_count": 42,
   "id": "f576f9fa-3523-43c8-a252-811417d83d30",
   "metadata": {},
   "outputs": [],
   "source": [
    "df_x_test =pd.DataFrame(x_test, columns = ['Experience'])\n",
    "df_y_test=pd.DataFrame(y_test, columns=['Salary_Test'])\n",
    "df_y_pred =pd.DataFrame(y_pred, columns=['Salary Prediction'])\n",
    "\n",
    "\n",
    "#df_tota=pd.concat(df_x_test,df_y_test,df_y_pred)\n"
   ]
  },
  {
   "cell_type": "code",
   "execution_count": 27,
   "id": "42c3bb75-3234-4485-b517-173fb72f85b8",
   "metadata": {},
   "outputs": [],
   "source": [
    "#df_y_pred.subtract(df_y_test)\n"
   ]
  },
  {
   "cell_type": "code",
   "execution_count": 45,
   "id": "b949c76f-d7ed-4798-a7cd-c0474fd8dfe6",
   "metadata": {},
   "outputs": [
    {
     "name": "stdout",
     "output_type": "stream",
     "text": [
      "   Experience  Salary     Prediction   Difference\n",
      "0         4.5   61111   68921.513576 -7810.513576\n",
      "1        10.5  121872  126828.803888 -4956.803888\n",
      "2         4.1   57081   65061.027555 -7980.027555\n",
      "3         9.6  112635  118142.710341 -5507.710341\n",
      "4         8.7  109431  109456.616794   -25.616794\n",
      "5         1.1   39343   36107.382400  3235.617600\n"
     ]
    },
    {
     "data": {
      "text/plain": [
       "pandas.core.frame.DataFrame"
      ]
     },
     "execution_count": 45,
     "metadata": {},
     "output_type": "execute_result"
    }
   ],
   "source": [
    "df_x_test =pd.DataFrame(x_test, columns = ['Experience'])\n",
    "df_y_test= pd.DataFrame(y_test, columns = ['Salary'])\n",
    "df_y_test_pred =  pd.DataFrame(y_pred, columns = ['Prediction'])\n",
    "#df_y_test- df_y_test_pred\n",
    "df_diff =df_y_test- df_y_test_pred\n",
    "#print(df_diff)\n",
    "y_test_pred = pd.concat ([df_x_test ,df_y_test, df_y_test_pred ],axis =1)\n",
    "#print (y_test_pred)\n",
    "y_test_pred['Difference'] =df_y_test ['Salary']- df_y_test_pred['Prediction']\n",
    "print (y_test_pred)\n",
    "type(df_x_test)\n",
    "\n"
   ]
  },
  {
   "cell_type": "code",
   "execution_count": 56,
   "id": "983bce93-9efc-4c0d-a78a-dd75e75c2d93",
   "metadata": {},
   "outputs": [],
   "source": [
    "from sklearn.metrics import r2_score\n"
   ]
  },
  {
   "cell_type": "code",
   "execution_count": 57,
   "id": "18859995-0064-41fd-8647-5d0b2ea4b738",
   "metadata": {},
   "outputs": [
    {
     "data": {
      "text/plain": [
       "0.9775031065135563"
      ]
     },
     "execution_count": 57,
     "metadata": {},
     "output_type": "execute_result"
    }
   ],
   "source": [
    "accu=r2_score(y_test, y_pred)\n",
    "accu"
   ]
  },
  {
   "cell_type": "code",
   "execution_count": 48,
   "id": "05af85e8-6314-475a-8724-e05cd7c9b606",
   "metadata": {},
   "outputs": [],
   "source": [
    "#a=pd.DataFrame(test,columns='Value',index=1)"
   ]
  },
  {
   "cell_type": "code",
   "execution_count": 65,
   "id": "46f86a4d-d283-4a10-9c85-e63c8f157008",
   "metadata": {},
   "outputs": [
    {
     "data": {
      "image/png": "[encoded data removed]",
      "text/plain": [
       "<Figure size 640x480 with 1 Axes>"
      ]
     },
     "metadata": {},
     "output_type": "display_data"
    }
   ],
   "source": [
    "plt.scatter(x_test,y_test)\n",
    "plt.plot(x_test, y_pred,'r')\n",
    "plt.show()"
   ]
  },
  {
   "cell_type": "code",
   "execution_count": 66,
   "id": "54301200-bf0f-4a1f-b761-4332915dbd33",
   "metadata": {},
   "outputs": [],
   "source": [
    "#plt.scatter (x_test, y_test)\n",
    "#plt.plot (x_test, y_pred,'r')\n",
    "#plt.show()\n"
   ]
  },
  {
   "cell_type": "code",
   "execution_count": 68,
   "id": "d3192e64-afa9-461a-85ea-0594aa01b13b",
   "metadata": {},
   "outputs": [
    {
     "data": {
      "text/plain": [
       "array([[9554.07182618]])"
      ]
     },
     "execution_count": 68,
     "metadata": {},
     "output_type": "execute_result"
    }
   ],
   "source": [
    "lr.coef_"
   ]
  },
  {
   "cell_type": "code",
   "execution_count": 69,
   "id": "e4563802-0e7f-406c-809b-527e7e0712af",
   "metadata": {},
   "outputs": [
    {
     "data": {
      "text/plain": [
       "array([24878.57526037])"
      ]
     },
     "execution_count": 69,
     "metadata": {},
     "output_type": "execute_result"
    }
   ],
   "source": [
    "lr.intercept_"
   ]
  },
  {
   "cell_type": "code",
   "execution_count": 93,
   "id": "ea374135-ae69-46c4-91da-14efefc076a8",
   "metadata": {},
   "outputs": [
    {
     "data": {
      "text/plain": [
       "array([[ 35388.05426917],\n",
       "       [ 37298.8686344 ],\n",
       "       [ 39209.68299964],\n",
       "       [ 43986.71891273],\n",
       "       [ 45897.53327797],\n",
       "       [ 52585.38355629],\n",
       "       [ 53540.79073891],\n",
       "       [ 55451.60510415],\n",
       "       [ 55451.60510415],\n",
       "       [ 60228.64101724],\n",
       "       [ 62139.45538247],\n",
       "       [ 63094.86256509],\n",
       "       [ 63094.86256509],\n",
       "       [ 64050.26974771],\n",
       "       [ 67871.89847818],\n",
       "       [ 71693.52720866],\n",
       "       [ 73604.34157389],\n",
       "       [ 75515.15593913],\n",
       "       [ 81247.59903484],\n",
       "       [ 82203.00621745],\n",
       "       [ 89846.2636784 ],\n",
       "       [ 92712.48522625],\n",
       "       [100355.7426872 ],\n",
       "       [103221.96423505],\n",
       "       [107999.00014814],\n",
       "       [110865.221696  ],\n",
       "       [115642.25760909],\n",
       "       [116597.6647917 ],\n",
       "       [123285.51507003],\n",
       "       [125196.32943527]])"
      ]
     },
     "execution_count": 93,
     "metadata": {},
     "output_type": "execute_result"
    }
   ],
   "source": [
    "y_predict_final=lr.predict(x)\n",
    "y_predict_final"
   ]
  },
  {
   "cell_type": "code",
   "execution_count": 103,
   "id": "be61cbf0-059d-4981-9e08-fff4ad530a2f",
   "metadata": {},
   "outputs": [],
   "source": [
    "y_pred_final=pd.DataFrame(y_predict_final,columns=['Final Predict'])"
   ]
  },
  {
   "cell_type": "code",
   "execution_count": 104,
   "id": "4f0d92bf-8a2a-44cf-a945-e5f099fe9642",
   "metadata": {},
   "outputs": [
    {
     "data": {
      "text/html": [
       "<div>\n",
       "<style scoped>\n",
       "    .dataframe tbody tr th:only-of-type {\n",
       "        vertical-align: middle;\n",
       "    }\n",
       "\n",
       "    .dataframe tbody tr th {\n",
       "        vertical-align: top;\n",
       "    }\n",
       "\n",
       "    .dataframe thead th {\n",
       "        text-align: right;\n",
       "    }\n",
       "</style>\n",
       "<table border=\"1\" class=\"dataframe\">\n",
       "  <thead>\n",
       "    <tr style=\"text-align: right;\">\n",
       "      <th></th>\n",
       "      <th>Final Predict</th>\n",
       "    </tr>\n",
       "  </thead>\n",
       "  <tbody>\n",
       "    <tr>\n",
       "      <th>0</th>\n",
       "      <td>35388.054269</td>\n",
       "    </tr>\n",
       "    <tr>\n",
       "      <th>1</th>\n",
       "      <td>37298.868634</td>\n",
       "    </tr>\n",
       "    <tr>\n",
       "      <th>2</th>\n",
       "      <td>39209.683000</td>\n",
       "    </tr>\n",
       "    <tr>\n",
       "      <th>3</th>\n",
       "      <td>43986.718913</td>\n",
       "    </tr>\n",
       "    <tr>\n",
       "      <th>4</th>\n",
       "      <td>45897.533278</td>\n",
       "    </tr>\n",
       "  </tbody>\n",
       "</table>\n",
       "</div>"
      ],
      "text/plain": [
       "   Final Predict\n",
       "0   35388.054269\n",
       "1   37298.868634\n",
       "2   39209.683000\n",
       "3   43986.718913\n",
       "4   45897.533278"
      ]
     },
     "execution_count": 104,
     "metadata": {},
     "output_type": "execute_result"
    }
   ],
   "source": [
    "y_pred_final.head()"
   ]
  },
  {
   "cell_type": "code",
   "execution_count": 98,
   "id": "d0d0f6b8-6e80-4475-8f4d-69b4a687c2a3",
   "metadata": {},
   "outputs": [
    {
     "data": {
      "text/plain": [
       "<bound method NDFrame.head of       Final Pred  difference_salary\n",
       "0    3954.945731        3954.945731\n",
       "1    8906.131366        8906.131366\n",
       "2   -1478.683000       -1478.683000\n",
       "3    -461.718913        -461.718913\n",
       "4   -6006.533278       -6006.533278\n",
       "5    4056.616444        4056.616444\n",
       "6    6609.209261        6609.209261\n",
       "7   -1006.605104       -1006.605104\n",
       "8    8993.394896        8993.394896\n",
       "9   -3039.641017       -3039.641017\n",
       "10   1078.544618        1078.544618\n",
       "11  -7300.862565       -7300.862565\n",
       "12  -6137.862565       -6137.862565\n",
       "13  -6969.269748       -6969.269748\n",
       "14  -6760.898478       -6760.898478\n",
       "15  -3755.527209       -3755.527209\n",
       "16  -7575.341574       -7575.341574\n",
       "17   7572.844061        7572.844061\n",
       "18    115.400965         115.400965\n",
       "19  11736.993783       11736.993783\n",
       "20   1891.736322        1891.736322\n",
       "21   5560.514774        5560.514774\n",
       "22    946.257313         946.257313\n",
       "23  10590.035765       10590.035765\n",
       "24   1431.999852        1431.999852\n",
       "25  -5283.221696       -5283.221696\n",
       "26   1326.742391        1326.742391\n",
       "27  -3962.664792       -3962.664792\n",
       "28   -894.515070        -894.515070\n",
       "29  -3324.329435       -3324.329435>"
      ]
     },
     "execution_count": 98,
     "metadata": {},
     "output_type": "execute_result"
    }
   ],
   "source": [
    "final_diff=y-y_pred_final\n",
    "final_diff.head"
   ]
  },
  {
   "cell_type": "code",
   "execution_count": 105,
   "id": "957bdc23-8dac-46db-bc27-e14a8bf180b0",
   "metadata": {},
   "outputs": [
    {
     "data": {
      "text/html": [
       "<div>\n",
       "<style scoped>\n",
       "    .dataframe tbody tr th:only-of-type {\n",
       "        vertical-align: middle;\n",
       "    }\n",
       "\n",
       "    .dataframe tbody tr th {\n",
       "        vertical-align: top;\n",
       "    }\n",
       "\n",
       "    .dataframe thead th {\n",
       "        text-align: right;\n",
       "    }\n",
       "</style>\n",
       "<table border=\"1\" class=\"dataframe\">\n",
       "  <thead>\n",
       "    <tr style=\"text-align: right;\">\n",
       "      <th></th>\n",
       "      <th>YearsExperience</th>\n",
       "      <th>Salary</th>\n",
       "      <th>Final Predict</th>\n",
       "      <th>Final Pred</th>\n",
       "      <th>difference_salary</th>\n",
       "    </tr>\n",
       "  </thead>\n",
       "  <tbody>\n",
       "    <tr>\n",
       "      <th>0</th>\n",
       "      <td>1.1</td>\n",
       "      <td>39343</td>\n",
       "      <td>35388.054269</td>\n",
       "      <td>3954.945731</td>\n",
       "      <td>3954.945731</td>\n",
       "    </tr>\n",
       "    <tr>\n",
       "      <th>1</th>\n",
       "      <td>1.3</td>\n",
       "      <td>46205</td>\n",
       "      <td>37298.868634</td>\n",
       "      <td>8906.131366</td>\n",
       "      <td>8906.131366</td>\n",
       "    </tr>\n",
       "    <tr>\n",
       "      <th>2</th>\n",
       "      <td>1.5</td>\n",
       "      <td>37731</td>\n",
       "      <td>39209.683000</td>\n",
       "      <td>-1478.683000</td>\n",
       "      <td>-1478.683000</td>\n",
       "    </tr>\n",
       "    <tr>\n",
       "      <th>3</th>\n",
       "      <td>2.0</td>\n",
       "      <td>43525</td>\n",
       "      <td>43986.718913</td>\n",
       "      <td>-461.718913</td>\n",
       "      <td>-461.718913</td>\n",
       "    </tr>\n",
       "    <tr>\n",
       "      <th>4</th>\n",
       "      <td>2.2</td>\n",
       "      <td>39891</td>\n",
       "      <td>45897.533278</td>\n",
       "      <td>-6006.533278</td>\n",
       "      <td>-6006.533278</td>\n",
       "    </tr>\n",
       "    <tr>\n",
       "      <th>5</th>\n",
       "      <td>2.9</td>\n",
       "      <td>56642</td>\n",
       "      <td>52585.383556</td>\n",
       "      <td>4056.616444</td>\n",
       "      <td>4056.616444</td>\n",
       "    </tr>\n",
       "    <tr>\n",
       "      <th>6</th>\n",
       "      <td>3.0</td>\n",
       "      <td>60150</td>\n",
       "      <td>53540.790739</td>\n",
       "      <td>6609.209261</td>\n",
       "      <td>6609.209261</td>\n",
       "    </tr>\n",
       "    <tr>\n",
       "      <th>7</th>\n",
       "      <td>3.2</td>\n",
       "      <td>54445</td>\n",
       "      <td>55451.605104</td>\n",
       "      <td>-1006.605104</td>\n",
       "      <td>-1006.605104</td>\n",
       "    </tr>\n",
       "    <tr>\n",
       "      <th>8</th>\n",
       "      <td>3.2</td>\n",
       "      <td>64445</td>\n",
       "      <td>55451.605104</td>\n",
       "      <td>8993.394896</td>\n",
       "      <td>8993.394896</td>\n",
       "    </tr>\n",
       "    <tr>\n",
       "      <th>9</th>\n",
       "      <td>3.7</td>\n",
       "      <td>57189</td>\n",
       "      <td>60228.641017</td>\n",
       "      <td>-3039.641017</td>\n",
       "      <td>-3039.641017</td>\n",
       "    </tr>\n",
       "    <tr>\n",
       "      <th>10</th>\n",
       "      <td>3.9</td>\n",
       "      <td>63218</td>\n",
       "      <td>62139.455382</td>\n",
       "      <td>1078.544618</td>\n",
       "      <td>1078.544618</td>\n",
       "    </tr>\n",
       "    <tr>\n",
       "      <th>11</th>\n",
       "      <td>4.0</td>\n",
       "      <td>55794</td>\n",
       "      <td>63094.862565</td>\n",
       "      <td>-7300.862565</td>\n",
       "      <td>-7300.862565</td>\n",
       "    </tr>\n",
       "    <tr>\n",
       "      <th>12</th>\n",
       "      <td>4.0</td>\n",
       "      <td>56957</td>\n",
       "      <td>63094.862565</td>\n",
       "      <td>-6137.862565</td>\n",
       "      <td>-6137.862565</td>\n",
       "    </tr>\n",
       "    <tr>\n",
       "      <th>13</th>\n",
       "      <td>4.1</td>\n",
       "      <td>57081</td>\n",
       "      <td>64050.269748</td>\n",
       "      <td>-6969.269748</td>\n",
       "      <td>-6969.269748</td>\n",
       "    </tr>\n",
       "    <tr>\n",
       "      <th>14</th>\n",
       "      <td>4.5</td>\n",
       "      <td>61111</td>\n",
       "      <td>67871.898478</td>\n",
       "      <td>-6760.898478</td>\n",
       "      <td>-6760.898478</td>\n",
       "    </tr>\n",
       "    <tr>\n",
       "      <th>15</th>\n",
       "      <td>4.9</td>\n",
       "      <td>67938</td>\n",
       "      <td>71693.527209</td>\n",
       "      <td>-3755.527209</td>\n",
       "      <td>-3755.527209</td>\n",
       "    </tr>\n",
       "    <tr>\n",
       "      <th>16</th>\n",
       "      <td>5.1</td>\n",
       "      <td>66029</td>\n",
       "      <td>73604.341574</td>\n",
       "      <td>-7575.341574</td>\n",
       "      <td>-7575.341574</td>\n",
       "    </tr>\n",
       "    <tr>\n",
       "      <th>17</th>\n",
       "      <td>5.3</td>\n",
       "      <td>83088</td>\n",
       "      <td>75515.155939</td>\n",
       "      <td>7572.844061</td>\n",
       "      <td>7572.844061</td>\n",
       "    </tr>\n",
       "    <tr>\n",
       "      <th>18</th>\n",
       "      <td>5.9</td>\n",
       "      <td>81363</td>\n",
       "      <td>81247.599035</td>\n",
       "      <td>115.400965</td>\n",
       "      <td>115.400965</td>\n",
       "    </tr>\n",
       "    <tr>\n",
       "      <th>19</th>\n",
       "      <td>6.0</td>\n",
       "      <td>93940</td>\n",
       "      <td>82203.006217</td>\n",
       "      <td>11736.993783</td>\n",
       "      <td>11736.993783</td>\n",
       "    </tr>\n",
       "    <tr>\n",
       "      <th>20</th>\n",
       "      <td>6.8</td>\n",
       "      <td>91738</td>\n",
       "      <td>89846.263678</td>\n",
       "      <td>1891.736322</td>\n",
       "      <td>1891.736322</td>\n",
       "    </tr>\n",
       "    <tr>\n",
       "      <th>21</th>\n",
       "      <td>7.1</td>\n",
       "      <td>98273</td>\n",
       "      <td>92712.485226</td>\n",
       "      <td>5560.514774</td>\n",
       "      <td>5560.514774</td>\n",
       "    </tr>\n",
       "    <tr>\n",
       "      <th>22</th>\n",
       "      <td>7.9</td>\n",
       "      <td>101302</td>\n",
       "      <td>100355.742687</td>\n",
       "      <td>946.257313</td>\n",
       "      <td>946.257313</td>\n",
       "    </tr>\n",
       "    <tr>\n",
       "      <th>23</th>\n",
       "      <td>8.2</td>\n",
       "      <td>113812</td>\n",
       "      <td>103221.964235</td>\n",
       "      <td>10590.035765</td>\n",
       "      <td>10590.035765</td>\n",
       "    </tr>\n",
       "    <tr>\n",
       "      <th>24</th>\n",
       "      <td>8.7</td>\n",
       "      <td>109431</td>\n",
       "      <td>107999.000148</td>\n",
       "      <td>1431.999852</td>\n",
       "      <td>1431.999852</td>\n",
       "    </tr>\n",
       "    <tr>\n",
       "      <th>25</th>\n",
       "      <td>9.0</td>\n",
       "      <td>105582</td>\n",
       "      <td>110865.221696</td>\n",
       "      <td>-5283.221696</td>\n",
       "      <td>-5283.221696</td>\n",
       "    </tr>\n",
       "    <tr>\n",
       "      <th>26</th>\n",
       "      <td>9.5</td>\n",
       "      <td>116969</td>\n",
       "      <td>115642.257609</td>\n",
       "      <td>1326.742391</td>\n",
       "      <td>1326.742391</td>\n",
       "    </tr>\n",
       "    <tr>\n",
       "      <th>27</th>\n",
       "      <td>9.6</td>\n",
       "      <td>112635</td>\n",
       "      <td>116597.664792</td>\n",
       "      <td>-3962.664792</td>\n",
       "      <td>-3962.664792</td>\n",
       "    </tr>\n",
       "    <tr>\n",
       "      <th>28</th>\n",
       "      <td>10.3</td>\n",
       "      <td>122391</td>\n",
       "      <td>123285.515070</td>\n",
       "      <td>-894.515070</td>\n",
       "      <td>-894.515070</td>\n",
       "    </tr>\n",
       "    <tr>\n",
       "      <th>29</th>\n",
       "      <td>10.5</td>\n",
       "      <td>121872</td>\n",
       "      <td>125196.329435</td>\n",
       "      <td>-3324.329435</td>\n",
       "      <td>-3324.329435</td>\n",
       "    </tr>\n",
       "  </tbody>\n",
       "</table>\n",
       "</div>"
      ],
      "text/plain": [
       "    YearsExperience  Salary  Final Predict    Final Pred  difference_salary\n",
       "0               1.1   39343   35388.054269   3954.945731        3954.945731\n",
       "1               1.3   46205   37298.868634   8906.131366        8906.131366\n",
       "2               1.5   37731   39209.683000  -1478.683000       -1478.683000\n",
       "3               2.0   43525   43986.718913   -461.718913        -461.718913\n",
       "4               2.2   39891   45897.533278  -6006.533278       -6006.533278\n",
       "5               2.9   56642   52585.383556   4056.616444        4056.616444\n",
       "6               3.0   60150   53540.790739   6609.209261        6609.209261\n",
       "7               3.2   54445   55451.605104  -1006.605104       -1006.605104\n",
       "8               3.2   64445   55451.605104   8993.394896        8993.394896\n",
       "9               3.7   57189   60228.641017  -3039.641017       -3039.641017\n",
       "10              3.9   63218   62139.455382   1078.544618        1078.544618\n",
       "11              4.0   55794   63094.862565  -7300.862565       -7300.862565\n",
       "12              4.0   56957   63094.862565  -6137.862565       -6137.862565\n",
       "13              4.1   57081   64050.269748  -6969.269748       -6969.269748\n",
       "14              4.5   61111   67871.898478  -6760.898478       -6760.898478\n",
       "15              4.9   67938   71693.527209  -3755.527209       -3755.527209\n",
       "16              5.1   66029   73604.341574  -7575.341574       -7575.341574\n",
       "17              5.3   83088   75515.155939   7572.844061        7572.844061\n",
       "18              5.9   81363   81247.599035    115.400965         115.400965\n",
       "19              6.0   93940   82203.006217  11736.993783       11736.993783\n",
       "20              6.8   91738   89846.263678   1891.736322        1891.736322\n",
       "21              7.1   98273   92712.485226   5560.514774        5560.514774\n",
       "22              7.9  101302  100355.742687    946.257313         946.257313\n",
       "23              8.2  113812  103221.964235  10590.035765       10590.035765\n",
       "24              8.7  109431  107999.000148   1431.999852        1431.999852\n",
       "25              9.0  105582  110865.221696  -5283.221696       -5283.221696\n",
       "26              9.5  116969  115642.257609   1326.742391        1326.742391\n",
       "27              9.6  112635  116597.664792  -3962.664792       -3962.664792\n",
       "28             10.3  122391  123285.515070   -894.515070        -894.515070\n",
       "29             10.5  121872  125196.329435  -3324.329435       -3324.329435"
      ]
     },
     "execution_count": 105,
     "metadata": {},
     "output_type": "execute_result"
    }
   ],
   "source": [
    "df2=pd.concat([df1,y_pred_final,final_diff],axis=1)\n",
    "df2"
   ]
  },
  {
   "cell_type": "code",
   "execution_count": null,
   "id": "103efa39-8193-4cce-ac5b-309eeed471d6",
   "metadata": {},
   "outputs": [],
   "source": []
  },
  {
   "cell_type": "code",
   "execution_count": null,
   "id": "dc10c8d2-87e8-4b06-92b9-f2c22756972f",
   "metadata": {},
   "outputs": [],
   "source": []
  },
  {
   "cell_type": "code",
   "execution_count": null,
   "id": "0c287343-ee77-42d6-8cb4-1e92cdb3bff0",
   "metadata": {},
   "outputs": [],
   "source": []
  },
  {
   "cell_type": "code",
   "execution_count": null,
   "id": "12bc74e3-990d-4a9d-9e24-0714565328e5",
   "metadata": {},
   "outputs": [],
   "source": []
  },
  {
   "cell_type": "code",
   "execution_count": null,
   "id": "323cb475-843d-4294-9053-30edb2e44f07",
   "metadata": {},
   "outputs": [],
   "source": []
  },
  {
   "cell_type": "code",
   "execution_count": null,
   "id": "ef2669a0-f4be-4220-99bb-74cd2ad7166e",
   "metadata": {},
   "outputs": [],
   "source": []
  },
  {
   "cell_type": "code",
   "execution_count": null,
   "id": "ae38eb8d-d209-4d64-9c82-2d9bd66f4c13",
   "metadata": {},
   "outputs": [],
   "source": []
  },
  {
   "cell_type": "code",
   "execution_count": null,
   "id": "7d05bcc4-aaf7-4f64-b02f-4dcdd13e78ea",
   "metadata": {},
   "outputs": [],
   "source": []
  },
  {
   "cell_type": "code",
   "execution_count": null,
   "id": "c195467d-fdde-4a26-8a40-fd9c9f7ceec1",
   "metadata": {},
   "outputs": [],
   "source": []
  },
  {
   "cell_type": "code",
   "execution_count": null,
   "id": "17c358d4-aa12-4054-93af-3a03f9898a3c",
   "metadata": {},
   "outputs": [],
   "source": []
  },
  {
   "cell_type": "code",
   "execution_count": null,
   "id": "042c25f2-9fab-4e37-a73d-ff63b2521c67",
   "metadata": {},
   "outputs": [],
   "source": []
  },
  {
   "cell_type": "code",
   "execution_count": null,
   "id": "c665d30f-894b-4064-ac56-aba5668f71ac",
   "metadata": {},
   "outputs": [],
   "source": []
  },
  {
   "cell_type": "code",
   "execution_count": null,
   "id": "c41abb83-0052-4e4a-81ba-04b3546790d6",
   "metadata": {},
   "outputs": [],
   "source": []
  },
  {
   "cell_type": "code",
   "execution_count": null,
   "id": "34fa7af0-408b-4f6d-abd3-8418eb8e641d",
   "metadata": {},
   "outputs": [],
   "source": []
  },
  {
   "cell_type": "code",
   "execution_count": null,
   "id": "0711c804-ef4e-482c-90b1-6fc98175b336",
   "metadata": {},
   "outputs": [],
   "source": []
  },
  {
   "cell_type": "code",
   "execution_count": null,
   "id": "418b493c-3adf-4ec5-a537-dee6f3af0438",
   "metadata": {},
   "outputs": [],
   "source": []
  },
  {
   "cell_type": "code",
   "execution_count": null,
   "id": "8e1c423a-9774-49b1-9bec-574b5074a4eb",
   "metadata": {},
   "outputs": [],
   "source": []
  },
  {
   "cell_type": "code",
   "execution_count": null,
   "id": "4f63805b-f1fc-4e61-a627-c0dbdcdc91b2",
   "metadata": {},
   "outputs": [],
   "source": []
  },
  {
   "cell_type": "code",
   "execution_count": null,
   "id": "715b2225-f6a0-40d0-92f2-2c7a3f842e76",
   "metadata": {},
   "outputs": [],
   "source": []
  },
  {
   "cell_type": "code",
   "execution_count": null,
   "id": "fa99760e-3da8-40b4-bc6d-c51094e3c57e",
   "metadata": {},
   "outputs": [],
   "source": []
  },
  {
   "cell_type": "code",
   "execution_count": null,
   "id": "bc215990-62f4-4756-a36e-db303b7711b6",
   "metadata": {},
   "outputs": [],
   "source": []
  },
  {
   "cell_type": "code",
   "execution_count": null,
   "id": "0fe2939a-9344-48e6-b936-11b4c423077d",
   "metadata": {},
   "outputs": [],
   "source": []
  },
  {
   "cell_type": "code",
   "execution_count": null,
   "id": "924a11a2-e5b6-44f1-a1f3-632760699d57",
   "metadata": {},
   "outputs": [],
   "source": []
  },
  {
   "cell_type": "code",
   "execution_count": null,
   "id": "0da2e659-aad9-4543-8dec-536cc52e5e6a",
   "metadata": {},
   "outputs": [],
   "source": []
  },
  {
   "cell_type": "code",
   "execution_count": null,
   "id": "fc3edfea-36c0-4ad3-9c5f-2c3902561600",
   "metadata": {},
   "outputs": [],
   "source": []
  },
  {
   "cell_type": "code",
   "execution_count": null,
   "id": "15bb59b0-17b3-49a9-99d0-485ab500dd7e",
   "metadata": {},
   "outputs": [],
   "source": []
  },
  {
   "cell_type": "code",
   "execution_count": null,
   "id": "d9084256-ed7b-4a65-8744-062cea28cc73",
   "metadata": {},
   "outputs": [],
   "source": []
  },
  {
   "cell_type": "code",
   "execution_count": null,
   "id": "24be87a7-3464-4f2d-9ce4-60acd55d4967",
   "metadata": {},
   "outputs": [],
   "source": []
  },
  {
   "cell_type": "code",
   "execution_count": null,
   "id": "78ed33f1-d36f-4037-86f3-f9e2f3eab1d9",
   "metadata": {},
   "outputs": [],
   "source": []
  },
  {
   "cell_type": "code",
   "execution_count": null,
   "id": "b5425b1b-266f-4c22-b601-3542afe2af51",
   "metadata": {},
   "outputs": [],
   "source": []
  },
  {
   "cell_type": "code",
   "execution_count": null,
   "id": "32f8f6ef-f998-4f55-8016-cdfef7801aa3",
   "metadata": {},
   "outputs": [],
   "source": []
  },
  {
   "cell_type": "code",
   "execution_count": null,
   "id": "63bfb86a-cf18-4e25-b01a-b6ceb3f6d061",
   "metadata": {},
   "outputs": [],
   "source": []
  },
  {
   "cell_type": "code",
   "execution_count": null,
   "id": "84b2aa17-bd43-4797-8026-a33aa92b1859",
   "metadata": {},
   "outputs": [],
   "source": []
  },
  {
   "cell_type": "code",
   "execution_count": null,
   "id": "40f6dcdf-01b4-4877-af07-bc3763aece11",
   "metadata": {},
   "outputs": [],
   "source": []
  },
  {
   "cell_type": "code",
   "execution_count": null,
   "id": "2f9578a4-ed53-4cdf-b0bf-5f7a7a11e791",
   "metadata": {},
   "outputs": [],
   "source": []
  },
  {
   "cell_type": "code",
   "execution_count": null,
   "id": "65c7ca25-863e-495a-9f27-7fdc9433a3ac",
   "metadata": {},
   "outputs": [],
   "source": []
  },
  {
   "cell_type": "code",
   "execution_count": null,
   "id": "83b971b9-7f07-4097-aa06-0a5f6ddf5076",
   "metadata": {},
   "outputs": [],
   "source": []
  },
  {
   "cell_type": "code",
   "execution_count": null,
   "id": "2023a710-f618-4a94-9815-124c9b00b753",
   "metadata": {},
   "outputs": [],
   "source": []
  },
  {
   "cell_type": "code",
   "execution_count": null,
   "id": "8dffcbfb-6770-477d-b15f-9d40c1964211",
   "metadata": {},
   "outputs": [],
   "source": []
  },
  {
   "cell_type": "code",
   "execution_count": null,
   "id": "b2f5b8a2-dfd1-4c5a-9768-b68df1ec934f",
   "metadata": {},
   "outputs": [],
   "source": []
  },
  {
   "cell_type": "code",
   "execution_count": null,
   "id": "cd1bfb15-4d00-498c-9902-bf139a5dd2d0",
   "metadata": {},
   "outputs": [],
   "source": []
  },
  {
   "cell_type": "code",
   "execution_count": null,
   "id": "1a8d2c56-b891-4b77-90c4-4ea800240ac9",
   "metadata": {},
   "outputs": [],
   "source": []
  },
  {
   "cell_type": "code",
   "execution_count": null,
   "id": "39845b93-10d5-4b69-929a-8c5d96f8d9ea",
   "metadata": {},
   "outputs": [],
   "source": []
  },
  {
   "cell_type": "code",
   "execution_count": null,
   "id": "77195399-29b9-4a0f-b15b-5532f9ef5676",
   "metadata": {},
   "outputs": [],
   "source": []
  },
  {
   "cell_type": "code",
   "execution_count": null,
   "id": "c9ddd726-77bd-44d0-92f7-31688f027008",
   "metadata": {},
   "outputs": [],
   "source": []
  },
  {
   "cell_type": "code",
   "execution_count": null,
   "id": "c26e66df-b904-4ab2-8781-e3c60691199a",
   "metadata": {},
   "outputs": [],
   "source": []
  },
  {
   "cell_type": "code",
   "execution_count": null,
   "id": "b080062a-e020-4282-925d-0c02bcc04527",
   "metadata": {},
   "outputs": [],
   "source": []
  },
  {
   "cell_type": "code",
   "execution_count": null,
   "id": "2c111fb1-6401-4c96-8487-ff5109a8f22c",
   "metadata": {},
   "outputs": [],
   "source": []
  },
  {
   "cell_type": "code",
   "execution_count": null,
   "id": "65b47ce7-e475-4421-bb04-31b86825948c",
   "metadata": {},
   "outputs": [],
   "source": []
  },
  {
   "cell_type": "code",
   "execution_count": null,
   "id": "4ccc07c6-8c99-4796-be0e-7ce560cef01e",
   "metadata": {},
   "outputs": [],
   "source": []
  },
  {
   "cell_type": "code",
   "execution_count": null,
   "id": "d07779ad-7466-4395-b9d1-f98b8f8ff513",
   "metadata": {},
   "outputs": [],
   "source": []
  },
  {
   "cell_type": "code",
   "execution_count": null,
   "id": "4d4e36f0-8cb4-4039-953c-16cabbea1dd8",
   "metadata": {},
   "outputs": [],
   "source": []
  },
  {
   "cell_type": "code",
   "execution_count": null,
   "id": "3de8eef3-5710-4358-8110-500f0793e0f1",
   "metadata": {},
   "outputs": [],
   "source": []
  },
  {
   "cell_type": "code",
   "execution_count": null,
   "id": "7a3baa40-df8e-41a3-81e4-fd26989b649b",
   "metadata": {},
   "outputs": [],
   "source": []
  },
  {
   "cell_type": "code",
   "execution_count": null,
   "id": "38704f7c-3427-4f68-8c0d-ba7d7ddb5660",
   "metadata": {},
   "outputs": [],
   "source": []
  },
  {
   "cell_type": "code",
   "execution_count": null,
   "id": "a6d450a7-32f9-449d-a9fc-fb32d04cae90",
   "metadata": {},
   "outputs": [],
   "source": []
  },
  {
   "cell_type": "code",
   "execution_count": null,
   "id": "de7435ab-a968-4a59-ae81-cf3a68db1872",
   "metadata": {},
   "outputs": [],
   "source": []
  },
  {
   "cell_type": "code",
   "execution_count": null,
   "id": "20b898a6-9acf-4aac-8f4f-4c414dc09991",
   "metadata": {},
   "outputs": [],
   "source": []
  },
  {
   "cell_type": "code",
   "execution_count": null,
   "id": "611f4b70-9f6e-4624-8761-98f113c4a9bc",
   "metadata": {},
   "outputs": [],
   "source": []
  },
  {
   "cell_type": "code",
   "execution_count": null,
   "id": "b7bb5005-0074-468d-bed7-75eb5f3e8e3f",
   "metadata": {},
   "outputs": [],
   "source": []
  },
  {
   "cell_type": "code",
   "execution_count": null,
   "id": "7d375866-d2f9-49f4-954a-e93b01203228",
   "metadata": {},
   "outputs": [],
   "source": []
  },
  {
   "cell_type": "code",
   "execution_count": null,
   "id": "f5ec3d86-6e28-42c8-a372-b5b290d61ab2",
   "metadata": {},
   "outputs": [],
   "source": []
  },
  {
   "cell_type": "code",
   "execution_count": null,
   "id": "4b08be8b-3cf4-4299-9ac8-c32152920c93",
   "metadata": {},
   "outputs": [],
   "source": []
  },
  {
   "cell_type": "code",
   "execution_count": null,
   "id": "58032d8b-900a-4e39-8a01-0c75675552cb",
   "metadata": {},
   "outputs": [],
   "source": []
  },
  {
   "cell_type": "code",
   "execution_count": null,
   "id": "11277f30-3291-4091-b9b3-95ddc2c48a2a",
   "metadata": {},
   "outputs": [],
   "source": []
  },
  {
   "cell_type": "code",
   "execution_count": null,
   "id": "67615333-cde3-45ab-aacb-e627f359558c",
   "metadata": {},
   "outputs": [],
   "source": []
  },
  {
   "cell_type": "code",
   "execution_count": null,
   "id": "efd202af-1f3e-4b9d-b5cc-20e682d0f1ca",
   "metadata": {},
   "outputs": [],
   "source": []
  }
 ],
 "metadata": {
  "kernelspec": {
   "display_name": "Python 3 (ipykernel)",
   "language": "python",
   "name": "python3"
  },
  "language_info": {
   "codemirror_mode": {
    "name": "ipython",
    "version": 3
   },
   "file_extension": ".py",
   "mimetype": "text/x-python",
   "name": "python",
   "nbconvert_exporter": "python",
   "pygments_lexer": "ipython3",
   "version": "3.11.7"
  }
 },
 "nbformat": 4,
 "nbformat_minor": 5
}
