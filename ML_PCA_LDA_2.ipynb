{
 "cells": [
  {
   "cell_type": "code",
   "execution_count": 1,
   "id": "dfcfb0e6-b134-49a8-a632-48035a616412",
   "metadata": {},
   "outputs": [],
   "source": [
    "import pandas as pd\n",
    "import numpy as np\n",
    "import matplotlib.pyplot as plt\n",
    "import os\n",
    "from sklearn.decomposition import PCA"
   ]
  },
  {
   "cell_type": "code",
   "execution_count": null,
   "id": "62e5e056-3b0a-4198-892d-2d188b6ea7d2",
   "metadata": {},
   "outputs": [],
   "source": [
    "os.chdir('F:\\TopMentor_DataScience\\Batch 103 Day 38')\n",
    "df_wine=pd.read_csv('Wine.csv')\n",
    "df_wine.info()"
   ]
  },
  {
   "cell_type": "code",
   "execution_count": null,
   "id": "2f393c62-0d76-417c-b34a-bc671f2ec1f1",
   "metadata": {},
   "outputs": [],
   "source": [
    "pca=PCA()\n",
    "pca"
   ]
  },
  {
   "cell_type": "code",
   "execution_count": null,
   "id": "0308f033-50f4-422a-b77c-b400a9a629f4",
   "metadata": {},
   "outputs": [],
   "source": [
    "x=df_wine.iloc[:,0:13]\n",
    "x\n",
    "y=df_wine.iloc[:,13]\n",
    "print(y)"
   ]
  },
  {
   "cell_type": "code",
   "execution_count": null,
   "id": "e188761f-b082-4cba-9cc1-83709a909c55",
   "metadata": {},
   "outputs": [],
   "source": [
    "from sklearn.preprocessing import StandardScaler\n",
    "sc=StandardScaler()\n",
    "x_wine=sc.fit_transform(x)\n",
    "pd.DataFrame(x_wine)"
   ]
  },
  {
   "cell_type": "code",
   "execution_count": null,
   "id": "0ca00531-4a2e-42fb-bdbb-73fb511610d7",
   "metadata": {},
   "outputs": [],
   "source": []
  },
  {
   "cell_type": "code",
   "execution_count": null,
   "id": "b434e409-3617-46a0-b3bc-16a1565b58b7",
   "metadata": {},
   "outputs": [],
   "source": []
  },
  {
   "cell_type": "code",
   "execution_count": null,
   "id": "b42c7411-39d2-483d-8c11-0c507ba766a7",
   "metadata": {},
   "outputs": [],
   "source": [
    "x_pca=pd.DataFrame(pca.fit_transform(x_wine))\n",
    "#x_pca=pd.DataFrame(x)\n",
    "pd.DataFrame(pca.explained_variance_ratio_)\n",
    "x_pca"
   ]
  },
  {
   "cell_type": "code",
   "execution_count": null,
   "id": "138a25d2-2293-4c95-b795-f86d0bb98f8c",
   "metadata": {},
   "outputs": [],
   "source": [
    "pca=PCA(n_components=2)\n",
    "pca_x=pca.fit_transform(x_wine)\n",
    "pca_x"
   ]
  },
  {
   "cell_type": "code",
   "execution_count": null,
   "id": "1fac0ba7-6833-446b-9ee9-02792080d0cf",
   "metadata": {},
   "outputs": [],
   "source": [
    "from sklearn.model_selection import train_test_split\n",
    "pca_x_train, pca_x_test, y_train, y_test=train_test_split(pca_x,y,test_size=0.2)\n",
    "print(pca_x_train.shape, pca_x_test.shape, y_train.shape, y_test.shape)"
   ]
  },
  {
   "cell_type": "code",
   "execution_count": null,
   "id": "dd5f5b66-99af-457a-a252-e7eb3291bd38",
   "metadata": {},
   "outputs": [],
   "source": [
    "from sklearn.linear_model import LogisticRegression\n",
    "LR=LogisticRegression()\n",
    "LR.fit(pca_x_train,y_train)\n",
    "y_pred=LR.predict(pca_x_test)\n",
    "print(y_pred)"
   ]
  },
  {
   "cell_type": "code",
   "execution_count": null,
   "id": "25a6e345-52d7-4e21-a364-e4adb3a61d03",
   "metadata": {},
   "outputs": [],
   "source": [
    "from sklearn.metrics import accuracy_score,confusion_matrix,classification_report\n",
    "accuracy_score(y_test, y_pred)"
   ]
  },
  {
   "cell_type": "code",
   "execution_count": null,
   "id": "8b9903d5-45f2-4781-b2e7-9454cf5ba46d",
   "metadata": {},
   "outputs": [],
   "source": [
    "#######################\n",
    "###########\n",
    "#######################\n",
    "###########\n",
    "#######################\n",
    "###########\n",
    "#######################\n",
    "###########\n",
    "#######################\n",
    "###########"
   ]
  },
  {
   "cell_type": "code",
   "execution_count": null,
   "id": "f152301d-df0d-454f-9f6f-5318da729327",
   "metadata": {},
   "outputs": [],
   "source": []
  },
  {
   "cell_type": "code",
   "execution_count": null,
   "id": "4d1526b0-9099-4221-a1cc-ee7e1b21251d",
   "metadata": {},
   "outputs": [],
   "source": [
    "from sklearn.preprocessing import StandardScaler\n",
    "sc=StandardScaler()\n",
    "x_wine=sc.fit_transform(x)\n",
    "pd.DataFrame(x_wine)"
   ]
  },
  {
   "cell_type": "code",
   "execution_count": null,
   "id": "e8ea858f-11f0-4a5c-b026-054bcc1d10e9",
   "metadata": {},
   "outputs": [],
   "source": [
    "y"
   ]
  },
  {
   "cell_type": "code",
   "execution_count": null,
   "id": "3fdc370d-eeb8-4559-8153-8f4c2b099600",
   "metadata": {},
   "outputs": [],
   "source": [
    "from sklearn.discriminant_analysis import LinearDiscriminantAnalysis as LDA\n",
    "lda=LDA()\n",
    "lda\n"
   ]
  },
  {
   "cell_type": "code",
   "execution_count": null,
   "id": "7cfc3acb-98d8-4c36-9d83-ed76b1545f5d",
   "metadata": {},
   "outputs": [],
   "source": [
    "lda_x=lda.fit_transform(x_wine,y)\n",
    "lda_x"
   ]
  },
  {
   "cell_type": "code",
   "execution_count": null,
   "id": "f7435c98-c8df-40fa-a915-25190e54378f",
   "metadata": {},
   "outputs": [],
   "source": [
    "x_train, x_test, y_train,y_test=train_test_split(lda_x,y)\n"
   ]
  },
  {
   "cell_type": "code",
   "execution_count": null,
   "id": "8efd5837-c9c2-44f3-be1d-94724dcaddf5",
   "metadata": {},
   "outputs": [],
   "source": [
    "from sklearn.tree import DecisionTreeClassifier\n",
    "dt=DecisionTreeClassifier(criterion='entropy')\n",
    "dt.fit(x_train, y_train)\n",
    "y_pred_dt=dt.predict(x_test)\n",
    "accuracy_score(y_test,y_pred_dt)"
   ]
  },
  {
   "cell_type": "code",
   "execution_count": null,
   "id": "2fc66d6b-568e-4e74-b927-809d5504c8fa",
   "metadata": {},
   "outputs": [],
   "source": []
  },
  {
   "cell_type": "code",
   "execution_count": null,
   "id": "e2721b44-ced7-44dc-bca0-decb4c2ee970",
   "metadata": {},
   "outputs": [],
   "source": []
  },
  {
   "cell_type": "code",
   "execution_count": null,
   "id": "e1e0e561-2104-499f-aa29-eb710e874593",
   "metadata": {},
   "outputs": [],
   "source": []
  },
  {
   "cell_type": "code",
   "execution_count": null,
   "id": "bc88a30b-7e6e-447a-89f4-99b7e90f0a59",
   "metadata": {},
   "outputs": [],
   "source": []
  },
  {
   "cell_type": "code",
   "execution_count": null,
   "id": "f20125aa-1904-4c17-866a-874e5bcbbab6",
   "metadata": {},
   "outputs": [],
   "source": []
  },
  {
   "cell_type": "code",
   "execution_count": null,
   "id": "21188f15-0308-4e2c-aadf-ea6962a5c000",
   "metadata": {},
   "outputs": [],
   "source": []
  },
  {
   "cell_type": "code",
   "execution_count": null,
   "id": "f715b2c0-598a-4353-b6ae-27e2aa2e40fa",
   "metadata": {},
   "outputs": [],
   "source": []
  },
  {
   "cell_type": "code",
   "execution_count": null,
   "id": "0b2ad2b5-6501-42bd-9028-24feba87128a",
   "metadata": {},
   "outputs": [],
   "source": []
  },
  {
   "cell_type": "code",
   "execution_count": null,
   "id": "e0b8626b-1a4e-4298-900e-ca9b5e6f488f",
   "metadata": {},
   "outputs": [],
   "source": []
  },
  {
   "cell_type": "code",
   "execution_count": null,
   "id": "c08a476b-81f7-4344-9061-eaaca29a2ed0",
   "metadata": {},
   "outputs": [],
   "source": []
  },
  {
   "cell_type": "code",
   "execution_count": null,
   "id": "10fa8dbe-f9d6-43f9-b2cb-f8d4d6b6dc06",
   "metadata": {},
   "outputs": [],
   "source": []
  },
  {
   "cell_type": "code",
   "execution_count": null,
   "id": "2a0dd586-1063-46e1-86cf-2ccb018a4847",
   "metadata": {},
   "outputs": [],
   "source": []
  },
  {
   "cell_type": "code",
   "execution_count": null,
   "id": "616f9a18-029a-4d4a-b6a4-54308e351513",
   "metadata": {},
   "outputs": [],
   "source": []
  },
  {
   "cell_type": "code",
   "execution_count": null,
   "id": "457e202c-8a8c-4450-93c9-b3474cbe2148",
   "metadata": {},
   "outputs": [],
   "source": []
  },
  {
   "cell_type": "code",
   "execution_count": null,
   "id": "145b2908-44f5-439e-b3fa-0c1aea6f15c3",
   "metadata": {},
   "outputs": [],
   "source": []
  },
  {
   "cell_type": "code",
   "execution_count": null,
   "id": "d021137c-f0d5-48e1-9662-1568d65354ad",
   "metadata": {},
   "outputs": [],
   "source": []
  },
  {
   "cell_type": "code",
   "execution_count": null,
   "id": "1154710e-35fd-45df-b52c-1c00c887ca99",
   "metadata": {},
   "outputs": [],
   "source": []
  },
  {
   "cell_type": "code",
   "execution_count": null,
   "id": "c3d52546-ed64-48a0-808f-65b455749ea2",
   "metadata": {},
   "outputs": [],
   "source": []
  },
  {
   "cell_type": "code",
   "execution_count": null,
   "id": "6cc98f0e-e226-44d8-b6d3-d5dd9968585e",
   "metadata": {},
   "outputs": [],
   "source": []
  },
  {
   "cell_type": "code",
   "execution_count": null,
   "id": "ef3cadd3-8f75-4654-ab8e-f3564ccb4e84",
   "metadata": {},
   "outputs": [],
   "source": []
  },
  {
   "cell_type": "code",
   "execution_count": null,
   "id": "a3b6f436-bdcf-4204-bdc1-9db3315b3656",
   "metadata": {},
   "outputs": [],
   "source": []
  },
  {
   "cell_type": "code",
   "execution_count": null,
   "id": "17774067-6863-42f1-ad91-561bca694db1",
   "metadata": {},
   "outputs": [],
   "source": []
  },
  {
   "cell_type": "code",
   "execution_count": null,
   "id": "e19a9b73-6f1f-407a-8969-60b7b12b7dd3",
   "metadata": {},
   "outputs": [],
   "source": []
  },
  {
   "cell_type": "code",
   "execution_count": null,
   "id": "9361d7bc-2a22-4a60-b22d-5eb21f615260",
   "metadata": {},
   "outputs": [],
   "source": []
  },
  {
   "cell_type": "code",
   "execution_count": null,
   "id": "087f149d-4371-4213-a05a-88f40a94a2ec",
   "metadata": {},
   "outputs": [],
   "source": []
  },
  {
   "cell_type": "code",
   "execution_count": null,
   "id": "55ea736b-6fc2-44c8-bcb2-b124185e0b03",
   "metadata": {},
   "outputs": [],
   "source": []
  },
  {
   "cell_type": "code",
   "execution_count": null,
   "id": "0252cf26-07a0-45ef-85a0-f1d1d8cda09e",
   "metadata": {},
   "outputs": [],
   "source": []
  },
  {
   "cell_type": "code",
   "execution_count": null,
   "id": "ed704ce5-8f41-4aad-a671-b6471bd8af89",
   "metadata": {},
   "outputs": [],
   "source": []
  },
  {
   "cell_type": "code",
   "execution_count": null,
   "id": "a300329f-2e77-4c36-b823-0d2b02b68691",
   "metadata": {},
   "outputs": [],
   "source": []
  },
  {
   "cell_type": "code",
   "execution_count": null,
   "id": "731dee25-150e-48da-8042-bfd7df8033ee",
   "metadata": {},
   "outputs": [],
   "source": []
  }
 ],
 "metadata": {
  "kernelspec": {
   "display_name": "Python 3 (ipykernel)",
   "language": "python",
   "name": "python3"
  },
  "language_info": {
   "codemirror_mode": {
    "name": "ipython",
    "version": 3
   },
   "file_extension": ".py",
   "mimetype": "text/x-python",
   "name": "python",
   "nbconvert_exporter": "python",
   "pygments_lexer": "ipython3",
   "version": "3.11.7"
  }
 },
 "nbformat": 4,
 "nbformat_minor": 5
}
