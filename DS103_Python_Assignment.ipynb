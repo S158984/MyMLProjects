{
 "cells": [
  {
   "cell_type": "code",
   "execution_count": 5,
   "id": "0243a954-65e6-4a63-ae1d-1877917a2a2e",
   "metadata": {},
   "outputs": [
    {
     "data": {
      "text/plain": [
       "5"
      ]
     },
     "execution_count": 5,
     "metadata": {},
     "output_type": "execute_result"
    }
   ],
   "source": [
    "2+3"
   ]
  },
  {
   "cell_type": "code",
   "execution_count": 7,
   "id": "407b3029-91c3-419e-aa15-24ece4e137f3",
   "metadata": {
    "scrolled": true
   },
   "outputs": [
    {
     "data": {
      "text/plain": [
       "5"
      ]
     },
     "execution_count": 7,
     "metadata": {},
     "output_type": "execute_result"
    }
   ],
   "source": [
    "2+3"
   ]
  },
  {
   "cell_type": "code",
   "execution_count": 8,
   "id": "0283915b-c837-4e92-9462-e9c33512d895",
   "metadata": {},
   "outputs": [
    {
     "ename": "NameError",
     "evalue": "name 'python' is not defined",
     "output_type": "error",
     "traceback": [
      "\u001b[1;31m---------------------------------------------------------------------------\u001b[0m",
      "\u001b[1;31mNameError\u001b[0m                                 Traceback (most recent call last)",
      "Cell \u001b[1;32mIn[8], line 1\u001b[0m\n\u001b[1;32m----> 1\u001b[0m python \u001b[38;5;241m-\u001b[39m\u001b[38;5;241m-\u001b[39mversion\n",
      "\u001b[1;31mNameError\u001b[0m: name 'python' is not defined"
     ]
    }
   ],
   "source": [
    "python --version"
   ]
  },
  {
   "cell_type": "code",
   "execution_count": 16,
   "id": "00ec5663-3379-4771-b8f7-1488cc81f195",
   "metadata": {},
   "outputs": [
    {
     "name": "stdout",
     "output_type": "stream",
     "text": [
      "3.11.7 | packaged by Anaconda, Inc. | (main, Dec 15 2023, 18:05:47) [MSC v.1916 64 bit (AMD64)]\n",
      "win32\n",
      "sys.version_info(major=3, minor=11, micro=7, releaselevel='final', serial=0)\n"
     ]
    }
   ],
   "source": [
    "import sys\n",
    "print(sys.version)\n",
    "print(sys.platform)\n",
    "print(sys.version_info)"
   ]
  },
  {
   "cell_type": "code",
   "execution_count": 18,
   "id": "03ac78f5-df35-463b-94aa-432701edabf6",
   "metadata": {},
   "outputs": [
    {
     "ename": "NameError",
     "evalue": "name 'module' is not defined",
     "output_type": "error",
     "traceback": [
      "\u001b[1;31m---------------------------------------------------------------------------\u001b[0m",
      "\u001b[1;31mNameError\u001b[0m                                 Traceback (most recent call last)",
      "Cell \u001b[1;32mIn[18], line 1\u001b[0m\n\u001b[1;32m----> 1\u001b[0m help(module)\n",
      "\u001b[1;31mNameError\u001b[0m: name 'module' is not defined"
     ]
    }
   ],
   "source": [
    "help(module)"
   ]
  },
  {
   "cell_type": "code",
   "execution_count": 1,
   "id": "869c7d92-e724-4d25-a6ba-ce47fc682033",
   "metadata": {},
   "outputs": [
    {
     "name": "stdout",
     "output_type": "stream",
     "text": [
      "\n",
      "Please wait a moment while I gather a list of all available modules...\n",
      "\n"
     ]
    },
    {
     "name": "stderr",
     "output_type": "stream",
     "text": [
      "C:\\Users\\SUDHARSHAN\\anaconda3\\Lib\\site-packages\\paramiko\\transport.py:219: CryptographyDeprecationWarning: Blowfish has been deprecated and will be removed in a future release\n",
      "  \"class\": algorithms.Blowfish,\n",
      "C:\\Users\\SUDHARSHAN\\anaconda3\\Lib\\site-packages\\nltk\\twitter\\__init__.py:20: UserWarning: The twython library has not been installed. Some functionality from the twitter package will not be available.\n",
      "  warnings.warn(\n",
      "C:\\Users\\SUDHARSHAN\\anaconda3\\Lib\\pkgutil.py:92: UserWarning: The numpy.array_api submodule is still experimental. See NEP 47.\n",
      "  __import__(info.name)\n",
      "C:\\Users\\SUDHARSHAN\\anaconda3\\Lib\\site-packages\\_distutils_hack\\__init__.py:33: UserWarning: Setuptools is replacing distutils.\n",
      "  warnings.warn(\"Setuptools is replacing distutils.\")\n",
      "No QCoreApplication instance found. Application patches not applied. You have to call load_stylesheet function after instantiation of QApplication to take effect. \n"
     ]
    },
    {
     "name": "stdout",
     "output_type": "stream",
     "text": [
      "6c7190bc8b55ffe67f57__mypyc compileall          mdurl               smtplib\n",
      "IPython             concurrent          menuinst            snappy\n",
      "OpenSSL             conda               mimetypes           sndhdr\n",
      "PIL                 conda_build         mistune             sniffio\n",
      "PyQt5               conda_content_trust mkl                 snowballstemmer\n",
      "__future__          conda_env           mkl_fft             socket\n",
      "__hello__           conda_index         mmap                socketserver\n",
      "__phello__          conda_libmamba_solver mmapfile            socks\n",
      "_abc                conda_pack          mmsystem            sockshandler\n",
      "_aix_support        conda_package_handling modulefinder        sortedcontainers\n",
      "_argon2_cffi_bindings conda_package_streaming more_itertools      soupsieve\n",
      "_ast                conda_token         mpmath              sphinx\n",
      "_asyncio            conda_verify        msgpack             spyder\n",
      "_bisect             configparser        msilib              spyder_kernels\n",
      "_black_version      constantly          msvcrt              sqlalchemy\n",
      "_blake2             contextlib          multidict           sqlite3\n",
      "_bootsubprocess     contextvars         multipledispatch    sre_compile\n",
      "_brotli             contourpy           multiprocessing     sre_constants\n",
      "_bz2                cookiecutter        munkres             sre_parse\n",
      "_cffi_backend       copy                mypy                ssl\n",
      "_codecs             copyreg             mypy_extensions     sspi\n",
      "_codecs_cn          cpuinfo             mypyc               sspicon\n",
      "_codecs_hk          crypt               nacl                stack_data\n",
      "_codecs_iso2022     cryptography        navigator_updater   stat\n",
      "_codecs_jp          cssselect           nbclient            statistics\n",
      "_codecs_kr          csv                 nbconvert           statsmodels\n",
      "_codecs_tw          ctypes              nbformat            streamlit\n",
      "_collections        curl                nest_asyncio        string\n",
      "_collections_abc    curses              netbios             stringprep\n",
      "_compat_pickle      cwp                 netrc               struct\n",
      "_compression        cycler              networkx            subprocess\n",
      "_contextvars        cytoolz             nltk                sunau\n",
      "_csv                dask                nntplib             sympy\n",
      "_ctypes             dataclasses         notebook            symtable\n",
      "_ctypes_test        datashader          notebook_shim       sys\n",
      "_datetime           datetime            nt                  sysconfig\n",
      "_decimal            dateutil            ntpath              tables\n",
      "_distutils_hack     dbi                 ntsecuritycon       tabnanny\n",
      "_elementtree        dbm                 nturl2path          tabulate\n",
      "_functools          dde                 numba               tarfile\n",
      "_hashlib            debugpy             numbergen           tblib\n",
      "_heapq              decimal             numbers             telnetlib\n",
      "_imp                decorator           numexpr             tempfile\n",
      "_io                 defusedxml          numpy               tenacity\n",
      "_json               diff_match_patch    numpydoc            terminado\n",
      "_locale             difflib             odbc                test\n",
      "_lsprof             dill                opcode              test_pycosat\n",
      "_lzma               dis                 openpyxl            text_unidecode\n",
      "_markupbase         distributed         operator            textdistance\n",
      "_md5                distro              optparse            textwrap\n",
      "_msi                distutils           os                  this\n",
      "_multibytecodec     docstring_to_markdown overrides           threading\n",
      "_multiprocessing    doctest             packaging           threadpoolctl\n",
      "_nsis               docutils            pandas              three_merge\n",
      "_opcode             dotenv              pandocfilters       tifffile\n",
      "_operator           email               panel               time\n",
      "_osx_support        encodings           param               timeit\n",
      "_overlapped         ensurepip           paramiko            timer\n",
      "_pickle             entrypoints         parsel              tinycss2\n",
      "_plotly_future_     enum                parso               tkinter\n",
      "_plotly_utils       erfa                partd               tldextract\n",
      "_py_abc             errno               past                tlz\n",
      "_pydecimal          et_xmlfile          pathlib             token\n",
      "_pyio               executing           pathspec            tokenize\n",
      "_pytest             fastjsonschema      patsy               toml\n",
      "_queue              faulthandler        pdb                 tomlkit\n",
      "_random             filecmp             perfmon             tomllib\n",
      "_sha1               fileinput           pexpect             toolz\n",
      "_sha256             filelock            pickle              tornado\n",
      "_sha3               flake8              pickleshare         tqdm\n",
      "_sha512             flask               pickletools         trace\n",
      "_signal             fnmatch             pip                 traceback\n",
      "_sitebuiltins       fontTools           pipes               tracemalloc\n",
      "_socket             fractions           pkce                traitlets\n",
      "_sqlite3            frozenlist          pkg_resources       truststore\n",
      "_sre                fsspec              pkginfo             tty\n",
      "_ssl                ftplib              pkgutil             turtle\n",
      "_stat               functools           platform            turtledemo\n",
      "_statistics         future              platformdirs        twisted\n",
      "_string             gc                  plistlib            types\n",
      "_strptime           genericpath         plotly              typing\n",
      "_struct             gensim              pluggy              typing_extensions\n",
      "_symtable           getopt              ply                 tzdata\n",
      "_system_path        getpass             poplib              tzlocal\n",
      "_testbuffer         gettext             posixpath           uc_micro\n",
      "_testcapi           git                 pprint              ujson\n",
      "_testconsole        gitdb               profile             unicodedata\n",
      "_testimportmultiple glob                prometheus_client   unidecode\n",
      "_testinternalcapi   gmpy2               prompt_toolkit      unittest\n",
      "_testmultiphase     graphlib            protego             urllib\n",
      "_thread             greenlet            pstats              urllib3\n",
      "_threading_local    gzip                psutil              uu\n",
      "_tkinter            h5py                pty                 uuid\n",
      "_tokenize           hashlib             ptyprocess          validators\n",
      "_tracemalloc        heapdict            pure_eval           venv\n",
      "_typing             heapq               py                  w3lib\n",
      "_uuid               hmac                py_compile          warnings\n",
      "_warnings           holoviews           pyarrow             watchdog\n",
      "_weakref            html                pyasn1              wave\n",
      "_weakrefset         http                pyasn1_modules      wcwidth\n",
      "_win32sysloader     hvplot              pyclbr              weakref\n",
      "_winapi             hyperlink           pycodestyle         webbrowser\n",
      "_winxptheme         idlelib             pycosat             webencodings\n",
      "_xxsubinterpreters  idna                pycparser           websocket\n",
      "_yaml               imagecodecs         pyct                werkzeug\n",
      "_zoneinfo           imageio             pycurl              whatthepatch\n",
      "abc                 imagesize           pydantic            wheel\n",
      "adodbapi            imaplib             pydeck              widgetsnbextension\n",
      "afxres              imblearn            pydispatch          win2kras\n",
      "aifc                imghdr              pydoc               win32api\n",
      "aiobotocore         imp                 pydoc_data          win32clipboard\n",
      "aiohttp             importlib           pydocstyle          win32com\n",
      "aioitertools        importlib_metadata  pyexpat             win32con\n",
      "aiosignal           incremental         pyflakes            win32console\n",
      "alabaster           inflection          pygments            win32cred\n",
      "altair              iniconfig           pylab               win32crypt\n",
      "anaconda_anon_usage inspect             pylint              win32cryptcon\n",
      "anaconda_catalogs   intake              pylint_venv         win32ctypes\n",
      "anaconda_cloud_auth intervaltree        pyls_spyder         win32event\n",
      "anaconda_navigator  io                  pylsp               win32evtlog\n",
      "anaconda_project    ipaddress           pylsp_black         win32evtlogutil\n",
      "antigravity         ipykernel           pylsp_jsonrpc       win32file\n",
      "anyio               ipykernel_launcher  pyodbc              win32gui\n",
      "appdirs             ipython_genutils    pyparsing           win32gui_struct\n",
      "archspec            ipywidgets          pytest              win32help\n",
      "argon2              isapi               pythoncom           win32inet\n",
      "argparse            isort               pythonjsonlogger    win32inetcon\n",
      "array               isympy              pytoolconfig        win32job\n",
      "arrow               itemadapter         pytz                win32lz\n",
      "ast                 itemloaders         pyviz_comms         win32net\n",
      "astroid             itertools           pywin               win32netcon\n",
      "astropy             itsdangerous        pywin32_bootstrap   win32pdh\n",
      "asttokens           jedi                pywin32_testutil    win32pdhquery\n",
      "async_lru           jellyfish           pywintypes          win32pdhutil\n",
      "asynchat            jinja2              pywt                win32pipe\n",
      "asyncio             jmespath            qdarkstyle          win32print\n",
      "asyncore            joblib              qstylizer           win32process\n",
      "atexit              json                qtawesome           win32profile\n",
      "atomicwrites        json5               qtconsole           win32ras\n",
      "attr                jsonpatch           qtpy                win32rcparser\n",
      "attrs               jsonpointer         queue               win32security\n",
      "audioop             jsonschema          queuelib            win32service\n",
      "automat             jsonschema_specifications quopri              win32serviceutil\n",
      "autopep8            jupyter             random              win32timezone\n",
      "babel               jupyter_client      rasutil             win32trace\n",
      "backports           jupyter_console     re                  win32traceutil\n",
      "base64              jupyter_core        referencing         win32transaction\n",
      "bcrypt              jupyter_events      regcheck            win32ts\n",
      "bdb                 jupyter_lsp         regex               win32ui\n",
      "binaryornot         jupyter_server      regutil             win32uiole\n",
      "binascii            jupyter_server_terminals repo_cli            win32verstamp\n",
      "binstar_client      jupyterlab          reprlib             win32wnet\n",
      "bisect              jupyterlab_plotly   requests            win_inet_pton\n",
      "black               jupyterlab_pygments requests_file       winerror\n",
      "blackd              jupyterlab_server   requests_toolbelt   winioctlcon\n",
      "bleach              jupyterlab_widgets  rfc3339_validator   winnt\n",
      "blib2to3            jwt                 rfc3986_validator   winperf\n",
      "blinker             keyring             rich                winpty\n",
      "bokeh               keyword             rlcompleter         winreg\n",
      "boltons             kiwisolver          rope                winsound\n",
      "botocore            lazy_loader         rpds                winxpgui\n",
      "bottleneck          lazy_object_proxy   rtree               winxptheme\n",
      "brotli              lckr_jupyterlab_variableinspector ruamel_yaml         wrapt\n",
      "bs4                 lib2to3             runpy               wsgiref\n",
      "builtins            libarchive          s3fs                xarray\n",
      "bz2                 libfuturize         sched               xdrlib\n",
      "cProfile            libmambapy          scipy               xlwings\n",
      "cachetools          libpasteurize       scrapy              xml\n",
      "calendar            lief                seaborn             xmlrpc\n",
      "certifi             linecache           secrets             xxlimited\n",
      "cffi                linkify_it          select              xxlimited_35\n",
      "cgi                 llvmlite            selectors           xxsubtype\n",
      "cgitb               lmdb                semver              xyzservices\n",
      "chardet             locale              send2trash          yaml\n",
      "charset_normalizer  locket              service_identity    yapf\n",
      "chunk               logging             servicemanager      yapftests\n",
      "click               lxml                setuptools          yarl\n",
      "cloudpickle         lz4                 shelve              zict\n",
      "clyent              lzma                shlex               zipapp\n",
      "cmath               mailbox             shutil              zipfile\n",
      "cmd                 mailcap             signal              zipimport\n",
      "code                markdown            sipbuild            zipp\n",
      "codecs              markdown_it         site                zlib\n",
      "codeop              markupsafe          six                 zmq\n",
      "collections         marshal             skimage             zoneinfo\n",
      "colorama            math                sklearn             zope\n",
      "colorcet            matplotlib          slugify             zstandard\n",
      "colorsys            matplotlib_inline   smart_open          \n",
      "comm                mccabe              smmap               \n",
      "commctrl            mdit_py_plugins     smtpd               \n",
      "\n",
      "Enter any module name to get more help.  Or, type \"modules spam\" to search\n",
      "for modules whose name or summary contain the string \"spam\".\n",
      "\n"
     ]
    }
   ],
   "source": [
    "help('modules')"
   ]
  },
  {
   "cell_type": "code",
   "execution_count": null,
   "id": "d287c484-9c52-49ee-86f7-f5607aefcfd4",
   "metadata": {},
   "outputs": [],
   "source": []
  },
  {
   "cell_type": "code",
   "execution_count": null,
   "id": "c4d48e98-ca6d-4832-9634-61bd21fd9dc4",
   "metadata": {},
   "outputs": [],
   "source": []
  },
  {
   "cell_type": "code",
   "execution_count": null,
   "id": "3d6bef90-469c-4590-87b9-e227c2925da5",
   "metadata": {},
   "outputs": [],
   "source": []
  },
  {
   "cell_type": "code",
   "execution_count": null,
   "id": "e9254ecb-0424-46e5-af38-273270ef1f59",
   "metadata": {},
   "outputs": [],
   "source": []
  }
 ],
 "metadata": {
  "kernelspec": {
   "display_name": "Python 3 (ipykernel)",
   "language": "python",
   "name": "python3"
  },
  "language_info": {
   "codemirror_mode": {
    "name": "ipython",
    "version": 3
   },
   "file_extension": ".py",
   "mimetype": "text/x-python",
   "name": "python",
   "nbconvert_exporter": "python",
   "pygments_lexer": "ipython3",
   "version": "3.11.7"
  }
 },
 "nbformat": 4,
 "nbformat_minor": 5
}
