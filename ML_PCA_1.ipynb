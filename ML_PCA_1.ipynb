{
 "cells": [
  {
   "cell_type": "code",
   "execution_count": 13,
   "id": "bd75e97a-fef8-4173-ac60-0ca7a704f8bc",
   "metadata": {},
   "outputs": [],
   "source": [
    "import pandas as pd\n",
    "import numpy as np\n",
    "import matplotlib.pyplot as plt\n",
    "import os\n"
   ]
  },
  {
   "cell_type": "code",
   "execution_count": 14,
   "id": "eb556dbf-1baa-41af-9637-c7e88faa5425",
   "metadata": {},
   "outputs": [
    {
     "name": "stdout",
     "output_type": "stream",
     "text": [
      "<class 'pandas.core.frame.DataFrame'>\n",
      "Index: 207 entries, Afghanistan to Zimbabwe\n",
      "Data columns (total 18 columns):\n",
      " #   Column  Non-Null Count  Dtype\n",
      "---  ------  --------------  -----\n",
      " 0   1990    207 non-null    int64\n",
      " 1   1991    207 non-null    int64\n",
      " 2   1992    207 non-null    int64\n",
      " 3   1993    207 non-null    int64\n",
      " 4   1994    207 non-null    int64\n",
      " 5   1995    207 non-null    int64\n",
      " 6   1996    207 non-null    int64\n",
      " 7   1997    207 non-null    int64\n",
      " 8   1998    207 non-null    int64\n",
      " 9   1999    207 non-null    int64\n",
      " 10  2000    207 non-null    int64\n",
      " 11  2001    207 non-null    int64\n",
      " 12  2002    207 non-null    int64\n",
      " 13  2003    207 non-null    int64\n",
      " 14  2004    207 non-null    int64\n",
      " 15  2005    207 non-null    int64\n",
      " 16  2006    207 non-null    int64\n",
      " 17  2007    207 non-null    int64\n",
      "dtypes: int64(18)\n",
      "memory usage: 30.7+ KB\n"
     ]
    }
   ],
   "source": [
    "os.chdir('F:\\TopMentor_DataScience\\Batch 103 Day 38')\n",
    "df=pd.read_csv('trans_us.csv',index_col=0,thousands=',')\n",
    "df.info()"
   ]
  },
  {
   "cell_type": "code",
   "execution_count": 15,
   "id": "00205b73-f74b-4fe8-b048-c99e83a2c2ee",
   "metadata": {},
   "outputs": [
    {
     "data": {
      "text/html": [
       "<div>\n",
       "<style scoped>\n",
       "    .dataframe tbody tr th:only-of-type {\n",
       "        vertical-align: middle;\n",
       "    }\n",
       "\n",
       "    .dataframe tbody tr th {\n",
       "        vertical-align: top;\n",
       "    }\n",
       "\n",
       "    .dataframe thead th {\n",
       "        text-align: right;\n",
       "    }\n",
       "</style>\n",
       "<table border=\"1\" class=\"dataframe\">\n",
       "  <thead>\n",
       "    <tr style=\"text-align: right;\">\n",
       "      <th>year</th>\n",
       "      <th>1990</th>\n",
       "      <th>1991</th>\n",
       "      <th>1992</th>\n",
       "      <th>1993</th>\n",
       "      <th>1994</th>\n",
       "      <th>1995</th>\n",
       "      <th>1996</th>\n",
       "      <th>1997</th>\n",
       "      <th>1998</th>\n",
       "      <th>1999</th>\n",
       "      <th>2000</th>\n",
       "      <th>2001</th>\n",
       "      <th>2002</th>\n",
       "      <th>2003</th>\n",
       "      <th>2004</th>\n",
       "      <th>2005</th>\n",
       "      <th>2006</th>\n",
       "      <th>2007</th>\n",
       "    </tr>\n",
       "    <tr>\n",
       "      <th>Country</th>\n",
       "      <th></th>\n",
       "      <th></th>\n",
       "      <th></th>\n",
       "      <th></th>\n",
       "      <th></th>\n",
       "      <th></th>\n",
       "      <th></th>\n",
       "      <th></th>\n",
       "      <th></th>\n",
       "      <th></th>\n",
       "      <th></th>\n",
       "      <th></th>\n",
       "      <th></th>\n",
       "      <th></th>\n",
       "      <th></th>\n",
       "      <th></th>\n",
       "      <th></th>\n",
       "      <th></th>\n",
       "    </tr>\n",
       "  </thead>\n",
       "  <tbody>\n",
       "    <tr>\n",
       "      <th>Afghanistan</th>\n",
       "      <td>436</td>\n",
       "      <td>429</td>\n",
       "      <td>422</td>\n",
       "      <td>415</td>\n",
       "      <td>407</td>\n",
       "      <td>397</td>\n",
       "      <td>397</td>\n",
       "      <td>387</td>\n",
       "      <td>374</td>\n",
       "      <td>373</td>\n",
       "      <td>346</td>\n",
       "      <td>326</td>\n",
       "      <td>304</td>\n",
       "      <td>308</td>\n",
       "      <td>283</td>\n",
       "      <td>267</td>\n",
       "      <td>251</td>\n",
       "      <td>238</td>\n",
       "    </tr>\n",
       "    <tr>\n",
       "      <th>Albania</th>\n",
       "      <td>42</td>\n",
       "      <td>40</td>\n",
       "      <td>41</td>\n",
       "      <td>42</td>\n",
       "      <td>42</td>\n",
       "      <td>43</td>\n",
       "      <td>42</td>\n",
       "      <td>44</td>\n",
       "      <td>43</td>\n",
       "      <td>42</td>\n",
       "      <td>40</td>\n",
       "      <td>34</td>\n",
       "      <td>32</td>\n",
       "      <td>32</td>\n",
       "      <td>29</td>\n",
       "      <td>29</td>\n",
       "      <td>26</td>\n",
       "      <td>22</td>\n",
       "    </tr>\n",
       "    <tr>\n",
       "      <th>Algeria</th>\n",
       "      <td>45</td>\n",
       "      <td>44</td>\n",
       "      <td>44</td>\n",
       "      <td>43</td>\n",
       "      <td>43</td>\n",
       "      <td>42</td>\n",
       "      <td>43</td>\n",
       "      <td>44</td>\n",
       "      <td>45</td>\n",
       "      <td>46</td>\n",
       "      <td>48</td>\n",
       "      <td>49</td>\n",
       "      <td>50</td>\n",
       "      <td>51</td>\n",
       "      <td>52</td>\n",
       "      <td>53</td>\n",
       "      <td>55</td>\n",
       "      <td>56</td>\n",
       "    </tr>\n",
       "    <tr>\n",
       "      <th>American Samoa</th>\n",
       "      <td>42</td>\n",
       "      <td>14</td>\n",
       "      <td>4</td>\n",
       "      <td>18</td>\n",
       "      <td>17</td>\n",
       "      <td>22</td>\n",
       "      <td>0</td>\n",
       "      <td>25</td>\n",
       "      <td>12</td>\n",
       "      <td>8</td>\n",
       "      <td>8</td>\n",
       "      <td>6</td>\n",
       "      <td>5</td>\n",
       "      <td>6</td>\n",
       "      <td>9</td>\n",
       "      <td>11</td>\n",
       "      <td>9</td>\n",
       "      <td>5</td>\n",
       "    </tr>\n",
       "    <tr>\n",
       "      <th>Andorra</th>\n",
       "      <td>39</td>\n",
       "      <td>37</td>\n",
       "      <td>35</td>\n",
       "      <td>33</td>\n",
       "      <td>32</td>\n",
       "      <td>30</td>\n",
       "      <td>28</td>\n",
       "      <td>23</td>\n",
       "      <td>24</td>\n",
       "      <td>22</td>\n",
       "      <td>20</td>\n",
       "      <td>20</td>\n",
       "      <td>21</td>\n",
       "      <td>18</td>\n",
       "      <td>19</td>\n",
       "      <td>18</td>\n",
       "      <td>17</td>\n",
       "      <td>19</td>\n",
       "    </tr>\n",
       "  </tbody>\n",
       "</table>\n",
       "</div>"
      ],
      "text/plain": [
       "year            1990  1991  1992  1993  1994  1995  1996  1997  1998  1999  \\\n",
       "Country                                                                      \n",
       "Afghanistan      436   429   422   415   407   397   397   387   374   373   \n",
       "Albania           42    40    41    42    42    43    42    44    43    42   \n",
       "Algeria           45    44    44    43    43    42    43    44    45    46   \n",
       "American Samoa    42    14     4    18    17    22     0    25    12     8   \n",
       "Andorra           39    37    35    33    32    30    28    23    24    22   \n",
       "\n",
       "year            2000  2001  2002  2003  2004  2005  2006  2007  \n",
       "Country                                                         \n",
       "Afghanistan      346   326   304   308   283   267   251   238  \n",
       "Albania           40    34    32    32    29    29    26    22  \n",
       "Algeria           48    49    50    51    52    53    55    56  \n",
       "American Samoa     8     6     5     6     9    11     9     5  \n",
       "Andorra           20    20    21    18    19    18    17    19  "
      ]
     },
     "execution_count": 15,
     "metadata": {},
     "output_type": "execute_result"
    }
   ],
   "source": [
    "df.isna().sum()\n",
    "df.index.names=['Country']\n",
    "df.columns.names=['year']\n",
    "df.head()"
   ]
  },
  {
   "cell_type": "code",
   "execution_count": 16,
   "id": "b35188f6-cae2-4b7f-92f2-9660a75e125f",
   "metadata": {},
   "outputs": [],
   "source": [
    "from sklearn.decomposition import PCA\n",
    "pca=PCA()\n",
    "#pca"
   ]
  },
  {
   "cell_type": "code",
   "execution_count": 17,
   "id": "56d21387-74ff-4a0b-a2e6-e9f479a466d9",
   "metadata": {},
   "outputs": [
    {
     "data": {
      "text/html": [
       "<style>#sk-container-id-2 {color: black;background-color: white;}#sk-container-id-2 pre{padding: 0;}#sk-container-id-2 div.sk-toggleable {background-color: white;}#sk-container-id-2 label.sk-toggleable__label {cursor: pointer;display: block;width: 100%;margin-bottom: 0;padding: 0.3em;box-sizing: border-box;text-align: center;}#sk-container-id-2 label.sk-toggleable__label-arrow:before {content: \"▸\";float: left;margin-right: 0.25em;color: #696969;}#sk-container-id-2 label.sk-toggleable__label-arrow:hover:before {color: black;}#sk-container-id-2 div.sk-estimator:hover label.sk-toggleable__label-arrow:before {color: black;}#sk-container-id-2 div.sk-toggleable__content {max-height: 0;max-width: 0;overflow: hidden;text-align: left;background-color: #f0f8ff;}#sk-container-id-2 div.sk-toggleable__content pre {margin: 0.2em;color: black;border-radius: 0.25em;background-color: #f0f8ff;}#sk-container-id-2 input.sk-toggleable__control:checked~div.sk-toggleable__content {max-height: 200px;max-width: 100%;overflow: auto;}#sk-container-id-2 input.sk-toggleable__control:checked~label.sk-toggleable__label-arrow:before {content: \"▾\";}#sk-container-id-2 div.sk-estimator input.sk-toggleable__control:checked~label.sk-toggleable__label {background-color: #d4ebff;}#sk-container-id-2 div.sk-label input.sk-toggleable__control:checked~label.sk-toggleable__label {background-color: #d4ebff;}#sk-container-id-2 input.sk-hidden--visually {border: 0;clip: rect(1px 1px 1px 1px);clip: rect(1px, 1px, 1px, 1px);height: 1px;margin: -1px;overflow: hidden;padding: 0;position: absolute;width: 1px;}#sk-container-id-2 div.sk-estimator {font-family: monospace;background-color: #f0f8ff;border: 1px dotted black;border-radius: 0.25em;box-sizing: border-box;margin-bottom: 0.5em;}#sk-container-id-2 div.sk-estimator:hover {background-color: #d4ebff;}#sk-container-id-2 div.sk-parallel-item::after {content: \"\";width: 100%;border-bottom: 1px solid gray;flex-grow: 1;}#sk-container-id-2 div.sk-label:hover label.sk-toggleable__label {background-color: #d4ebff;}#sk-container-id-2 div.sk-serial::before {content: \"\";position: absolute;border-left: 1px solid gray;box-sizing: border-box;top: 0;bottom: 0;left: 50%;z-index: 0;}#sk-container-id-2 div.sk-serial {display: flex;flex-direction: column;align-items: center;background-color: white;padding-right: 0.2em;padding-left: 0.2em;position: relative;}#sk-container-id-2 div.sk-item {position: relative;z-index: 1;}#sk-container-id-2 div.sk-parallel {display: flex;align-items: stretch;justify-content: center;background-color: white;position: relative;}#sk-container-id-2 div.sk-item::before, #sk-container-id-2 div.sk-parallel-item::before {content: \"\";position: absolute;border-left: 1px solid gray;box-sizing: border-box;top: 0;bottom: 0;left: 50%;z-index: -1;}#sk-container-id-2 div.sk-parallel-item {display: flex;flex-direction: column;z-index: 1;position: relative;background-color: white;}#sk-container-id-2 div.sk-parallel-item:first-child::after {align-self: flex-end;width: 50%;}#sk-container-id-2 div.sk-parallel-item:last-child::after {align-self: flex-start;width: 50%;}#sk-container-id-2 div.sk-parallel-item:only-child::after {width: 0;}#sk-container-id-2 div.sk-dashed-wrapped {border: 1px dashed gray;margin: 0 0.4em 0.5em 0.4em;box-sizing: border-box;padding-bottom: 0.4em;background-color: white;}#sk-container-id-2 div.sk-label label {font-family: monospace;font-weight: bold;display: inline-block;line-height: 1.2em;}#sk-container-id-2 div.sk-label-container {text-align: center;}#sk-container-id-2 div.sk-container {/* jupyter's `normalize.less` sets `[hidden] { display: none; }` but bootstrap.min.css set `[hidden] { display: none !important; }` so we also need the `!important` here to be able to override the default hidden behavior on the sphinx rendered scikit-learn.org. See: https://github.com/scikit-learn/scikit-learn/issues/21755 */display: inline-block !important;position: relative;}#sk-container-id-2 div.sk-text-repr-fallback {display: none;}</style><div id=\"sk-container-id-2\" class=\"sk-top-container\"><div class=\"sk-text-repr-fallback\"><pre>PCA()</pre><b>In a Jupyter environment, please rerun this cell to show the HTML representation or trust the notebook. <br />On GitHub, the HTML representation is unable to render, please try loading this page with nbviewer.org.</b></div><div class=\"sk-container\" hidden><div class=\"sk-item\"><div class=\"sk-estimator sk-toggleable\"><input class=\"sk-toggleable__control sk-hidden--visually\" id=\"sk-estimator-id-2\" type=\"checkbox\" checked><label for=\"sk-estimator-id-2\" class=\"sk-toggleable__label sk-toggleable__label-arrow\">PCA</label><div class=\"sk-toggleable__content\"><pre>PCA()</pre></div></div></div></div></div>"
      ],
      "text/plain": [
       "PCA()"
      ]
     },
     "execution_count": 17,
     "metadata": {},
     "output_type": "execute_result"
    }
   ],
   "source": [
    "pca.fit(df)"
   ]
  },
  {
   "cell_type": "code",
   "execution_count": 18,
   "id": "545d2a8c-6295-4c1a-86be-a82507a26a43",
   "metadata": {},
   "outputs": [
    {
     "data": {
      "text/html": [
       "<div>\n",
       "<style scoped>\n",
       "    .dataframe tbody tr th:only-of-type {\n",
       "        vertical-align: middle;\n",
       "    }\n",
       "\n",
       "    .dataframe tbody tr th {\n",
       "        vertical-align: top;\n",
       "    }\n",
       "\n",
       "    .dataframe thead th {\n",
       "        text-align: right;\n",
       "    }\n",
       "</style>\n",
       "<table border=\"1\" class=\"dataframe\">\n",
       "  <thead>\n",
       "    <tr style=\"text-align: right;\">\n",
       "      <th></th>\n",
       "      <th>0</th>\n",
       "      <th>1</th>\n",
       "      <th>2</th>\n",
       "      <th>3</th>\n",
       "      <th>4</th>\n",
       "      <th>5</th>\n",
       "      <th>6</th>\n",
       "      <th>7</th>\n",
       "      <th>8</th>\n",
       "      <th>9</th>\n",
       "      <th>10</th>\n",
       "      <th>11</th>\n",
       "      <th>12</th>\n",
       "      <th>13</th>\n",
       "      <th>14</th>\n",
       "      <th>15</th>\n",
       "      <th>16</th>\n",
       "      <th>17</th>\n",
       "    </tr>\n",
       "  </thead>\n",
       "  <tbody>\n",
       "    <tr>\n",
       "      <th>0</th>\n",
       "      <td>732.215864</td>\n",
       "      <td>203.381494</td>\n",
       "      <td>-91.386254</td>\n",
       "      <td>4.101273</td>\n",
       "      <td>0.874719</td>\n",
       "      <td>0.275762</td>\n",
       "      <td>-3.142209</td>\n",
       "      <td>-12.810095</td>\n",
       "      <td>-12.514548</td>\n",
       "      <td>3.084263</td>\n",
       "      <td>-14.719925</td>\n",
       "      <td>-5.839982</td>\n",
       "      <td>-5.838940</td>\n",
       "      <td>7.929728</td>\n",
       "      <td>-3.966920</td>\n",
       "      <td>2.497571</td>\n",
       "      <td>-3.920773</td>\n",
       "      <td>0.206654</td>\n",
       "    </tr>\n",
       "    <tr>\n",
       "      <th>1</th>\n",
       "      <td>-613.296510</td>\n",
       "      <td>4.715978</td>\n",
       "      <td>3.723620</td>\n",
       "      <td>-5.497663</td>\n",
       "      <td>1.970405</td>\n",
       "      <td>-1.057776</td>\n",
       "      <td>-4.334214</td>\n",
       "      <td>1.633313</td>\n",
       "      <td>-1.162976</td>\n",
       "      <td>2.720540</td>\n",
       "      <td>-1.520743</td>\n",
       "      <td>-0.103493</td>\n",
       "      <td>-0.798261</td>\n",
       "      <td>-0.345024</td>\n",
       "      <td>0.731178</td>\n",
       "      <td>2.700573</td>\n",
       "      <td>-0.712622</td>\n",
       "      <td>0.353582</td>\n",
       "    </tr>\n",
       "    <tr>\n",
       "      <th>2</th>\n",
       "      <td>-569.303713</td>\n",
       "      <td>-36.837051</td>\n",
       "      <td>22.974094</td>\n",
       "      <td>-7.077382</td>\n",
       "      <td>-2.342223</td>\n",
       "      <td>1.695158</td>\n",
       "      <td>1.561880</td>\n",
       "      <td>5.413996</td>\n",
       "      <td>0.339645</td>\n",
       "      <td>1.198487</td>\n",
       "      <td>0.695673</td>\n",
       "      <td>-0.318449</td>\n",
       "      <td>0.850217</td>\n",
       "      <td>0.278871</td>\n",
       "      <td>0.863830</td>\n",
       "      <td>0.123622</td>\n",
       "      <td>1.349283</td>\n",
       "      <td>0.009020</td>\n",
       "    </tr>\n",
       "    <tr>\n",
       "      <th>3</th>\n",
       "      <td>-717.082766</td>\n",
       "      <td>5.464696</td>\n",
       "      <td>28.897037</td>\n",
       "      <td>-12.102115</td>\n",
       "      <td>-3.826874</td>\n",
       "      <td>4.185596</td>\n",
       "      <td>-1.302431</td>\n",
       "      <td>-5.457357</td>\n",
       "      <td>-5.949502</td>\n",
       "      <td>-4.693130</td>\n",
       "      <td>2.014447</td>\n",
       "      <td>7.743516</td>\n",
       "      <td>-12.121444</td>\n",
       "      <td>-23.631555</td>\n",
       "      <td>-0.270984</td>\n",
       "      <td>6.117575</td>\n",
       "      <td>0.929494</td>\n",
       "      <td>6.367063</td>\n",
       "    </tr>\n",
       "    <tr>\n",
       "      <th>4</th>\n",
       "      <td>-661.802241</td>\n",
       "      <td>11.037736</td>\n",
       "      <td>26.829058</td>\n",
       "      <td>-4.721499</td>\n",
       "      <td>-0.923666</td>\n",
       "      <td>4.200434</td>\n",
       "      <td>0.199829</td>\n",
       "      <td>4.955191</td>\n",
       "      <td>-0.550326</td>\n",
       "      <td>0.346655</td>\n",
       "      <td>-1.690722</td>\n",
       "      <td>-0.718153</td>\n",
       "      <td>0.678574</td>\n",
       "      <td>1.141733</td>\n",
       "      <td>-0.883410</td>\n",
       "      <td>-1.386651</td>\n",
       "      <td>-0.485798</td>\n",
       "      <td>-0.634480</td>\n",
       "    </tr>\n",
       "    <tr>\n",
       "      <th>...</th>\n",
       "      <td>...</td>\n",
       "      <td>...</td>\n",
       "      <td>...</td>\n",
       "      <td>...</td>\n",
       "      <td>...</td>\n",
       "      <td>...</td>\n",
       "      <td>...</td>\n",
       "      <td>...</td>\n",
       "      <td>...</td>\n",
       "      <td>...</td>\n",
       "      <td>...</td>\n",
       "      <td>...</td>\n",
       "      <td>...</td>\n",
       "      <td>...</td>\n",
       "      <td>...</td>\n",
       "      <td>...</td>\n",
       "      <td>...</td>\n",
       "      <td>...</td>\n",
       "    </tr>\n",
       "    <tr>\n",
       "      <th>202</th>\n",
       "      <td>-231.395787</td>\n",
       "      <td>123.076993</td>\n",
       "      <td>-3.670796</td>\n",
       "      <td>205.166799</td>\n",
       "      <td>8.359058</td>\n",
       "      <td>50.234187</td>\n",
       "      <td>61.091100</td>\n",
       "      <td>-111.614055</td>\n",
       "      <td>-81.261006</td>\n",
       "      <td>106.630245</td>\n",
       "      <td>130.337523</td>\n",
       "      <td>69.478881</td>\n",
       "      <td>3.278603</td>\n",
       "      <td>23.932691</td>\n",
       "      <td>-17.574498</td>\n",
       "      <td>-11.577597</td>\n",
       "      <td>-2.951267</td>\n",
       "      <td>-7.950805</td>\n",
       "    </tr>\n",
       "    <tr>\n",
       "      <th>203</th>\n",
       "      <td>-585.225414</td>\n",
       "      <td>14.463482</td>\n",
       "      <td>15.554855</td>\n",
       "      <td>-4.235566</td>\n",
       "      <td>-0.240974</td>\n",
       "      <td>0.673923</td>\n",
       "      <td>-2.050134</td>\n",
       "      <td>5.221590</td>\n",
       "      <td>-2.332248</td>\n",
       "      <td>0.850916</td>\n",
       "      <td>-1.691483</td>\n",
       "      <td>-0.661360</td>\n",
       "      <td>0.503520</td>\n",
       "      <td>1.452266</td>\n",
       "      <td>0.335004</td>\n",
       "      <td>-0.258312</td>\n",
       "      <td>0.215416</td>\n",
       "      <td>-0.889734</td>\n",
       "    </tr>\n",
       "    <tr>\n",
       "      <th>204</th>\n",
       "      <td>59.256311</td>\n",
       "      <td>177.536948</td>\n",
       "      <td>2.828307</td>\n",
       "      <td>2.757493</td>\n",
       "      <td>-6.950651</td>\n",
       "      <td>-20.596663</td>\n",
       "      <td>5.244978</td>\n",
       "      <td>14.974251</td>\n",
       "      <td>-3.443525</td>\n",
       "      <td>3.644107</td>\n",
       "      <td>-7.199077</td>\n",
       "      <td>-6.901787</td>\n",
       "      <td>-1.619559</td>\n",
       "      <td>2.929226</td>\n",
       "      <td>-3.560201</td>\n",
       "      <td>0.359692</td>\n",
       "      <td>-1.276769</td>\n",
       "      <td>-3.702018</td>\n",
       "    </tr>\n",
       "    <tr>\n",
       "      <th>205</th>\n",
       "      <td>1488.318012</td>\n",
       "      <td>-15.246686</td>\n",
       "      <td>-400.575028</td>\n",
       "      <td>-29.581610</td>\n",
       "      <td>86.940637</td>\n",
       "      <td>-24.344326</td>\n",
       "      <td>-97.174838</td>\n",
       "      <td>38.178982</td>\n",
       "      <td>24.886382</td>\n",
       "      <td>-15.642597</td>\n",
       "      <td>20.348538</td>\n",
       "      <td>14.051985</td>\n",
       "      <td>22.052111</td>\n",
       "      <td>-12.563356</td>\n",
       "      <td>-6.183521</td>\n",
       "      <td>-6.813225</td>\n",
       "      <td>-1.015097</td>\n",
       "      <td>-4.649007</td>\n",
       "    </tr>\n",
       "    <tr>\n",
       "      <th>206</th>\n",
       "      <td>1398.785663</td>\n",
       "      <td>-482.430628</td>\n",
       "      <td>129.258661</td>\n",
       "      <td>14.984799</td>\n",
       "      <td>-60.143291</td>\n",
       "      <td>-75.318917</td>\n",
       "      <td>54.011376</td>\n",
       "      <td>60.234288</td>\n",
       "      <td>-30.439304</td>\n",
       "      <td>2.601305</td>\n",
       "      <td>12.155409</td>\n",
       "      <td>26.400952</td>\n",
       "      <td>-27.826240</td>\n",
       "      <td>-12.511763</td>\n",
       "      <td>25.021906</td>\n",
       "      <td>5.971226</td>\n",
       "      <td>3.009330</td>\n",
       "      <td>0.121387</td>\n",
       "    </tr>\n",
       "  </tbody>\n",
       "</table>\n",
       "<p>207 rows × 18 columns</p>\n",
       "</div>"
      ],
      "text/plain": [
       "              0           1           2           3          4          5   \\\n",
       "0     732.215864  203.381494  -91.386254    4.101273   0.874719   0.275762   \n",
       "1    -613.296510    4.715978    3.723620   -5.497663   1.970405  -1.057776   \n",
       "2    -569.303713  -36.837051   22.974094   -7.077382  -2.342223   1.695158   \n",
       "3    -717.082766    5.464696   28.897037  -12.102115  -3.826874   4.185596   \n",
       "4    -661.802241   11.037736   26.829058   -4.721499  -0.923666   4.200434   \n",
       "..           ...         ...         ...         ...        ...        ...   \n",
       "202  -231.395787  123.076993   -3.670796  205.166799   8.359058  50.234187   \n",
       "203  -585.225414   14.463482   15.554855   -4.235566  -0.240974   0.673923   \n",
       "204    59.256311  177.536948    2.828307    2.757493  -6.950651 -20.596663   \n",
       "205  1488.318012  -15.246686 -400.575028  -29.581610  86.940637 -24.344326   \n",
       "206  1398.785663 -482.430628  129.258661   14.984799 -60.143291 -75.318917   \n",
       "\n",
       "            6           7          8           9           10         11  \\\n",
       "0    -3.142209  -12.810095 -12.514548    3.084263  -14.719925  -5.839982   \n",
       "1    -4.334214    1.633313  -1.162976    2.720540   -1.520743  -0.103493   \n",
       "2     1.561880    5.413996   0.339645    1.198487    0.695673  -0.318449   \n",
       "3    -1.302431   -5.457357  -5.949502   -4.693130    2.014447   7.743516   \n",
       "4     0.199829    4.955191  -0.550326    0.346655   -1.690722  -0.718153   \n",
       "..         ...         ...        ...         ...         ...        ...   \n",
       "202  61.091100 -111.614055 -81.261006  106.630245  130.337523  69.478881   \n",
       "203  -2.050134    5.221590  -2.332248    0.850916   -1.691483  -0.661360   \n",
       "204   5.244978   14.974251  -3.443525    3.644107   -7.199077  -6.901787   \n",
       "205 -97.174838   38.178982  24.886382  -15.642597   20.348538  14.051985   \n",
       "206  54.011376   60.234288 -30.439304    2.601305   12.155409  26.400952   \n",
       "\n",
       "            12         13         14         15        16        17  \n",
       "0    -5.838940   7.929728  -3.966920   2.497571 -3.920773  0.206654  \n",
       "1    -0.798261  -0.345024   0.731178   2.700573 -0.712622  0.353582  \n",
       "2     0.850217   0.278871   0.863830   0.123622  1.349283  0.009020  \n",
       "3   -12.121444 -23.631555  -0.270984   6.117575  0.929494  6.367063  \n",
       "4     0.678574   1.141733  -0.883410  -1.386651 -0.485798 -0.634480  \n",
       "..         ...        ...        ...        ...       ...       ...  \n",
       "202   3.278603  23.932691 -17.574498 -11.577597 -2.951267 -7.950805  \n",
       "203   0.503520   1.452266   0.335004  -0.258312  0.215416 -0.889734  \n",
       "204  -1.619559   2.929226  -3.560201   0.359692 -1.276769 -3.702018  \n",
       "205  22.052111 -12.563356  -6.183521  -6.813225 -1.015097 -4.649007  \n",
       "206 -27.826240 -12.511763  25.021906   5.971226  3.009330  0.121387  \n",
       "\n",
       "[207 rows x 18 columns]"
      ]
     },
     "execution_count": 18,
     "metadata": {},
     "output_type": "execute_result"
    }
   ],
   "source": [
    "df2=pd.DataFrame(pca.transform(df))\n",
    "df2"
   ]
  },
  {
   "cell_type": "code",
   "execution_count": 19,
   "id": "1e301e92-e788-4b66-b00e-84135f46e224",
   "metadata": {},
   "outputs": [],
   "source": [
    "df3=pd.DataFrame(pca.fit_transform(df))\n",
    "#df3.Dtypes"
   ]
  },
  {
   "cell_type": "code",
   "execution_count": 20,
   "id": "32eaed02-9182-457d-b040-e6b31732a0c9",
   "metadata": {},
   "outputs": [],
   "source": [
    "pca_evr=pd.DataFrame((pca.explained_variance_ratio_))\n",
    "#pca_df"
   ]
  },
  {
   "cell_type": "code",
   "execution_count": 21,
   "id": "17f656d7-4dc1-43b7-83c2-4f05669029d0",
   "metadata": {},
   "outputs": [],
   "source": [
    "#pca_ev=pd.DataFrame((pca.explained_variance_))\n",
    "#pca_ev  # 792660"
   ]
  },
  {
   "cell_type": "code",
   "execution_count": 22,
   "id": "a5d8da5e-71f9-4d3c-8ba5-4481ff97a935",
   "metadata": {},
   "outputs": [
    {
     "name": "stdout",
     "output_type": "stream",
     "text": [
      "Interest    68\n",
      "Credit       0\n",
      "Gender      21\n",
      "Previous     7\n",
      "Duration    70\n",
      "Churn        0\n",
      "dtype: int64\n"
     ]
    }
   ],
   "source": [
    "bank=pd.read_csv('Bank Data Dimension Reduction.csv',index_col=0)\n",
    "#bank.info()\n",
    "print(bank.isnull().sum())\n"
   ]
  },
  {
   "cell_type": "code",
   "execution_count": 23,
   "id": "710786ab-b9a2-4001-9de4-c47a80302925",
   "metadata": {},
   "outputs": [],
   "source": [
    "#bank"
   ]
  },
  {
   "cell_type": "code",
   "execution_count": 24,
   "id": "eae919d9-7870-403e-bb52-99a6104a72f8",
   "metadata": {},
   "outputs": [
    {
     "data": {
      "text/plain": [
       "Interest    68\n",
       "Credit       0\n",
       "Gender       0\n",
       "Previous     7\n",
       "Duration    70\n",
       "Churn        0\n",
       "dtype: int64"
      ]
     },
     "execution_count": 24,
     "metadata": {},
     "output_type": "execute_result"
    }
   ],
   "source": [
    "bank.groupby('Gender').size()  # getting count of gender for max count\n",
    "bank['Gender']=bank['Gender'].fillna(0)\n",
    "bank.isna().sum()\n"
   ]
  },
  {
   "cell_type": "code",
   "execution_count": null,
   "id": "c14148d1-5763-4516-b2ff-94a8ede51e50",
   "metadata": {},
   "outputs": [],
   "source": []
  },
  {
   "cell_type": "code",
   "execution_count": 25,
   "id": "fe3be454-d3c0-4fb5-8ff0-5ed21081db00",
   "metadata": {},
   "outputs": [
    {
     "data": {
      "text/plain": [
       "Interest    68\n",
       "Credit       0\n",
       "Gender       0\n",
       "Previous     7\n",
       "Duration     0\n",
       "Churn        0\n",
       "dtype: int64"
      ]
     },
     "execution_count": 25,
     "metadata": {},
     "output_type": "execute_result"
    }
   ],
   "source": [
    "bank.groupby('Duration')\n",
    "bank['Duration'].fillna(bank['Duration'].median(),inplace=True)\n",
    "bank.isna().sum()\n"
   ]
  },
  {
   "cell_type": "code",
   "execution_count": null,
   "id": "cfae48ee-3fcf-4756-932c-6c008faaa595",
   "metadata": {},
   "outputs": [],
   "source": []
  },
  {
   "cell_type": "code",
   "execution_count": 26,
   "id": "c2d1da17-ea18-492c-8d0e-b9d70be0ca89",
   "metadata": {},
   "outputs": [
    {
     "data": {
      "text/plain": [
       "Previous\n",
       "0.0    309\n",
       "1.0    291\n",
       "dtype: int64"
      ]
     },
     "execution_count": 26,
     "metadata": {},
     "output_type": "execute_result"
    }
   ],
   "source": [
    "bank.groupby('Previous').size()\n",
    "bank['Previous']=bank['Previous'].fillna(0)\n",
    "bank.groupby('Previous').size()"
   ]
  },
  {
   "cell_type": "code",
   "execution_count": null,
   "id": "49e5bf89-5c98-45fa-8936-bba8d926e36c",
   "metadata": {},
   "outputs": [],
   "source": []
  },
  {
   "cell_type": "code",
   "execution_count": 27,
   "id": "2a6d0d2c-fdba-4793-9435-e13dc6b8ec14",
   "metadata": {},
   "outputs": [
    {
     "data": {
      "text/plain": [
       "Interest    0\n",
       "Credit      0\n",
       "Gender      0\n",
       "Previous    0\n",
       "Duration    0\n",
       "Churn       0\n",
       "dtype: int64"
      ]
     },
     "execution_count": 27,
     "metadata": {},
     "output_type": "execute_result"
    }
   ],
   "source": [
    "bank.groupby('Interest').size()\n",
    "bank['Interest'].fillna(bank['Interest'].mean(),inplace=True)\n",
    "bank.isna().sum()"
   ]
  },
  {
   "cell_type": "code",
   "execution_count": 28,
   "id": "461fa882-91f5-4910-9a70-4b1d2ce61af0",
   "metadata": {},
   "outputs": [
    {
     "name": "stdout",
     "output_type": "stream",
     "text": [
      "Interest    float64\n",
      "Credit        int64\n",
      "Gender      float64\n",
      "Previous    float64\n",
      "Duration    float64\n",
      "Churn        object\n",
      "dtype: object\n"
     ]
    }
   ],
   "source": [
    "bank.isna().sum()\n",
    "print(bank.dtypes)"
   ]
  },
  {
   "cell_type": "code",
   "execution_count": 29,
   "id": "25336c5e-90da-43c2-bd03-838407ad13d5",
   "metadata": {},
   "outputs": [],
   "source": [
    "#L=[bank.columns.values]\n",
    "#L"
   ]
  },
  {
   "cell_type": "code",
   "execution_count": 30,
   "id": "434d5342-4fad-4264-868c-5251c7c20867",
   "metadata": {},
   "outputs": [],
   "source": [
    "#for i in L:\n",
    "#    print('column name is', i ,'and unique values are ' , bank[i].unique)"
   ]
  },
  {
   "cell_type": "code",
   "execution_count": 31,
   "id": "a0e2f38f-14b7-4780-bb1a-421f18c4f74d",
   "metadata": {},
   "outputs": [],
   "source": [
    "#for i in L:\n",
    "#    print('column name is', i )"
   ]
  },
  {
   "cell_type": "code",
   "execution_count": 32,
   "id": "27fe79e0-4449-475a-a9cd-da0f3a7fc446",
   "metadata": {},
   "outputs": [],
   "source": [
    "bank['Gender']=bank['Gender'].astype('category')\n",
    "bank['Previous']=bank['Previous'].astype('category')\n",
    "bank['Churn']=bank['Churn'].astype('category')"
   ]
  },
  {
   "cell_type": "code",
   "execution_count": 33,
   "id": "bddec5d0-261d-462f-b325-0a72457315dc",
   "metadata": {},
   "outputs": [],
   "source": [
    "bank['Churn']=bank['Churn'].cat.codes"
   ]
  },
  {
   "cell_type": "code",
   "execution_count": 34,
   "id": "03670928-567f-4958-9b73-bd93b3f1f9d2",
   "metadata": {},
   "outputs": [
    {
     "data": {
      "text/html": [
       "<div>\n",
       "<style scoped>\n",
       "    .dataframe tbody tr th:only-of-type {\n",
       "        vertical-align: middle;\n",
       "    }\n",
       "\n",
       "    .dataframe tbody tr th {\n",
       "        vertical-align: top;\n",
       "    }\n",
       "\n",
       "    .dataframe thead th {\n",
       "        text-align: right;\n",
       "    }\n",
       "</style>\n",
       "<table border=\"1\" class=\"dataframe\">\n",
       "  <thead>\n",
       "    <tr style=\"text-align: right;\">\n",
       "      <th></th>\n",
       "      <th>Interest</th>\n",
       "      <th>Credit</th>\n",
       "      <th>Gender</th>\n",
       "      <th>Previous</th>\n",
       "      <th>Duration</th>\n",
       "      <th>Churn</th>\n",
       "    </tr>\n",
       "    <tr>\n",
       "      <th>Index</th>\n",
       "      <th></th>\n",
       "      <th></th>\n",
       "      <th></th>\n",
       "      <th></th>\n",
       "      <th></th>\n",
       "      <th></th>\n",
       "    </tr>\n",
       "  </thead>\n",
       "  <tbody>\n",
       "    <tr>\n",
       "      <th>0</th>\n",
       "      <td>17546.0</td>\n",
       "      <td>1</td>\n",
       "      <td>0.0</td>\n",
       "      <td>0.0</td>\n",
       "      <td>48.0</td>\n",
       "      <td>0</td>\n",
       "    </tr>\n",
       "    <tr>\n",
       "      <th>1</th>\n",
       "      <td>30085.1</td>\n",
       "      <td>3</td>\n",
       "      <td>1.0</td>\n",
       "      <td>1.0</td>\n",
       "      <td>40.0</td>\n",
       "      <td>1</td>\n",
       "    </tr>\n",
       "    <tr>\n",
       "      <th>2</th>\n",
       "      <td>16575.4</td>\n",
       "      <td>0</td>\n",
       "      <td>0.0</td>\n",
       "      <td>1.0</td>\n",
       "      <td>51.0</td>\n",
       "      <td>1</td>\n",
       "    </tr>\n",
       "    <tr>\n",
       "      <th>3</th>\n",
       "      <td>20375.4</td>\n",
       "      <td>3</td>\n",
       "      <td>0.0</td>\n",
       "      <td>0.0</td>\n",
       "      <td>23.0</td>\n",
       "      <td>1</td>\n",
       "    </tr>\n",
       "    <tr>\n",
       "      <th>4</th>\n",
       "      <td>50576.3</td>\n",
       "      <td>0</td>\n",
       "      <td>0.0</td>\n",
       "      <td>0.0</td>\n",
       "      <td>57.0</td>\n",
       "      <td>0</td>\n",
       "    </tr>\n",
       "    <tr>\n",
       "      <th>...</th>\n",
       "      <td>...</td>\n",
       "      <td>...</td>\n",
       "      <td>...</td>\n",
       "      <td>...</td>\n",
       "      <td>...</td>\n",
       "      <td>...</td>\n",
       "    </tr>\n",
       "    <tr>\n",
       "      <th>595</th>\n",
       "      <td>47025.0</td>\n",
       "      <td>2</td>\n",
       "      <td>0.0</td>\n",
       "      <td>1.0</td>\n",
       "      <td>43.0</td>\n",
       "      <td>1</td>\n",
       "    </tr>\n",
       "    <tr>\n",
       "      <th>596</th>\n",
       "      <td>9672.3</td>\n",
       "      <td>0</td>\n",
       "      <td>0.0</td>\n",
       "      <td>1.0</td>\n",
       "      <td>43.0</td>\n",
       "      <td>1</td>\n",
       "    </tr>\n",
       "    <tr>\n",
       "      <th>597</th>\n",
       "      <td>15976.3</td>\n",
       "      <td>0</td>\n",
       "      <td>0.0</td>\n",
       "      <td>1.0</td>\n",
       "      <td>43.0</td>\n",
       "      <td>0</td>\n",
       "    </tr>\n",
       "    <tr>\n",
       "      <th>598</th>\n",
       "      <td>14711.8</td>\n",
       "      <td>0</td>\n",
       "      <td>1.0</td>\n",
       "      <td>0.0</td>\n",
       "      <td>29.0</td>\n",
       "      <td>0</td>\n",
       "    </tr>\n",
       "    <tr>\n",
       "      <th>599</th>\n",
       "      <td>26671.6</td>\n",
       "      <td>0</td>\n",
       "      <td>1.0</td>\n",
       "      <td>1.0</td>\n",
       "      <td>38.0</td>\n",
       "      <td>1</td>\n",
       "    </tr>\n",
       "  </tbody>\n",
       "</table>\n",
       "<p>600 rows × 6 columns</p>\n",
       "</div>"
      ],
      "text/plain": [
       "       Interest  Credit Gender Previous  Duration  Churn\n",
       "Index                                                   \n",
       "0       17546.0       1    0.0      0.0      48.0      0\n",
       "1       30085.1       3    1.0      1.0      40.0      1\n",
       "2       16575.4       0    0.0      1.0      51.0      1\n",
       "3       20375.4       3    0.0      0.0      23.0      1\n",
       "4       50576.3       0    0.0      0.0      57.0      0\n",
       "...         ...     ...    ...      ...       ...    ...\n",
       "595     47025.0       2    0.0      1.0      43.0      1\n",
       "596      9672.3       0    0.0      1.0      43.0      1\n",
       "597     15976.3       0    0.0      1.0      43.0      0\n",
       "598     14711.8       0    1.0      0.0      29.0      0\n",
       "599     26671.6       0    1.0      1.0      38.0      1\n",
       "\n",
       "[600 rows x 6 columns]"
      ]
     },
     "execution_count": 34,
     "metadata": {},
     "output_type": "execute_result"
    }
   ],
   "source": [
    "bank"
   ]
  },
  {
   "cell_type": "code",
   "execution_count": 35,
   "id": "b35aed3f-b9dd-4513-922a-b0c6e8081c45",
   "metadata": {},
   "outputs": [
    {
     "name": "stdout",
     "output_type": "stream",
     "text": [
      "(600, 5)\n",
      "(600,)\n"
     ]
    }
   ],
   "source": [
    "x = bank.iloc[:,0:5].values\n",
    "print (x.shape)\n",
    "y = bank.iloc[:,5].values\n",
    "print (y.shape)"
   ]
  },
  {
   "cell_type": "code",
   "execution_count": 36,
   "id": "e4a3a0b5-e9b9-463e-97cd-1377991d7798",
   "metadata": {},
   "outputs": [
    {
     "data": {
      "text/plain": [
       "array([[-0.83481117, -0.01104933, -0.96398156, -0.97043679,  0.39357468],\n",
       "       [ 0.20322955,  1.88312118,  1.03736424,  1.03046381, -0.19900953],\n",
       "       [-0.91516162, -0.95813458, -0.96398156,  1.03046381,  0.61579376],\n",
       "       ...,\n",
       "       [-0.9647577 , -0.95813458, -0.96398156,  1.03046381,  0.02320955],\n",
       "       [-1.06943845, -0.95813458,  1.03736424, -0.97043679, -1.01381282],\n",
       "       [-0.07935469, -0.95813458,  1.03736424,  1.03046381, -0.34715558]])"
      ]
     },
     "execution_count": 36,
     "metadata": {},
     "output_type": "execute_result"
    }
   ],
   "source": [
    "from sklearn.preprocessing import StandardScaler\n",
    "sc=StandardScaler()\n",
    "sc.fit(x)\n",
    "x=sc.transform(x)\n",
    "x"
   ]
  },
  {
   "cell_type": "code",
   "execution_count": null,
   "id": "78b33562-15e2-47bf-9fbc-dbcb50334a66",
   "metadata": {},
   "outputs": [],
   "source": []
  },
  {
   "cell_type": "code",
   "execution_count": 37,
   "id": "14d504a0-fa6d-4813-8189-a4ed105ada3a",
   "metadata": {},
   "outputs": [
    {
     "data": {
      "text/html": [
       "<div>\n",
       "<style scoped>\n",
       "    .dataframe tbody tr th:only-of-type {\n",
       "        vertical-align: middle;\n",
       "    }\n",
       "\n",
       "    .dataframe tbody tr th {\n",
       "        vertical-align: top;\n",
       "    }\n",
       "\n",
       "    .dataframe thead th {\n",
       "        text-align: right;\n",
       "    }\n",
       "</style>\n",
       "<table border=\"1\" class=\"dataframe\">\n",
       "  <thead>\n",
       "    <tr style=\"text-align: right;\">\n",
       "      <th></th>\n",
       "      <th>0</th>\n",
       "      <th>1</th>\n",
       "      <th>2</th>\n",
       "      <th>3</th>\n",
       "      <th>4</th>\n",
       "    </tr>\n",
       "  </thead>\n",
       "  <tbody>\n",
       "    <tr>\n",
       "      <th>0</th>\n",
       "      <td>-0.389348</td>\n",
       "      <td>-1.263066</td>\n",
       "      <td>0.561508</td>\n",
       "      <td>0.217232</td>\n",
       "      <td>-0.783283</td>\n",
       "    </tr>\n",
       "    <tr>\n",
       "      <th>1</th>\n",
       "      <td>0.258535</td>\n",
       "      <td>2.122143</td>\n",
       "      <td>0.938872</td>\n",
       "      <td>0.534113</td>\n",
       "      <td>0.167161</td>\n",
       "    </tr>\n",
       "    <tr>\n",
       "      <th>2</th>\n",
       "      <td>0.008022</td>\n",
       "      <td>-0.424435</td>\n",
       "      <td>-0.082947</td>\n",
       "      <td>-1.681945</td>\n",
       "      <td>-1.053486</td>\n",
       "    </tr>\n",
       "    <tr>\n",
       "      <th>3</th>\n",
       "      <td>-1.330230</td>\n",
       "      <td>-0.276444</td>\n",
       "      <td>2.208619</td>\n",
       "      <td>0.862935</td>\n",
       "      <td>0.660123</td>\n",
       "    </tr>\n",
       "    <tr>\n",
       "      <th>4</th>\n",
       "      <td>1.864882</td>\n",
       "      <td>-1.788824</td>\n",
       "      <td>-0.570752</td>\n",
       "      <td>0.196370</td>\n",
       "      <td>0.692477</td>\n",
       "    </tr>\n",
       "    <tr>\n",
       "      <th>...</th>\n",
       "      <td>...</td>\n",
       "      <td>...</td>\n",
       "      <td>...</td>\n",
       "      <td>...</td>\n",
       "      <td>...</td>\n",
       "    </tr>\n",
       "    <tr>\n",
       "      <th>595</th>\n",
       "      <td>1.504013</td>\n",
       "      <td>0.377072</td>\n",
       "      <td>1.179921</td>\n",
       "      <td>-0.631916</td>\n",
       "      <td>1.118015</td>\n",
       "    </tr>\n",
       "    <tr>\n",
       "      <th>596</th>\n",
       "      <td>-0.791650</td>\n",
       "      <td>-0.348038</td>\n",
       "      <td>0.038977</td>\n",
       "      <td>-1.813712</td>\n",
       "      <td>-1.039632</td>\n",
       "    </tr>\n",
       "    <tr>\n",
       "      <th>597</th>\n",
       "      <td>-0.432636</td>\n",
       "      <td>-0.359121</td>\n",
       "      <td>-0.021943</td>\n",
       "      <td>-1.753198</td>\n",
       "      <td>-0.670900</td>\n",
       "    </tr>\n",
       "    <tr>\n",
       "      <th>598</th>\n",
       "      <td>-1.813000</td>\n",
       "      <td>-0.205058</td>\n",
       "      <td>-1.207329</td>\n",
       "      <td>0.564423</td>\n",
       "      <td>-0.046633</td>\n",
       "    </tr>\n",
       "    <tr>\n",
       "      <th>599</th>\n",
       "      <td>-0.290127</td>\n",
       "      <td>0.958035</td>\n",
       "      <td>-1.267196</td>\n",
       "      <td>-0.749886</td>\n",
       "      <td>0.112675</td>\n",
       "    </tr>\n",
       "  </tbody>\n",
       "</table>\n",
       "<p>600 rows × 5 columns</p>\n",
       "</div>"
      ],
      "text/plain": [
       "            0         1         2         3         4\n",
       "0   -0.389348 -1.263066  0.561508  0.217232 -0.783283\n",
       "1    0.258535  2.122143  0.938872  0.534113  0.167161\n",
       "2    0.008022 -0.424435 -0.082947 -1.681945 -1.053486\n",
       "3   -1.330230 -0.276444  2.208619  0.862935  0.660123\n",
       "4    1.864882 -1.788824 -0.570752  0.196370  0.692477\n",
       "..        ...       ...       ...       ...       ...\n",
       "595  1.504013  0.377072  1.179921 -0.631916  1.118015\n",
       "596 -0.791650 -0.348038  0.038977 -1.813712 -1.039632\n",
       "597 -0.432636 -0.359121 -0.021943 -1.753198 -0.670900\n",
       "598 -1.813000 -0.205058 -1.207329  0.564423 -0.046633\n",
       "599 -0.290127  0.958035 -1.267196 -0.749886  0.112675\n",
       "\n",
       "[600 rows x 5 columns]"
      ]
     },
     "execution_count": 37,
     "metadata": {},
     "output_type": "execute_result"
    }
   ],
   "source": [
    "pca1=PCA()\n",
    "\n",
    "pca_1=pca1.fit_transform(x)\n",
    "pca_x=pd.DataFrame(pca_1)\n",
    "pca_x"
   ]
  },
  {
   "cell_type": "code",
   "execution_count": 38,
   "id": "bdadf497-df67-4ed2-9372-8a7c1d5e72b5",
   "metadata": {},
   "outputs": [
    {
     "name": "stdout",
     "output_type": "stream",
     "text": [
      "[0.33943997 0.20168854 0.20083191 0.18998087 0.06805872]\n"
     ]
    }
   ],
   "source": [
    "print(pca1.explained_variance_ratio_)"
   ]
  },
  {
   "cell_type": "code",
   "execution_count": 39,
   "id": "43f24c33-bdad-48c2-9c57-74f0ec5a3009",
   "metadata": {},
   "outputs": [
    {
     "data": {
      "text/plain": [
       "(600, 2)"
      ]
     },
     "execution_count": 39,
     "metadata": {},
     "output_type": "execute_result"
    }
   ],
   "source": [
    "pca_2=PCA(n_components=2)\n",
    "pca_x=pca_2.fit_transform(x)\n",
    "pca_x.shape"
   ]
  },
  {
   "cell_type": "code",
   "execution_count": 40,
   "id": "c225fcd6-9787-4f0a-89d3-0dd0ba5db36e",
   "metadata": {},
   "outputs": [
    {
     "data": {
      "text/plain": [
       "(600,)"
      ]
     },
     "execution_count": 40,
     "metadata": {},
     "output_type": "execute_result"
    }
   ],
   "source": [
    "y.shape"
   ]
  },
  {
   "cell_type": "code",
   "execution_count": 41,
   "id": "4cf79fa0-83ea-400a-bcb7-f91f0fae9179",
   "metadata": {},
   "outputs": [
    {
     "name": "stdout",
     "output_type": "stream",
     "text": [
      "(120, 2)\n",
      "(480, 2)\n",
      "(480,)\n"
     ]
    }
   ],
   "source": [
    "from sklearn.model_selection import train_test_split\n",
    "pca_x_train, pca_x_test,y_train, y_test=train_test_split(pca_x,y,test_size=.2)\n",
    "print(pca_x_test.shape)\n",
    "print(pca_x_train.shape)\n",
    "print(y_train.shape)"
   ]
  },
  {
   "cell_type": "code",
   "execution_count": 42,
   "id": "d970f18a-b6f2-4517-9919-02d40c1ca89e",
   "metadata": {},
   "outputs": [
    {
     "data": {
      "text/plain": [
       "array([1, 1, 1, 1, 1, 1, 1, 1, 1, 1, 1, 1, 1, 1, 1, 1, 1, 1, 1, 1, 1, 1,\n",
       "       1, 1, 1, 1, 1, 1, 1, 1, 1, 1, 1, 1, 1, 1, 1, 1, 1, 1, 1, 1, 1, 1,\n",
       "       1, 1, 1, 1, 1, 1, 1, 1, 1, 1, 1, 1, 1, 1, 1, 1, 1, 1, 1, 1, 1, 1,\n",
       "       1, 1, 1, 1, 1, 1, 1, 1, 1, 1, 1, 1, 1, 1, 1, 1, 1, 1, 1, 1, 1, 1,\n",
       "       1, 1, 1, 1, 1, 1, 1, 1, 1, 1, 1, 1, 1, 1, 1, 1, 1, 1, 1, 1, 1, 1,\n",
       "       1, 1, 1, 1, 1, 1, 1, 1, 1, 1], dtype=int8)"
      ]
     },
     "execution_count": 42,
     "metadata": {},
     "output_type": "execute_result"
    }
   ],
   "source": [
    "from sklearn.linear_model import LogisticRegression\n",
    "from sklearn.metrics import accuracy_score,confusion_matrix,classification_report\n",
    "lr=LogisticRegression()\n",
    "lr.fit(pca_x_train,y_train)\n",
    "y_pred=lr.predict(pca_x_test)\n",
    "y_pred"
   ]
  },
  {
   "cell_type": "code",
   "execution_count": 43,
   "id": "ae2e04ce-2ca5-411d-b16a-fff4f7430093",
   "metadata": {},
   "outputs": [
    {
     "data": {
      "text/plain": [
       "array([0, 1, 1, 1, 1, 1, 1, 1, 0, 1, 1, 0, 1, 1, 1, 1, 0, 1, 1, 1, 1, 1,\n",
       "       1, 1, 1, 0, 1, 0, 1, 0, 1, 1, 1, 0, 1, 1, 1, 1, 0, 1, 1, 0, 1, 0,\n",
       "       1, 0, 1, 1, 1, 1, 1, 1, 1, 1, 0, 1, 1, 0, 0, 1, 1, 1, 0, 1, 0, 0,\n",
       "       0, 1, 1, 1, 0, 1, 1, 1, 1, 1, 1, 0, 1, 1, 1, 1, 0, 0, 0, 1, 1, 1,\n",
       "       0, 1, 1, 1, 1, 1, 1, 1, 1, 1, 0, 0, 1, 1, 1, 1, 0, 1, 1, 1, 1, 1,\n",
       "       1, 1, 1, 1, 1, 1, 0, 1, 1, 1], dtype=int8)"
      ]
     },
     "execution_count": 43,
     "metadata": {},
     "output_type": "execute_result"
    }
   ],
   "source": [
    "y_test"
   ]
  },
  {
   "cell_type": "code",
   "execution_count": 44,
   "id": "b5b7f494-baf8-4804-a785-aab20dd31dba",
   "metadata": {},
   "outputs": [
    {
     "data": {
      "text/plain": [
       "0.7583333333333333"
      ]
     },
     "execution_count": 44,
     "metadata": {},
     "output_type": "execute_result"
    }
   ],
   "source": [
    "accuracy_score(y_test,y_pred)"
   ]
  },
  {
   "cell_type": "code",
   "execution_count": 45,
   "id": "57e1315a-4466-4f8e-83c0-40bb72c1de70",
   "metadata": {},
   "outputs": [
    {
     "name": "stdout",
     "output_type": "stream",
     "text": [
      "              precision    recall  f1-score   support\n",
      "\n",
      "           0       0.00      0.00      0.00        29\n",
      "           1       0.76      1.00      0.86        91\n",
      "\n",
      "    accuracy                           0.76       120\n",
      "   macro avg       0.38      0.50      0.43       120\n",
      "weighted avg       0.58      0.76      0.65       120\n",
      "\n"
     ]
    },
    {
     "name": "stderr",
     "output_type": "stream",
     "text": [
      "C:\\Users\\SUDHARSHAN\\anaconda3\\Lib\\site-packages\\sklearn\\metrics\\_classification.py:1344: UndefinedMetricWarning: Precision and F-score are ill-defined and being set to 0.0 in labels with no predicted samples. Use `zero_division` parameter to control this behavior.\n",
      "  _warn_prf(average, modifier, msg_start, len(result))\n",
      "C:\\Users\\SUDHARSHAN\\anaconda3\\Lib\\site-packages\\sklearn\\metrics\\_classification.py:1344: UndefinedMetricWarning: Precision and F-score are ill-defined and being set to 0.0 in labels with no predicted samples. Use `zero_division` parameter to control this behavior.\n",
      "  _warn_prf(average, modifier, msg_start, len(result))\n",
      "C:\\Users\\SUDHARSHAN\\anaconda3\\Lib\\site-packages\\sklearn\\metrics\\_classification.py:1344: UndefinedMetricWarning: Precision and F-score are ill-defined and being set to 0.0 in labels with no predicted samples. Use `zero_division` parameter to control this behavior.\n",
      "  _warn_prf(average, modifier, msg_start, len(result))\n"
     ]
    }
   ],
   "source": [
    "print(classification_report(y_test,y_pred))"
   ]
  },
  {
   "cell_type": "code",
   "execution_count": 46,
   "id": "7aecf81a-e99e-4bc2-a4ec-346d1d01a104",
   "metadata": {},
   "outputs": [
    {
     "data": {
      "text/plain": [
       "array([[ 0, 29],\n",
       "       [ 0, 91]], dtype=int64)"
      ]
     },
     "execution_count": 46,
     "metadata": {},
     "output_type": "execute_result"
    }
   ],
   "source": [
    "confusion_matrix(y_test, y_pred)"
   ]
  },
  {
   "cell_type": "code",
   "execution_count": 47,
   "id": "841f2c66-8b9b-47b6-af32-3eaa97426ea5",
   "metadata": {},
   "outputs": [
    {
     "data": {
      "text/plain": [
       "array([0, 1, 1, 0, 1, 1, 1, 1, 0, 1, 1, 0, 1, 1, 1, 1, 1, 1, 1, 1, 0, 0,\n",
       "       0, 0, 0, 1, 1, 1, 0, 1, 0, 1, 1, 1, 0, 1, 1, 1, 1, 1, 0, 1, 1, 1,\n",
       "       1, 0, 1, 1, 0, 1, 1, 1, 0, 1, 1, 1, 1, 1, 0, 0, 0, 1, 1, 0, 1, 1,\n",
       "       0, 1, 1, 1, 1, 1, 1, 1, 1, 1, 1, 0, 1, 0, 1, 0, 1, 1, 1, 1, 1, 1,\n",
       "       1, 1, 1, 1, 1, 1, 1, 1, 0, 1, 0, 1, 1, 0, 1, 1, 1, 1, 1, 1, 0, 1,\n",
       "       1, 1, 1, 0, 1, 1, 0, 1, 1, 0], dtype=int8)"
      ]
     },
     "execution_count": 47,
     "metadata": {},
     "output_type": "execute_result"
    }
   ],
   "source": [
    "from sklearn.tree import DecisionTreeClassifier\n",
    "dt=DecisionTreeClassifier()\n",
    "dt.fit(pca_x_train,y_train)\n",
    "y_pred_dt=dt.predict(pca_x_test)\n",
    "y_pred_dt"
   ]
  },
  {
   "cell_type": "code",
   "execution_count": 48,
   "id": "bb5feef7-3bce-49b4-8856-6ba43a121b75",
   "metadata": {},
   "outputs": [
    {
     "data": {
      "text/plain": [
       "0.65"
      ]
     },
     "execution_count": 48,
     "metadata": {},
     "output_type": "execute_result"
    }
   ],
   "source": [
    "accuracy_score(y_test,y_pred_dt)"
   ]
  },
  {
   "cell_type": "code",
   "execution_count": 49,
   "id": "78cb33e4-de3d-4979-977d-3c0cc0341777",
   "metadata": {},
   "outputs": [
    {
     "data": {
      "text/plain": [
       "array([[ 9, 20],\n",
       "       [22, 69]], dtype=int64)"
      ]
     },
     "execution_count": 49,
     "metadata": {},
     "output_type": "execute_result"
    }
   ],
   "source": [
    "confusion_matrix(y_test, y_pred_dt)"
   ]
  },
  {
   "cell_type": "code",
   "execution_count": 50,
   "id": "7dc868b9-146f-4fde-87d2-11a30161f9d3",
   "metadata": {},
   "outputs": [
    {
     "name": "stdout",
     "output_type": "stream",
     "text": [
      "(480, 5) (120,)\n"
     ]
    }
   ],
   "source": [
    "x_train,x_test, y_train,y_test = train_test_split(x,y,test_size=0.2, random_state=42)\n",
    "print(x_train.shape,y_test.shape)"
   ]
  },
  {
   "cell_type": "code",
   "execution_count": 51,
   "id": "4b83cf8d-0de2-4722-9314-ca60edf12475",
   "metadata": {},
   "outputs": [
    {
     "data": {
      "text/plain": [
       "array([1, 1, 1, 1, 1, 1, 1, 1, 1, 1, 1, 1, 1, 1, 1, 1, 1, 1, 1, 1, 1, 1,\n",
       "       1, 1, 1, 1, 1, 1, 1, 1, 1, 1, 1, 1, 1, 1, 1, 1, 1, 1, 1, 1, 1, 1,\n",
       "       1, 1, 1, 1, 1, 1, 1, 1, 1, 1, 1, 1, 1, 1, 1, 1, 1, 1, 1, 1, 1, 1,\n",
       "       1, 1, 1, 1, 1, 1, 1, 1, 1, 1, 1, 1, 1, 1, 1, 1, 1, 1, 1, 1, 1, 1,\n",
       "       1, 1, 1, 1, 1, 1, 1, 1, 1, 1, 1, 1, 1, 1, 1, 1, 1, 1, 1, 1, 1, 1,\n",
       "       1, 1, 1, 1, 1, 1, 1, 1, 1, 1], dtype=int8)"
      ]
     },
     "execution_count": 51,
     "metadata": {},
     "output_type": "execute_result"
    }
   ],
   "source": [
    "from sklearn.linear_model import LogisticRegression\n",
    "lr1=LogisticRegression()\n",
    "lr1.fit(x_train, y_train)\n",
    "y_pred=lr1.predict(x_test)\n",
    "y_pred"
   ]
  },
  {
   "cell_type": "code",
   "execution_count": 52,
   "id": "002e1f2f-61ce-488a-9f6c-457c7648fac8",
   "metadata": {},
   "outputs": [
    {
     "data": {
      "text/plain": [
       "array([1, 1, 0, 1, 1, 1, 1, 1, 1, 1, 0, 0, 1, 1, 0, 0, 1, 1, 0, 1, 1, 0,\n",
       "       1, 1, 1, 1, 1, 1, 1, 0, 1, 1, 1, 1, 1, 1, 1, 1, 1, 1, 0, 1, 0, 1,\n",
       "       1, 1, 1, 1, 0, 0, 1, 1, 1, 1, 1, 1, 0, 1, 1, 0, 1, 1, 1, 1, 1, 1,\n",
       "       1, 1, 1, 1, 1, 1, 1, 1, 1, 1, 1, 0, 1, 1, 1, 0, 0, 1, 0, 1, 1, 0,\n",
       "       1, 0, 1, 0, 1, 1, 0, 0, 1, 1, 1, 1, 1, 1, 1, 0, 0, 0, 1, 1, 1, 1,\n",
       "       1, 1, 1, 1, 1, 0, 1, 0, 1, 1], dtype=int8)"
      ]
     },
     "execution_count": 52,
     "metadata": {},
     "output_type": "execute_result"
    }
   ],
   "source": [
    "y_test"
   ]
  },
  {
   "cell_type": "code",
   "execution_count": 53,
   "id": "e7f37fab-1ea5-47b7-883f-89791420369c",
   "metadata": {},
   "outputs": [
    {
     "data": {
      "text/plain": [
       "0.7666666666666667"
      ]
     },
     "execution_count": 53,
     "metadata": {},
     "output_type": "execute_result"
    }
   ],
   "source": [
    "accuracy_score(y_test, y_pred)"
   ]
  },
  {
   "cell_type": "code",
   "execution_count": null,
   "id": "0405e40d-cf94-4828-ae8a-6b5fc308fa37",
   "metadata": {},
   "outputs": [],
   "source": []
  },
  {
   "cell_type": "code",
   "execution_count": null,
   "id": "ab50030d-1d1b-4c64-92e1-c3dd2da105ca",
   "metadata": {},
   "outputs": [],
   "source": []
  },
  {
   "cell_type": "code",
   "execution_count": null,
   "id": "e9d8d160-d787-4f90-9596-cf56de8265aa",
   "metadata": {},
   "outputs": [],
   "source": []
  }
 ],
 "metadata": {
  "kernelspec": {
   "display_name": "Python 3 (ipykernel)",
   "language": "python",
   "name": "python3"
  },
  "language_info": {
   "codemirror_mode": {
    "name": "ipython",
    "version": 3
   },
   "file_extension": ".py",
   "mimetype": "text/x-python",
   "name": "python",
   "nbconvert_exporter": "python",
   "pygments_lexer": "ipython3",
   "version": "3.11.7"
  }
 },
 "nbformat": 4,
 "nbformat_minor": 5
}
